{
  "nbformat": 4,
  "nbformat_minor": 0,
  "metadata": {
    "colab": {
      "provenance": []
    },
    "kernelspec": {
      "name": "python3",
      "display_name": "Python 3"
    },
    "language_info": {
      "name": "python"
    }
  },
  "cells": [
    {
      "cell_type": "code",
      "execution_count": null,
      "metadata": {
        "id": "eywPOxzKxGNo"
      },
      "outputs": [],
      "source": [
        "import os\n",
        "import pandas as pd\n",
        "import torch \n",
        "import torchvision\n",
        "import torchvision.transforms as T\n",
        "from torchvision.io import read_image"
      ]
    },
    {
      "cell_type": "code",
      "source": [
        "train_dir = \"/content/drive/MyDrive/chest_xray/train\""
      ],
      "metadata": {
        "id": "PjCUIs1vTg7Q"
      },
      "execution_count": null,
      "outputs": []
    },
    {
      "cell_type": "code",
      "source": [
        "images_path = list()\n",
        "class_path = list()\n",
        "\n",
        "for classes in os.listdir(train_dir):\n",
        "    classes_path = os.path.join(train_dir, classes)\n",
        "    print(classes_path)\n",
        "    \n",
        "    for images in os.listdir(classes_path):\n",
        "        images_path.append([classes_path + \"/\" + images, classes])"
      ],
      "metadata": {
        "colab": {
          "base_uri": "https://localhost:8080/"
        },
        "id": "aiTX_mtPTa7J",
        "outputId": "dbc31ae6-ec86-4579-f7b1-9dfb054c2fb8"
      },
      "execution_count": null,
      "outputs": [
        {
          "output_type": "stream",
          "name": "stdout",
          "text": [
            "/content/drive/MyDrive/chest_xray/train/PNEUMONIA_BACTERIA\n",
            "/content/drive/MyDrive/chest_xray/train/NORMAL\n",
            "/content/drive/MyDrive/chest_xray/train/PNEUMONIA_VIRAL\n"
          ]
        }
      ]
    },
    {
      "cell_type": "code",
      "source": [
        "images_path[1]"
      ],
      "metadata": {
        "colab": {
          "base_uri": "https://localhost:8080/"
        },
        "id": "0-4tFBe_Ttzo",
        "outputId": "3bbaa073-ad8a-42cd-efd6-3404aeb1bd8f"
      },
      "execution_count": null,
      "outputs": [
        {
          "output_type": "execute_result",
          "data": {
            "text/plain": [
              "['/content/drive/MyDrive/chest_xray/train/PNEUMONIA_BACTERIA/BACTERIA-6012984-0002.jpeg',\n",
              " 'PNEUMONIA_BACTERIA']"
            ]
          },
          "metadata": {},
          "execution_count": 22
        }
      ]
    },
    {
      "cell_type": "code",
      "source": [
        "train_df = pd.DataFrame(images_path, columns = ['Filepath', 'label'])"
      ],
      "metadata": {
        "id": "5hUE3NP2T4Qf"
      },
      "execution_count": null,
      "outputs": []
    },
    {
      "cell_type": "code",
      "source": [
        "from torchvision.utils import save_image\n",
        "from tqdm import tqdm\n",
        "\n",
        "for idx, row in tqdm(train_df.iterrows()):\n",
        "    im = read_image(row.Filepath, mode=torchvision.io.ImageReadMode.GRAY)\n",
        "    imP = T.functional.equalize(im)\n",
        "    imP = T.functional.gaussian_blur(imP, kernel_size=(5, 5), sigma=None)\n",
        "    save_image(imP/255., f\"/content/drive/MyDrive/processed_chest_xray/train/{row.label}/{row.Filepath.split('/')[-1]}\")"
      ],
      "metadata": {
        "colab": {
          "base_uri": "https://localhost:8080/"
        },
        "id": "EZccigTzUsGg",
        "outputId": "da3a9ddf-9d3c-4250-ea56-e516dde2a6d6"
      },
      "execution_count": null,
      "outputs": [
        {
          "output_type": "stream",
          "name": "stderr",
          "text": [
            "4112it [56:07,  1.22it/s]\n"
          ]
        }
      ]
    },
    {
      "cell_type": "code",
      "source": [
        "test_dir = \"/content/drive/MyDrive/chest_xray/test\""
      ],
      "metadata": {
        "id": "_GW4fks2WSNH"
      },
      "execution_count": null,
      "outputs": []
    },
    {
      "cell_type": "code",
      "source": [
        "images_path = list()\n",
        "class_path = list()\n",
        "\n",
        "for classes in os.listdir(test_dir):\n",
        "    classes_path = os.path.join(test_dir, classes)\n",
        "    print(classes_path)\n",
        "    \n",
        "    for images in os.listdir(classes_path):\n",
        "        images_path.append([classes_path + \"/\" + images, classes])"
      ],
      "metadata": {
        "colab": {
          "base_uri": "https://localhost:8080/"
        },
        "id": "fEsLG8IeXcUK",
        "outputId": "879636cc-b76c-4a72-fe11-87a0b5cbfcd5"
      },
      "execution_count": null,
      "outputs": [
        {
          "output_type": "stream",
          "name": "stdout",
          "text": [
            "/content/drive/MyDrive/chest_xray/test/PNEUMONIA_VIRAL\n",
            "/content/drive/MyDrive/chest_xray/test/PNEUMONIA_BACTERIA\n",
            "/content/drive/MyDrive/chest_xray/test/NORMAL\n"
          ]
        }
      ]
    },
    {
      "cell_type": "code",
      "source": [
        "test_df = pd.DataFrame(images_path, columns = ['Filepath', 'label'])"
      ],
      "metadata": {
        "id": "k1hYKXBOXi7q"
      },
      "execution_count": null,
      "outputs": []
    },
    {
      "cell_type": "code",
      "source": [
        "from torchvision.utils import save_image\n",
        "from tqdm import tqdm\n",
        "\n",
        "for idx, row in tqdm(test_df.iterrows()):\n",
        "    im = read_image(row.Filepath, mode=torchvision.io.ImageReadMode.GRAY)\n",
        "    imP = T.functional.equalize(im)\n",
        "    imP = T.functional.gaussian_blur(imP, kernel_size=(5, 5), sigma=None)\n",
        "    save_image(imP/255., f\"/content/drive/MyDrive/processed_chest_xray/test/{row.label}/{row.Filepath.split('/')[-1]}\")"
      ],
      "metadata": {
        "colab": {
          "base_uri": "https://localhost:8080/"
        },
        "id": "1a-zRm4bXm4a",
        "outputId": "e2f4bfaa-129b-46e1-b53c-f6ae86bd4257"
      },
      "execution_count": null,
      "outputs": [
        {
          "output_type": "stream",
          "name": "stderr",
          "text": [
            "877it [10:13,  1.43it/s]\n"
          ]
        }
      ]
    },
    {
      "cell_type": "code",
      "source": [
        "val_dir = \"/content/drive/MyDrive/chest_xray/val\""
      ],
      "metadata": {
        "id": "IUNkgI_YXWWR"
      },
      "execution_count": null,
      "outputs": []
    },
    {
      "cell_type": "code",
      "source": [
        "images_path = list()\n",
        "class_path = list()\n",
        "\n",
        "for classes in os.listdir(val_dir):\n",
        "    classes_path = os.path.join(val_dir, classes)\n",
        "    print(classes_path)\n",
        "    \n",
        "    for images in os.listdir(classes_path):\n",
        "        images_path.append([classes_path + \"/\" + images, classes])"
      ],
      "metadata": {
        "colab": {
          "base_uri": "https://localhost:8080/"
        },
        "id": "ThLdYbQmXrUb",
        "outputId": "3b4e8da7-917a-4d99-ff77-73d08365aa64"
      },
      "execution_count": null,
      "outputs": [
        {
          "output_type": "stream",
          "name": "stdout",
          "text": [
            "/content/drive/MyDrive/chest_xray/val/PNEUMONIA_VIRAL\n",
            "/content/drive/MyDrive/chest_xray/val/PNEUMONIA_BACTERIA\n",
            "/content/drive/MyDrive/chest_xray/val/NORMAL\n"
          ]
        }
      ]
    },
    {
      "cell_type": "code",
      "source": [
        "val_df = pd.DataFrame(images_path, columns = ['Filepath', 'label'])"
      ],
      "metadata": {
        "id": "78flbi84Xx-i"
      },
      "execution_count": null,
      "outputs": []
    },
    {
      "cell_type": "code",
      "source": [
        "from torchvision.utils import save_image\n",
        "from tqdm import tqdm\n",
        "\n",
        "for idx, row in tqdm(val_df.iterrows()):\n",
        "    im = read_image(row.Filepath, mode=torchvision.io.ImageReadMode.GRAY)\n",
        "    imP = T.functional.equalize(im)\n",
        "    imP = T.functional.gaussian_blur(imP, kernel_size=(5, 5), sigma=None)\n",
        "    save_image(imP/255., f\"/content/drive/MyDrive/processed_chest_xray/val/{row.label}/{row.Filepath.split('/')[-1]}\")"
      ],
      "metadata": {
        "colab": {
          "base_uri": "https://localhost:8080/"
        },
        "id": "U9h-BMmOX2D5",
        "outputId": "8092110d-e91a-4798-d3f7-a5043b830f67"
      },
      "execution_count": null,
      "outputs": [
        {
          "output_type": "stream",
          "name": "stderr",
          "text": [
            "877it [10:13,  1.43it/s]\n"
          ]
        }
      ]
    },
    {
      "cell_type": "code",
      "source": [],
      "metadata": {
        "id": "4n17Y7twnWAk"
      },
      "execution_count": null,
      "outputs": []
    }
  ]
}