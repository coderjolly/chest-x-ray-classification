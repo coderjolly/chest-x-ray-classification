{
  "nbformat": 4,
  "nbformat_minor": 0,
  "metadata": {
    "colab": {
      "provenance": []
    },
    "kernelspec": {
      "name": "python3",
      "display_name": "Python 3"
    },
    "language_info": {
      "name": "python"
    },
    "accelerator": "GPU",
    "gpuClass": "standard",
    "widgets": {
      "application/vnd.jupyter.widget-state+json": {
        "aa50cb1046794f4fba21d8ff262ce832": {
          "model_module": "@jupyter-widgets/controls",
          "model_name": "HBoxModel",
          "model_module_version": "1.5.0",
          "state": {
            "_dom_classes": [],
            "_model_module": "@jupyter-widgets/controls",
            "_model_module_version": "1.5.0",
            "_model_name": "HBoxModel",
            "_view_count": null,
            "_view_module": "@jupyter-widgets/controls",
            "_view_module_version": "1.5.0",
            "_view_name": "HBoxView",
            "box_style": "",
            "children": [
              "IPY_MODEL_4b04a67dacb0436bba75197069e6f67d",
              "IPY_MODEL_97e967754270456eb72bc595da2ad099",
              "IPY_MODEL_1251eab002d144c0ac5c42d8dbf0b53f"
            ],
            "layout": "IPY_MODEL_0a6c26de771948c2889cac42975fd94e"
          }
        },
        "4b04a67dacb0436bba75197069e6f67d": {
          "model_module": "@jupyter-widgets/controls",
          "model_name": "HTMLModel",
          "model_module_version": "1.5.0",
          "state": {
            "_dom_classes": [],
            "_model_module": "@jupyter-widgets/controls",
            "_model_module_version": "1.5.0",
            "_model_name": "HTMLModel",
            "_view_count": null,
            "_view_module": "@jupyter-widgets/controls",
            "_view_module_version": "1.5.0",
            "_view_name": "HTMLView",
            "description": "",
            "description_tooltip": null,
            "layout": "IPY_MODEL_73590794715f41d7ab3293ee2cf88b04",
            "placeholder": "​",
            "style": "IPY_MODEL_35c762b23f674e179021843d25dec69c",
            "value": "100%"
          }
        },
        "97e967754270456eb72bc595da2ad099": {
          "model_module": "@jupyter-widgets/controls",
          "model_name": "FloatProgressModel",
          "model_module_version": "1.5.0",
          "state": {
            "_dom_classes": [],
            "_model_module": "@jupyter-widgets/controls",
            "_model_module_version": "1.5.0",
            "_model_name": "FloatProgressModel",
            "_view_count": null,
            "_view_module": "@jupyter-widgets/controls",
            "_view_module_version": "1.5.0",
            "_view_name": "ProgressView",
            "bar_style": "success",
            "description": "",
            "description_tooltip": null,
            "layout": "IPY_MODEL_ae5f934548c645f0a434c2c6a42a8cb8",
            "max": 31597577,
            "min": 0,
            "orientation": "horizontal",
            "style": "IPY_MODEL_812a425dc9bd4ab0bacbfaabc13d1125",
            "value": 31597577
          }
        },
        "1251eab002d144c0ac5c42d8dbf0b53f": {
          "model_module": "@jupyter-widgets/controls",
          "model_name": "HTMLModel",
          "model_module_version": "1.5.0",
          "state": {
            "_dom_classes": [],
            "_model_module": "@jupyter-widgets/controls",
            "_model_module_version": "1.5.0",
            "_model_name": "HTMLModel",
            "_view_count": null,
            "_view_module": "@jupyter-widgets/controls",
            "_view_module_version": "1.5.0",
            "_view_name": "HTMLView",
            "description": "",
            "description_tooltip": null,
            "layout": "IPY_MODEL_6aa68bd29bc7439b93f336359d245251",
            "placeholder": "​",
            "style": "IPY_MODEL_e74accd914714c29b9956e567fd8a61d",
            "value": " 30.1M/30.1M [00:00&lt;00:00, 113MB/s]"
          }
        },
        "0a6c26de771948c2889cac42975fd94e": {
          "model_module": "@jupyter-widgets/base",
          "model_name": "LayoutModel",
          "model_module_version": "1.2.0",
          "state": {
            "_model_module": "@jupyter-widgets/base",
            "_model_module_version": "1.2.0",
            "_model_name": "LayoutModel",
            "_view_count": null,
            "_view_module": "@jupyter-widgets/base",
            "_view_module_version": "1.2.0",
            "_view_name": "LayoutView",
            "align_content": null,
            "align_items": null,
            "align_self": null,
            "border": null,
            "bottom": null,
            "display": null,
            "flex": null,
            "flex_flow": null,
            "grid_area": null,
            "grid_auto_columns": null,
            "grid_auto_flow": null,
            "grid_auto_rows": null,
            "grid_column": null,
            "grid_gap": null,
            "grid_row": null,
            "grid_template_areas": null,
            "grid_template_columns": null,
            "grid_template_rows": null,
            "height": null,
            "justify_content": null,
            "justify_items": null,
            "left": null,
            "margin": null,
            "max_height": null,
            "max_width": null,
            "min_height": null,
            "min_width": null,
            "object_fit": null,
            "object_position": null,
            "order": null,
            "overflow": null,
            "overflow_x": null,
            "overflow_y": null,
            "padding": null,
            "right": null,
            "top": null,
            "visibility": null,
            "width": null
          }
        },
        "73590794715f41d7ab3293ee2cf88b04": {
          "model_module": "@jupyter-widgets/base",
          "model_name": "LayoutModel",
          "model_module_version": "1.2.0",
          "state": {
            "_model_module": "@jupyter-widgets/base",
            "_model_module_version": "1.2.0",
            "_model_name": "LayoutModel",
            "_view_count": null,
            "_view_module": "@jupyter-widgets/base",
            "_view_module_version": "1.2.0",
            "_view_name": "LayoutView",
            "align_content": null,
            "align_items": null,
            "align_self": null,
            "border": null,
            "bottom": null,
            "display": null,
            "flex": null,
            "flex_flow": null,
            "grid_area": null,
            "grid_auto_columns": null,
            "grid_auto_flow": null,
            "grid_auto_rows": null,
            "grid_column": null,
            "grid_gap": null,
            "grid_row": null,
            "grid_template_areas": null,
            "grid_template_columns": null,
            "grid_template_rows": null,
            "height": null,
            "justify_content": null,
            "justify_items": null,
            "left": null,
            "margin": null,
            "max_height": null,
            "max_width": null,
            "min_height": null,
            "min_width": null,
            "object_fit": null,
            "object_position": null,
            "order": null,
            "overflow": null,
            "overflow_x": null,
            "overflow_y": null,
            "padding": null,
            "right": null,
            "top": null,
            "visibility": null,
            "width": null
          }
        },
        "35c762b23f674e179021843d25dec69c": {
          "model_module": "@jupyter-widgets/controls",
          "model_name": "DescriptionStyleModel",
          "model_module_version": "1.5.0",
          "state": {
            "_model_module": "@jupyter-widgets/controls",
            "_model_module_version": "1.5.0",
            "_model_name": "DescriptionStyleModel",
            "_view_count": null,
            "_view_module": "@jupyter-widgets/base",
            "_view_module_version": "1.2.0",
            "_view_name": "StyleView",
            "description_width": ""
          }
        },
        "ae5f934548c645f0a434c2c6a42a8cb8": {
          "model_module": "@jupyter-widgets/base",
          "model_name": "LayoutModel",
          "model_module_version": "1.2.0",
          "state": {
            "_model_module": "@jupyter-widgets/base",
            "_model_module_version": "1.2.0",
            "_model_name": "LayoutModel",
            "_view_count": null,
            "_view_module": "@jupyter-widgets/base",
            "_view_module_version": "1.2.0",
            "_view_name": "LayoutView",
            "align_content": null,
            "align_items": null,
            "align_self": null,
            "border": null,
            "bottom": null,
            "display": null,
            "flex": null,
            "flex_flow": null,
            "grid_area": null,
            "grid_auto_columns": null,
            "grid_auto_flow": null,
            "grid_auto_rows": null,
            "grid_column": null,
            "grid_gap": null,
            "grid_row": null,
            "grid_template_areas": null,
            "grid_template_columns": null,
            "grid_template_rows": null,
            "height": null,
            "justify_content": null,
            "justify_items": null,
            "left": null,
            "margin": null,
            "max_height": null,
            "max_width": null,
            "min_height": null,
            "min_width": null,
            "object_fit": null,
            "object_position": null,
            "order": null,
            "overflow": null,
            "overflow_x": null,
            "overflow_y": null,
            "padding": null,
            "right": null,
            "top": null,
            "visibility": null,
            "width": null
          }
        },
        "812a425dc9bd4ab0bacbfaabc13d1125": {
          "model_module": "@jupyter-widgets/controls",
          "model_name": "ProgressStyleModel",
          "model_module_version": "1.5.0",
          "state": {
            "_model_module": "@jupyter-widgets/controls",
            "_model_module_version": "1.5.0",
            "_model_name": "ProgressStyleModel",
            "_view_count": null,
            "_view_module": "@jupyter-widgets/base",
            "_view_module_version": "1.2.0",
            "_view_name": "StyleView",
            "bar_color": null,
            "description_width": ""
          }
        },
        "6aa68bd29bc7439b93f336359d245251": {
          "model_module": "@jupyter-widgets/base",
          "model_name": "LayoutModel",
          "model_module_version": "1.2.0",
          "state": {
            "_model_module": "@jupyter-widgets/base",
            "_model_module_version": "1.2.0",
            "_model_name": "LayoutModel",
            "_view_count": null,
            "_view_module": "@jupyter-widgets/base",
            "_view_module_version": "1.2.0",
            "_view_name": "LayoutView",
            "align_content": null,
            "align_items": null,
            "align_self": null,
            "border": null,
            "bottom": null,
            "display": null,
            "flex": null,
            "flex_flow": null,
            "grid_area": null,
            "grid_auto_columns": null,
            "grid_auto_flow": null,
            "grid_auto_rows": null,
            "grid_column": null,
            "grid_gap": null,
            "grid_row": null,
            "grid_template_areas": null,
            "grid_template_columns": null,
            "grid_template_rows": null,
            "height": null,
            "justify_content": null,
            "justify_items": null,
            "left": null,
            "margin": null,
            "max_height": null,
            "max_width": null,
            "min_height": null,
            "min_width": null,
            "object_fit": null,
            "object_position": null,
            "order": null,
            "overflow": null,
            "overflow_x": null,
            "overflow_y": null,
            "padding": null,
            "right": null,
            "top": null,
            "visibility": null,
            "width": null
          }
        },
        "e74accd914714c29b9956e567fd8a61d": {
          "model_module": "@jupyter-widgets/controls",
          "model_name": "DescriptionStyleModel",
          "model_module_version": "1.5.0",
          "state": {
            "_model_module": "@jupyter-widgets/controls",
            "_model_module_version": "1.5.0",
            "_model_name": "DescriptionStyleModel",
            "_view_count": null,
            "_view_module": "@jupyter-widgets/base",
            "_view_module_version": "1.2.0",
            "_view_name": "StyleView",
            "description_width": ""
          }
        }
      }
    }
  },
  "cells": [
    {
      "cell_type": "markdown",
      "source": [
        "# Importing Libraries"
      ],
      "metadata": {
        "id": "K2Uyne13w4M-"
      }
    },
    {
      "cell_type": "code",
      "execution_count": 1,
      "metadata": {
        "id": "QJIHGURSwwgj"
      },
      "outputs": [],
      "source": [
        "import os\n",
        "import copy\n",
        "import time\n",
        "import random\n",
        "import pickle\n",
        "\n",
        "import numpy as np\n",
        "import pandas as pd\n",
        "from PIL import Image\n",
        "from pathlib import Path\n",
        "from tqdm import tqdm\n",
        "\n",
        "from sklearn.metrics import f1_score, confusion_matrix\n",
        "from numpy.random import shuffle\n",
        "import matplotlib.pyplot as plt\n",
        "\n",
        "import torch\n",
        "import torchvision\n",
        "from torchvision.io import read_image\n",
        "import torchvision.transforms as T\n",
        "import torch.nn as nn\n",
        "import torch.optim as optim\n",
        "from torchvision import datasets, models, transforms\n",
        "import torch.autograd.profiler as tprofiler\n",
        "import torch.utils.data as td\n",
        "\n",
        "import torchvision.transforms as transforms\n",
        "import torchvision.datasets as datasets\n",
        "import torch.utils.data as td\n",
        "import numpy as np\n",
        "import matplotlib.pyplot as plt\n",
        "import torch.nn as nn\n",
        "import torch.nn.functional as F\n",
        "from matplotlib import image\n",
        "import time\n",
        "from torchsummary import summary\n",
        "import seaborn as sns\n",
        "\n",
        "from typing import Type, Any, Callable, Union, List, Optional, cast\n",
        "from collections import OrderedDict \n",
        "\n",
        "plt.rcParams[\"savefig.bbox\"] = 'tight'"
      ]
    },
    {
      "cell_type": "markdown",
      "source": [
        "# Loading Data part"
      ],
      "metadata": {
        "id": "iLXOGrFJxAQP"
      }
    },
    {
      "cell_type": "code",
      "source": [
        "seed = 42\n",
        "\n",
        "random.seed(seed)\n",
        "\n",
        "# pytorch RNGs\n",
        "torch.manual_seed(seed)\n",
        "torch.backends.cudnn.deterministic = True\n",
        "if torch.cuda.is_available(): torch.cuda.manual_seed_all(seed)\n",
        "\n",
        "# numpy RNG\n",
        "np.random.seed(seed)"
      ],
      "metadata": {
        "id": "uFnTlZFww7dD"
      },
      "execution_count": 2,
      "outputs": []
    },
    {
      "cell_type": "code",
      "source": [
        "from google.colab import drive\n",
        "drive.mount('/content/drive')"
      ],
      "metadata": {
        "colab": {
          "base_uri": "https://localhost:8080/"
        },
        "id": "XOMFnuIqxCYq",
        "outputId": "682828a6-e68f-406a-a621-668b19bd9534"
      },
      "execution_count": 3,
      "outputs": [
        {
          "output_type": "stream",
          "name": "stdout",
          "text": [
            "Mounted at /content/drive\n"
          ]
        }
      ]
    },
    {
      "cell_type": "code",
      "source": [
        "batch_size = 8\n",
        "norm_arr = ([0.5159, 0.5159, 0.5159], [0.2554, 0.2554, 0.2554])\n",
        "num_workers = 12\n",
        "\n",
        "import os\n",
        "import torchvision.transforms as T\n",
        "from torchvision import datasets\n",
        "import torch.utils.data as td\n",
        "\n",
        "class_names = []\n",
        "\n",
        "def load_data(path, batch_size, input_size, norm_arr, \n",
        "              num_workers=0):\n",
        "    \n",
        "    transform_dict = {\"train\": \n",
        "                          T.Compose([\n",
        "                            #T.ToPILImage(),\n",
        "                            T.Resize(size=input_size),\n",
        "\n",
        "                            T.RandomHorizontalFlip(),\n",
        "                            #T.ColorJitter(contrast=0.5),\n",
        "                            T.RandomAdjustSharpness(2),\n",
        "                            T.RandomAutocontrast(),\n",
        "\n",
        "                            T.ToTensor(),\n",
        "                            T.Normalize(*norm_arr)]),\n",
        "                        \"test_val\": \n",
        "                          T.Compose([\n",
        "                            #T.ToPILImage(),\n",
        "                            T.Resize(size=input_size),\n",
        "                            T.ToTensor(),\n",
        "                            T.Normalize(*norm_arr)])\n",
        "                        }\n",
        "    \n",
        "    # train_dataset = datasets.ImageFolder(root=os.path.join(path, \"train\"),\n",
        "    #                                      transform=transform_dict[\"train\"])\n",
        "    \n",
        "    # class_names = train_dataset.classes\n",
        "    # print(class_names)\n",
        "\n",
        "    test_dataset = datasets.ImageFolder(root=os.path.join(path, \"test\"),\n",
        "                                        transform=transform_dict[\"test_val\"])\n",
        "    \n",
        "    # data_loader_train = td.DataLoader(train_dataset,\n",
        "    #                                   batch_size=batch_size,\n",
        "    #                                   shuffle=True,\n",
        "    #                                   drop_last=False,\n",
        "    #                                   num_workers=num_workers,\n",
        "    #                                   pin_memory=True)\n",
        "    data_loader_test = td.DataLoader(test_dataset,\n",
        "                                     batch_size=batch_size,\n",
        "                                     shuffle=True,\n",
        "                                     drop_last=False,\n",
        "                                     num_workers=num_workers,\n",
        "                                     pin_memory=True)\n",
        "\n",
        "    return {\n",
        "            'test':  data_loader_test}"
      ],
      "metadata": {
        "id": "tk3Tav6RxDxK"
      },
      "execution_count": 4,
      "outputs": []
    },
    {
      "cell_type": "code",
      "source": [
        "images_dir = \"drive/MyDrive/covid_radiography\""
      ],
      "metadata": {
        "id": "ku84kc4uxYOW"
      },
      "execution_count": 5,
      "outputs": []
    },
    {
      "cell_type": "code",
      "source": [
        "data_loaders = load_data(images_dir,\n",
        "                         batch_size = batch_size, \n",
        "                         input_size = (256, 256), \n",
        "                         norm_arr = norm_arr,\n",
        "                         num_workers=num_workers)"
      ],
      "metadata": {
        "colab": {
          "base_uri": "https://localhost:8080/"
        },
        "id": "2ZTCYtaQxKct",
        "outputId": "fb3dc024-c426-4c47-c909-b2498ee39921"
      },
      "execution_count": 6,
      "outputs": [
        {
          "output_type": "stream",
          "name": "stderr",
          "text": [
            "/usr/local/lib/python3.8/dist-packages/torch/utils/data/dataloader.py:563: UserWarning: This DataLoader will create 12 worker processes in total. Our suggested max number of worker in current system is 2, which is smaller than what this DataLoader is going to create. Please be aware that excessive worker creation might get DataLoader running slow or even freeze, lower the worker number to avoid potential slowness/freeze if necessary.\n",
            "  warnings.warn(_create_warning_msg(\n"
          ]
        }
      ]
    },
    {
      "cell_type": "markdown",
      "source": [
        "# Loading Saved Model"
      ],
      "metadata": {
        "id": "YxYnPoGtzDiV"
      }
    },
    {
      "cell_type": "code",
      "source": [
        "# from utils file\n",
        "\n",
        "from torchvision import models\n",
        "import torch.nn as nn\n",
        "\n",
        "def set_requires_grad(model, feature_extracting):\n",
        "    if feature_extracting:\n",
        "        for param in model.parameters():\n",
        "            param.requires_grad = False\n",
        "\n",
        "\n",
        "def initialize_model(model_name, num_classes, feature_extract, use_pretrained=None):\n",
        "    '''\n",
        "    Initialize models for training.\n",
        "    '''\n",
        "    model_ft = None\n",
        "    input_size = 0\n",
        "\n",
        "    if model_name == \"resnet50\":\n",
        "        \"\"\" \n",
        "            Returns a Resnet 50 model.\n",
        "        \"\"\"\n",
        "        model_ft = models.resnet50(weights=use_pretrained)\n",
        "        set_requires_grad(model_ft, feature_extract)\n",
        "        num_ftrs = model_ft.fc.in_features\n",
        "        model_ft.fc = nn.Linear(num_ftrs, num_classes)\n",
        "        input_size = 232\n",
        "        \n",
        "    elif model_name == \"resnet34\":\n",
        "        \"\"\" \n",
        "            Returns a Resnet 34 model.\n",
        "        \"\"\"\n",
        "        model_ft = models.resnet34(weights=use_pretrained)\n",
        "        set_requires_grad(model_ft, feature_extract)\n",
        "        num_ftrs = model_ft.fc.in_features\n",
        "        model_ft.fc = nn.Linear(num_ftrs, num_classes)\n",
        "        input_size = 256\n",
        "\n",
        "    elif model_name == \"inceptionv3\":\n",
        "        \"\"\" \n",
        "            Returns an Inception v3 model.\n",
        "        \"\"\"\n",
        "        model_ft = models.inception_v3(weights=use_pretrained)\n",
        "        set_requires_grad(model_ft, feature_extract)\n",
        "        # Auxilary network.\n",
        "        num_ftrs = model_ft.AuxLogits.fc.in_features\n",
        "        model_ft.AuxLogits.fc = nn.Linear(num_ftrs, num_classes)\n",
        "        # Primary network.\n",
        "        num_ftrs = model_ft.fc.in_features\n",
        "        model_ft.fc = nn.Linear(num_ftrs, num_classes)\n",
        "        input_size = 299\n",
        "        \n",
        "    elif model_name == \"vgg16\":\n",
        "        \"\"\" \n",
        "            Returns a VGG 16 model with batch normalization.\n",
        "        \"\"\"\n",
        "        model_ft = models.vgg16_bn(weights=use_pretrained)\n",
        "        set_requires_grad(model_ft, feature_extract)\n",
        "        num_ftrs = model_ft.classifier[6].in_features\n",
        "        model_ft.classifier[6] = nn.Linear(num_ftrs, num_classes)\n",
        "        input_size = 256\n",
        "\n",
        "    elif model_name == \"mobile_net_v3_large\":\n",
        "        \"\"\" \n",
        "            returns a mobile net V3 large model.\n",
        "        \"\"\"\n",
        "        model_ft = models.mobilenet_v3_large(weights=use_pretrained)\n",
        "        set_requires_grad(model_ft, feature_extract)\n",
        "        num_ftrs = model_ft.classifier[3].in_features\n",
        "        model_ft.classifier[3] = nn.Linear(num_ftrs, num_classes, bias=True)\n",
        "        input_size = 232\n",
        "\n",
        "    elif model_name == \"efficient_net_b1\":\n",
        "        \"\"\" \n",
        "            Returns an efficient net b1 model.\n",
        "        \"\"\"\n",
        "        model_ft = models.efficientnet_b1(weights=use_pretrained)\n",
        "        set_requires_grad(model_ft, feature_extract)\n",
        "        num_ftrs = model_ft.classifier[1].in_features\n",
        "        model_ft.classifier[1] = nn.Linear(num_ftrs, num_classes, bias=True)\n",
        "        input_size = 255\n",
        "\n",
        "    elif model_name == \"efficient_net_b0\":\n",
        "        \"\"\" \n",
        "            Returns an efficient net b0 model.\n",
        "        \"\"\"\n",
        "        model_ft = models.efficientnet_b0(weights=use_pretrained)\n",
        "        set_requires_grad(model_ft, feature_extract)\n",
        "        num_ftrs = model_ft.classifier[1].in_features\n",
        "        model_ft.classifier[1] = nn.Linear(num_ftrs, num_classes, bias=True)\n",
        "        input_size = 256\n",
        "\n",
        "    else:\n",
        "        print(\"Unavailable model selected.\")\n",
        "\n",
        "    return model_ft, input_size"
      ],
      "metadata": {
        "id": "QsdiQKx9xOba"
      },
      "execution_count": 7,
      "outputs": []
    },
    {
      "cell_type": "code",
      "source": [
        "# parameters for model loading and data loading\n",
        "\n",
        "device = torch.device(\"cuda:0\" if torch.cuda.is_available() else \"cpu\")\n",
        "\n",
        "# Models options: resnet50, resnet34, inceptionv3, vgg16, mobile_net_v3_large, efficient_net_b1, efficient_net_b0.\n",
        "model_name = \"resnet34\"\n",
        "\n",
        "# Number of classes.\n",
        "num_classes = 3\n",
        "\n",
        "# Covid Pneumonia dataset metrics\n",
        "norm_arr = ([0.5159, 0.5159, 0.5159], [0.2554, 0.2554, 0.2554])\n",
        "\n",
        "# Feature extract flag: False - Tune the whole model,\n",
        "#                       True - Update only the reshaped layer parameters.\n",
        "feature_extract = False\n",
        "\n",
        "# Use pretrained flag: None - Use random weights\n",
        "#                      String - Use pretrained weights given by String\n",
        "use_pretrained = None\n",
        "\n",
        "# Initialize the model for this run.\n",
        "resnet, input_size = initialize_model(model_name, num_classes, feature_extract, use_pretrained=use_pretrained)\n"
      ],
      "metadata": {
        "id": "TiogAePyzJW0"
      },
      "execution_count": 8,
      "outputs": []
    },
    {
      "cell_type": "code",
      "source": [
        "resnet"
      ],
      "metadata": {
        "colab": {
          "base_uri": "https://localhost:8080/"
        },
        "id": "qL-pcBxVr1kO",
        "outputId": "b917e5e8-12ea-43df-d2e6-6856c1ea252b"
      },
      "execution_count": 9,
      "outputs": [
        {
          "output_type": "execute_result",
          "data": {
            "text/plain": [
              "ResNet(\n",
              "  (conv1): Conv2d(3, 64, kernel_size=(7, 7), stride=(2, 2), padding=(3, 3), bias=False)\n",
              "  (bn1): BatchNorm2d(64, eps=1e-05, momentum=0.1, affine=True, track_running_stats=True)\n",
              "  (relu): ReLU(inplace=True)\n",
              "  (maxpool): MaxPool2d(kernel_size=3, stride=2, padding=1, dilation=1, ceil_mode=False)\n",
              "  (layer1): Sequential(\n",
              "    (0): BasicBlock(\n",
              "      (conv1): Conv2d(64, 64, kernel_size=(3, 3), stride=(1, 1), padding=(1, 1), bias=False)\n",
              "      (bn1): BatchNorm2d(64, eps=1e-05, momentum=0.1, affine=True, track_running_stats=True)\n",
              "      (relu): ReLU(inplace=True)\n",
              "      (conv2): Conv2d(64, 64, kernel_size=(3, 3), stride=(1, 1), padding=(1, 1), bias=False)\n",
              "      (bn2): BatchNorm2d(64, eps=1e-05, momentum=0.1, affine=True, track_running_stats=True)\n",
              "    )\n",
              "    (1): BasicBlock(\n",
              "      (conv1): Conv2d(64, 64, kernel_size=(3, 3), stride=(1, 1), padding=(1, 1), bias=False)\n",
              "      (bn1): BatchNorm2d(64, eps=1e-05, momentum=0.1, affine=True, track_running_stats=True)\n",
              "      (relu): ReLU(inplace=True)\n",
              "      (conv2): Conv2d(64, 64, kernel_size=(3, 3), stride=(1, 1), padding=(1, 1), bias=False)\n",
              "      (bn2): BatchNorm2d(64, eps=1e-05, momentum=0.1, affine=True, track_running_stats=True)\n",
              "    )\n",
              "    (2): BasicBlock(\n",
              "      (conv1): Conv2d(64, 64, kernel_size=(3, 3), stride=(1, 1), padding=(1, 1), bias=False)\n",
              "      (bn1): BatchNorm2d(64, eps=1e-05, momentum=0.1, affine=True, track_running_stats=True)\n",
              "      (relu): ReLU(inplace=True)\n",
              "      (conv2): Conv2d(64, 64, kernel_size=(3, 3), stride=(1, 1), padding=(1, 1), bias=False)\n",
              "      (bn2): BatchNorm2d(64, eps=1e-05, momentum=0.1, affine=True, track_running_stats=True)\n",
              "    )\n",
              "  )\n",
              "  (layer2): Sequential(\n",
              "    (0): BasicBlock(\n",
              "      (conv1): Conv2d(64, 128, kernel_size=(3, 3), stride=(2, 2), padding=(1, 1), bias=False)\n",
              "      (bn1): BatchNorm2d(128, eps=1e-05, momentum=0.1, affine=True, track_running_stats=True)\n",
              "      (relu): ReLU(inplace=True)\n",
              "      (conv2): Conv2d(128, 128, kernel_size=(3, 3), stride=(1, 1), padding=(1, 1), bias=False)\n",
              "      (bn2): BatchNorm2d(128, eps=1e-05, momentum=0.1, affine=True, track_running_stats=True)\n",
              "      (downsample): Sequential(\n",
              "        (0): Conv2d(64, 128, kernel_size=(1, 1), stride=(2, 2), bias=False)\n",
              "        (1): BatchNorm2d(128, eps=1e-05, momentum=0.1, affine=True, track_running_stats=True)\n",
              "      )\n",
              "    )\n",
              "    (1): BasicBlock(\n",
              "      (conv1): Conv2d(128, 128, kernel_size=(3, 3), stride=(1, 1), padding=(1, 1), bias=False)\n",
              "      (bn1): BatchNorm2d(128, eps=1e-05, momentum=0.1, affine=True, track_running_stats=True)\n",
              "      (relu): ReLU(inplace=True)\n",
              "      (conv2): Conv2d(128, 128, kernel_size=(3, 3), stride=(1, 1), padding=(1, 1), bias=False)\n",
              "      (bn2): BatchNorm2d(128, eps=1e-05, momentum=0.1, affine=True, track_running_stats=True)\n",
              "    )\n",
              "    (2): BasicBlock(\n",
              "      (conv1): Conv2d(128, 128, kernel_size=(3, 3), stride=(1, 1), padding=(1, 1), bias=False)\n",
              "      (bn1): BatchNorm2d(128, eps=1e-05, momentum=0.1, affine=True, track_running_stats=True)\n",
              "      (relu): ReLU(inplace=True)\n",
              "      (conv2): Conv2d(128, 128, kernel_size=(3, 3), stride=(1, 1), padding=(1, 1), bias=False)\n",
              "      (bn2): BatchNorm2d(128, eps=1e-05, momentum=0.1, affine=True, track_running_stats=True)\n",
              "    )\n",
              "    (3): BasicBlock(\n",
              "      (conv1): Conv2d(128, 128, kernel_size=(3, 3), stride=(1, 1), padding=(1, 1), bias=False)\n",
              "      (bn1): BatchNorm2d(128, eps=1e-05, momentum=0.1, affine=True, track_running_stats=True)\n",
              "      (relu): ReLU(inplace=True)\n",
              "      (conv2): Conv2d(128, 128, kernel_size=(3, 3), stride=(1, 1), padding=(1, 1), bias=False)\n",
              "      (bn2): BatchNorm2d(128, eps=1e-05, momentum=0.1, affine=True, track_running_stats=True)\n",
              "    )\n",
              "  )\n",
              "  (layer3): Sequential(\n",
              "    (0): BasicBlock(\n",
              "      (conv1): Conv2d(128, 256, kernel_size=(3, 3), stride=(2, 2), padding=(1, 1), bias=False)\n",
              "      (bn1): BatchNorm2d(256, eps=1e-05, momentum=0.1, affine=True, track_running_stats=True)\n",
              "      (relu): ReLU(inplace=True)\n",
              "      (conv2): Conv2d(256, 256, kernel_size=(3, 3), stride=(1, 1), padding=(1, 1), bias=False)\n",
              "      (bn2): BatchNorm2d(256, eps=1e-05, momentum=0.1, affine=True, track_running_stats=True)\n",
              "      (downsample): Sequential(\n",
              "        (0): Conv2d(128, 256, kernel_size=(1, 1), stride=(2, 2), bias=False)\n",
              "        (1): BatchNorm2d(256, eps=1e-05, momentum=0.1, affine=True, track_running_stats=True)\n",
              "      )\n",
              "    )\n",
              "    (1): BasicBlock(\n",
              "      (conv1): Conv2d(256, 256, kernel_size=(3, 3), stride=(1, 1), padding=(1, 1), bias=False)\n",
              "      (bn1): BatchNorm2d(256, eps=1e-05, momentum=0.1, affine=True, track_running_stats=True)\n",
              "      (relu): ReLU(inplace=True)\n",
              "      (conv2): Conv2d(256, 256, kernel_size=(3, 3), stride=(1, 1), padding=(1, 1), bias=False)\n",
              "      (bn2): BatchNorm2d(256, eps=1e-05, momentum=0.1, affine=True, track_running_stats=True)\n",
              "    )\n",
              "    (2): BasicBlock(\n",
              "      (conv1): Conv2d(256, 256, kernel_size=(3, 3), stride=(1, 1), padding=(1, 1), bias=False)\n",
              "      (bn1): BatchNorm2d(256, eps=1e-05, momentum=0.1, affine=True, track_running_stats=True)\n",
              "      (relu): ReLU(inplace=True)\n",
              "      (conv2): Conv2d(256, 256, kernel_size=(3, 3), stride=(1, 1), padding=(1, 1), bias=False)\n",
              "      (bn2): BatchNorm2d(256, eps=1e-05, momentum=0.1, affine=True, track_running_stats=True)\n",
              "    )\n",
              "    (3): BasicBlock(\n",
              "      (conv1): Conv2d(256, 256, kernel_size=(3, 3), stride=(1, 1), padding=(1, 1), bias=False)\n",
              "      (bn1): BatchNorm2d(256, eps=1e-05, momentum=0.1, affine=True, track_running_stats=True)\n",
              "      (relu): ReLU(inplace=True)\n",
              "      (conv2): Conv2d(256, 256, kernel_size=(3, 3), stride=(1, 1), padding=(1, 1), bias=False)\n",
              "      (bn2): BatchNorm2d(256, eps=1e-05, momentum=0.1, affine=True, track_running_stats=True)\n",
              "    )\n",
              "    (4): BasicBlock(\n",
              "      (conv1): Conv2d(256, 256, kernel_size=(3, 3), stride=(1, 1), padding=(1, 1), bias=False)\n",
              "      (bn1): BatchNorm2d(256, eps=1e-05, momentum=0.1, affine=True, track_running_stats=True)\n",
              "      (relu): ReLU(inplace=True)\n",
              "      (conv2): Conv2d(256, 256, kernel_size=(3, 3), stride=(1, 1), padding=(1, 1), bias=False)\n",
              "      (bn2): BatchNorm2d(256, eps=1e-05, momentum=0.1, affine=True, track_running_stats=True)\n",
              "    )\n",
              "    (5): BasicBlock(\n",
              "      (conv1): Conv2d(256, 256, kernel_size=(3, 3), stride=(1, 1), padding=(1, 1), bias=False)\n",
              "      (bn1): BatchNorm2d(256, eps=1e-05, momentum=0.1, affine=True, track_running_stats=True)\n",
              "      (relu): ReLU(inplace=True)\n",
              "      (conv2): Conv2d(256, 256, kernel_size=(3, 3), stride=(1, 1), padding=(1, 1), bias=False)\n",
              "      (bn2): BatchNorm2d(256, eps=1e-05, momentum=0.1, affine=True, track_running_stats=True)\n",
              "    )\n",
              "  )\n",
              "  (layer4): Sequential(\n",
              "    (0): BasicBlock(\n",
              "      (conv1): Conv2d(256, 512, kernel_size=(3, 3), stride=(2, 2), padding=(1, 1), bias=False)\n",
              "      (bn1): BatchNorm2d(512, eps=1e-05, momentum=0.1, affine=True, track_running_stats=True)\n",
              "      (relu): ReLU(inplace=True)\n",
              "      (conv2): Conv2d(512, 512, kernel_size=(3, 3), stride=(1, 1), padding=(1, 1), bias=False)\n",
              "      (bn2): BatchNorm2d(512, eps=1e-05, momentum=0.1, affine=True, track_running_stats=True)\n",
              "      (downsample): Sequential(\n",
              "        (0): Conv2d(256, 512, kernel_size=(1, 1), stride=(2, 2), bias=False)\n",
              "        (1): BatchNorm2d(512, eps=1e-05, momentum=0.1, affine=True, track_running_stats=True)\n",
              "      )\n",
              "    )\n",
              "    (1): BasicBlock(\n",
              "      (conv1): Conv2d(512, 512, kernel_size=(3, 3), stride=(1, 1), padding=(1, 1), bias=False)\n",
              "      (bn1): BatchNorm2d(512, eps=1e-05, momentum=0.1, affine=True, track_running_stats=True)\n",
              "      (relu): ReLU(inplace=True)\n",
              "      (conv2): Conv2d(512, 512, kernel_size=(3, 3), stride=(1, 1), padding=(1, 1), bias=False)\n",
              "      (bn2): BatchNorm2d(512, eps=1e-05, momentum=0.1, affine=True, track_running_stats=True)\n",
              "    )\n",
              "    (2): BasicBlock(\n",
              "      (conv1): Conv2d(512, 512, kernel_size=(3, 3), stride=(1, 1), padding=(1, 1), bias=False)\n",
              "      (bn1): BatchNorm2d(512, eps=1e-05, momentum=0.1, affine=True, track_running_stats=True)\n",
              "      (relu): ReLU(inplace=True)\n",
              "      (conv2): Conv2d(512, 512, kernel_size=(3, 3), stride=(1, 1), padding=(1, 1), bias=False)\n",
              "      (bn2): BatchNorm2d(512, eps=1e-05, momentum=0.1, affine=True, track_running_stats=True)\n",
              "    )\n",
              "  )\n",
              "  (avgpool): AdaptiveAvgPool2d(output_size=(1, 1))\n",
              "  (fc): Linear(in_features=512, out_features=3, bias=True)\n",
              ")"
            ]
          },
          "metadata": {},
          "execution_count": 9
        }
      ]
    },
    {
      "cell_type": "code",
      "source": [
        "children_counter = 0\n",
        "for n,c in resnet.named_children():\n",
        "    print(\"Children Counter: \",children_counter,\" Layer Name: \",n,)\n",
        "    children_counter+=1"
      ],
      "metadata": {
        "colab": {
          "base_uri": "https://localhost:8080/"
        },
        "id": "dtYfbYQw0zw5",
        "outputId": "5bf79751-e9ab-4b9e-f0c2-3ff99bba84df"
      },
      "execution_count": 10,
      "outputs": [
        {
          "output_type": "stream",
          "name": "stdout",
          "text": [
            "Children Counter:  0  Layer Name:  conv1\n",
            "Children Counter:  1  Layer Name:  bn1\n",
            "Children Counter:  2  Layer Name:  relu\n",
            "Children Counter:  3  Layer Name:  maxpool\n",
            "Children Counter:  4  Layer Name:  layer1\n",
            "Children Counter:  5  Layer Name:  layer2\n",
            "Children Counter:  6  Layer Name:  layer3\n",
            "Children Counter:  7  Layer Name:  layer4\n",
            "Children Counter:  8  Layer Name:  avgpool\n",
            "Children Counter:  9  Layer Name:  fc\n"
          ]
        }
      ]
    },
    {
      "cell_type": "code",
      "source": [
        "class NewModelResnet(nn.Module):\n",
        "    def __init__(self, resnet, output_layers=None,*args, ):\n",
        "        super().__init__(*args)\n",
        "        self.output_layers = [7,8]\n",
        "        #print(self.output_layers)\n",
        "        self.selected_out = OrderedDict()\n",
        "\n",
        "        #PRETRAINED MODEL\n",
        "        self.pretrained = resnet\n",
        "        self.fhooks = []\n",
        "\n",
        "        for i,l in enumerate(list(self.pretrained._modules.keys())):\n",
        "            if i in self.output_layers:\n",
        "                self.fhooks.append(getattr(self.pretrained,l).register_forward_hook(self.forward_hook(l)))\n",
        "    \n",
        "    def forward_hook(self,layer_name):\n",
        "        def hook(module, input, output):\n",
        "            self.selected_out[layer_name] = output\n",
        "        return hook\n",
        "\n",
        "    def forward(self, x):\n",
        "        out = self.pretrained(x)\n",
        "        return out, self.selected_out"
      ],
      "metadata": {
        "id": "lM7KlDiG0-Jq"
      },
      "execution_count": 11,
      "outputs": []
    },
    {
      "cell_type": "code",
      "source": [
        "resnet.load_state_dict(torch.load('drive/MyDrive/resnet34_covid_pneumonia_100_32_0.01_0.001_model_weights.pth', map_location=device)) "
      ],
      "metadata": {
        "colab": {
          "base_uri": "https://localhost:8080/"
        },
        "id": "iiO2kI_N13SP",
        "outputId": "49017a20-2c6a-4cac-8ddc-553b7ed99b36"
      },
      "execution_count": 12,
      "outputs": [
        {
          "output_type": "execute_result",
          "data": {
            "text/plain": [
              "<All keys matched successfully>"
            ]
          },
          "metadata": {},
          "execution_count": 12
        }
      ]
    },
    {
      "cell_type": "code",
      "source": [
        "resnetmodel = NewModelResnet(resnet)\n",
        "resnetmodel = resnetmodel.to(device)"
      ],
      "metadata": {
        "id": "7k9wHcnL14bl"
      },
      "execution_count": 13,
      "outputs": []
    },
    {
      "cell_type": "markdown",
      "source": [
        "#T-SNE for Resnet"
      ],
      "metadata": {
        "id": "9gizydXX2qj6"
      }
    },
    {
      "cell_type": "code",
      "source": [
        "f = 125\n",
        "labels = []\n",
        "outputs = []\n",
        "y_pred = []\n",
        "with torch.no_grad():\n",
        "  for b, (image, label) in enumerate(data_loaders['test']):\n",
        "        if(b%25==0):\n",
        "          print(b,f)\n",
        "        # Apply the model\n",
        "        image, label = image.to(device), label.to(device)\n",
        "        op , dictionary = resnetmodel(image)\n",
        "\n",
        "        predicted = torch.max(op.data, 1)[1] \n",
        "        y_pred += predicted.cpu()\n",
        "\n",
        "        labels += label.cpu()\n",
        "        outputs += dictionary['layer4']\n",
        "        f-=1\n",
        "        if(f==0):\n",
        "          break"
      ],
      "metadata": {
        "colab": {
          "base_uri": "https://localhost:8080/"
        },
        "id": "ugN-w1kZ6CmU",
        "outputId": "6ddb3f5c-1f64-4f72-bddd-576f4a28c409"
      },
      "execution_count": 14,
      "outputs": [
        {
          "output_type": "stream",
          "name": "stdout",
          "text": [
            "0 125\n",
            "25 100\n",
            "50 75\n",
            "75 50\n",
            "100 25\n"
          ]
        }
      ]
    },
    {
      "cell_type": "code",
      "source": [
        "for i in range(1000):\n",
        "  outputs[i] = outputs[i].detach().cpu().numpy()"
      ],
      "metadata": {
        "id": "_BbE8zEo2Wnx"
      },
      "execution_count": 15,
      "outputs": []
    },
    {
      "cell_type": "code",
      "source": [
        "outputs = np.asarray(outputs, dtype=np.float64)"
      ],
      "metadata": {
        "id": "CQydyWGr5YqG"
      },
      "execution_count": 16,
      "outputs": []
    },
    {
      "cell_type": "code",
      "source": [
        "layer4 = torch.tensor(outputs)"
      ],
      "metadata": {
        "id": "v7cqYK0BnqRZ"
      },
      "execution_count": 17,
      "outputs": []
    },
    {
      "cell_type": "code",
      "source": [
        "layer4 = layer4.reshape(batch_size*125, 512*8*8)\n",
        "layer4 = layer4.detach().cpu().numpy()"
      ],
      "metadata": {
        "id": "v-NRwh-J8ipq"
      },
      "execution_count": 18,
      "outputs": []
    },
    {
      "cell_type": "code",
      "source": [
        "from sklearn.manifold import TSNE\n",
        "X_embedded = TSNE(n_components=2, learning_rate='auto', init='random', n_iter=10000).fit_transform(layer4)"
      ],
      "metadata": {
        "id": "80D_Zq6d7e7_"
      },
      "execution_count": 19,
      "outputs": []
    },
    {
      "cell_type": "code",
      "source": [
        "class1 = []\n",
        "class2 = []\n",
        "class3 = []\n",
        "\n",
        "for i in range(len(X_embedded)):\n",
        "  if(labels[i]==0):\n",
        "    class1.append(X_embedded[i])\n",
        "  elif(labels[i]==1):\n",
        "    class2.append(X_embedded[i])\n",
        "  elif(labels[i]==2):\n",
        "    class3.append(X_embedded[i])\n",
        "\n",
        "class1 = np.array(class1)\n",
        "class2 = np.array(class2)\n",
        "class3 = np.array(class3)"
      ],
      "metadata": {
        "id": "AKde_rxp7-iS"
      },
      "execution_count": 20,
      "outputs": []
    },
    {
      "cell_type": "code",
      "source": [
        "path = '/content/drive/MyDrive/covid_pneumonia_pickle/eval_metrics_resnet34_covid_pneumonia_100_32_0.01_0.001_'\n",
        "pickle_in = open(path + '.pickle',\"rb\")\n",
        "val = pickle.load(pickle_in)"
      ],
      "metadata": {
        "id": "-bQf9llI55dP"
      },
      "execution_count": 21,
      "outputs": []
    },
    {
      "cell_type": "code",
      "source": [
        "fig, (ax1, ax2) = plt.subplots(1,2, figsize=(20,8))\n",
        "\n",
        "ax1.scatter(class1[:,0], class1[:,1], c=\"red\", label=\"COVID\")  \n",
        "ax1.scatter(class2[:,0], class2[:,1], c=\"green\", label=\"Normal\")\n",
        "ax1.scatter(class3[:,0], class3[:,1], c=\"blue\", label=\"Viral Pneumonia\")\n",
        "ax1.legend()\n",
        "# ax1.show()\n",
        "ax1.set_xticks([]) \n",
        "ax1.set_yticks([]) \n",
        "\n",
        "df_cm = val['cm']\n",
        "vmin = np.min(df_cm)\n",
        "vmax = np.max(df_cm)\n",
        "labels = ['COVID', 'Normal', 'Viral Pneumonia']\n",
        "\n",
        "sns.heatmap(df_cm, annot=True, fmt=\"g\",vmin=vmin, vmax=vmax,cmap= 'Greens', xticklabels=labels, yticklabels=labels,  ax=ax2)\n",
        "#sns.heatmap(df_cm, annot=True, fmt=\"g\", mask=off_diag_mask, cmap='gray_r',vmin=vmin, vmax=vmax,xticklabels=labels, yticklabels=labels)\n",
        "ax2.set_title('Confusion Matrix for Pneumonia Dataset using Resnet');\n",
        "plt.subplots_adjust(wspace=0.04, hspace=0.02)"
      ],
      "metadata": {
        "colab": {
          "base_uri": "https://localhost:8080/",
          "height": 499
        },
        "id": "QkE2Yes083Pd",
        "outputId": "a8171e18-bd02-4300-a1b4-ee6cda233552"
      },
      "execution_count": 22,
      "outputs": [
        {
          "output_type": "display_data",
          "data": {
            "text/plain": [
              "<Figure size 1440x576 with 3 Axes>"
            ],
            "image/png": "[encoded data removed]"
          },
          "metadata": {
            "needs_background": "light"
          }
        }
      ]
    },
    {
      "cell_type": "markdown",
      "source": [
        "# MobileNet"
      ],
      "metadata": {
        "id": "dcT2TKdRaZLV"
      }
    },
    {
      "cell_type": "code",
      "source": [
        "device = torch.device(\"cuda:0\" if torch.cuda.is_available() else \"cpu\")\n",
        "\n",
        "model_name = \"mobile_net_v3_large\"\n",
        "\n",
        "# Number of classes.\n",
        "num_classes = 3\n",
        "\n",
        "# Number of workers for data loader.\n",
        "num_workers = 12\n",
        "\n",
        "# Covid Pneumonia dataset metrics\n",
        "norm_arr = ([0.5159, 0.5159, 0.5159], [0.2554, 0.2554, 0.2554])\n",
        "\n",
        "# Feature extract flag: False - Tune the whole model,\n",
        "#                       True - Update only the reshaped layer parameters.\n",
        "feature_extract = False\n",
        "\n",
        "# Use pretrained flag: None - Use random weights\n",
        "#                      String - Use pretrained weights given by String\n",
        "use_pretrained = None\n",
        "\n",
        "# Initialize the model for this run.\n",
        "mobilenet, input_size = initialize_model(model_name, num_classes, feature_extract, use_pretrained=use_pretrained)"
      ],
      "metadata": {
        "id": "XtHCKY60afDF"
      },
      "execution_count": 23,
      "outputs": []
    },
    {
      "cell_type": "code",
      "source": [
        "data_loaders = load_data(images_dir,\n",
        "                         batch_size = batch_size, \n",
        "                         input_size = input_size, \n",
        "                         norm_arr = norm_arr,\n",
        "                         num_workers=num_workers)"
      ],
      "metadata": {
        "colab": {
          "base_uri": "https://localhost:8080/"
        },
        "id": "7CdILbKZMiBH",
        "outputId": "eb69114f-2012-4e28-cfc5-a42e7388cca0"
      },
      "execution_count": 24,
      "outputs": [
        {
          "output_type": "stream",
          "name": "stderr",
          "text": [
            "/usr/local/lib/python3.8/dist-packages/torch/utils/data/dataloader.py:563: UserWarning: This DataLoader will create 12 worker processes in total. Our suggested max number of worker in current system is 2, which is smaller than what this DataLoader is going to create. Please be aware that excessive worker creation might get DataLoader running slow or even freeze, lower the worker number to avoid potential slowness/freeze if necessary.\n",
            "  warnings.warn(_create_warning_msg(\n"
          ]
        }
      ]
    },
    {
      "cell_type": "code",
      "source": [
        "children_counter = 0\n",
        "for n,c in mobilenet.named_children():\n",
        "    print(\"Children Counter: \",children_counter,\" Layer Name: \",n)\n",
        "    children_counter+=1"
      ],
      "metadata": {
        "colab": {
          "base_uri": "https://localhost:8080/"
        },
        "id": "u-MvtXeaaX99",
        "outputId": "38262d27-0711-4134-fc9e-08a7c881edd5"
      },
      "execution_count": 25,
      "outputs": [
        {
          "output_type": "stream",
          "name": "stdout",
          "text": [
            "Children Counter:  0  Layer Name:  features\n",
            "Children Counter:  1  Layer Name:  avgpool\n",
            "Children Counter:  2  Layer Name:  classifier\n"
          ]
        }
      ]
    },
    {
      "cell_type": "code",
      "source": [
        "class NewModelMobileNet(nn.Module):\n",
        "    def __init__(self, mobilenet, output_layers=None,*args, ):\n",
        "        super().__init__(*args)\n",
        "        self.output_layers = [16]\n",
        "        #print(self.output_layers)\n",
        "        self.selected_out = OrderedDict()\n",
        "\n",
        "        #PRETRAINED MODEL\n",
        "        self.pretrained = mobilenet\n",
        "        self.fhooks = []\n",
        "\n",
        "        for i,l in enumerate(list(self.pretrained._modules['features']._modules.keys())):\n",
        "            print(i,l)\n",
        "            if i in self.output_layers:\n",
        "                self.fhooks.append(getattr(self.pretrained._modules['features'],l).register_forward_hook(self.forward_hook(l)))\n",
        "    \n",
        "    def forward_hook(self,layer_name):\n",
        "        def hook(module, input, output):\n",
        "            self.selected_out[layer_name] = output\n",
        "        return hook\n",
        "\n",
        "    def forward(self, x):\n",
        "        out = self.pretrained(x)\n",
        "        return out, self.selected_out"
      ],
      "metadata": {
        "id": "YDSF5La2bY8l"
      },
      "execution_count": 26,
      "outputs": []
    },
    {
      "cell_type": "code",
      "source": [
        "mobilenet.load_state_dict(torch.load('drive/MyDrive/mobile_net_v3_large_covid_pneumonia_100_32_0.01_0.001_model_weights.pth', map_location=device)) "
      ],
      "metadata": {
        "colab": {
          "base_uri": "https://localhost:8080/"
        },
        "id": "1Jjqmg0cKcIj",
        "outputId": "15429cb2-40fe-41af-99ef-d94a359bd91b"
      },
      "execution_count": 27,
      "outputs": [
        {
          "output_type": "execute_result",
          "data": {
            "text/plain": [
              "<All keys matched successfully>"
            ]
          },
          "metadata": {},
          "execution_count": 27
        }
      ]
    },
    {
      "cell_type": "code",
      "source": [
        "mobilenetmodel = NewModelMobileNet(mobilenet)\n",
        "mobilenetmodel = mobilenetmodel.to(device)"
      ],
      "metadata": {
        "colab": {
          "base_uri": "https://localhost:8080/"
        },
        "id": "Tp6RNT-vLNuU",
        "outputId": "c098dcc9-bcbb-4ec0-cd80-b434b64decea"
      },
      "execution_count": 28,
      "outputs": [
        {
          "output_type": "stream",
          "name": "stdout",
          "text": [
            "0 0\n",
            "1 1\n",
            "2 2\n",
            "3 3\n",
            "4 4\n",
            "5 5\n",
            "6 6\n",
            "7 7\n",
            "8 8\n",
            "9 9\n",
            "10 10\n",
            "11 11\n",
            "12 12\n",
            "13 13\n",
            "14 14\n",
            "15 15\n",
            "16 16\n"
          ]
        }
      ]
    },
    {
      "cell_type": "code",
      "source": [
        "f = 125\n",
        "labels = []\n",
        "outputs = []\n",
        "y_pred = []\n",
        "with torch.no_grad():\n",
        "  for b, (image, label) in enumerate(data_loaders['test']):\n",
        "        if(b%25==0):\n",
        "          print(b,f)\n",
        "        # Apply the model\n",
        "        image, label = image.to(device), label.to(device)\n",
        "        op , dictionary = mobilenetmodel(image)\n",
        "\n",
        "        predicted = torch.max(op.data, 1)[1] \n",
        "        y_pred += predicted.cpu()\n",
        "\n",
        "        labels += label.cpu()\n",
        "        outputs += dictionary['16']\n",
        "        f-=1\n",
        "        if(f==0):\n",
        "          break"
      ],
      "metadata": {
        "id": "nM0ayxndHaRn",
        "colab": {
          "base_uri": "https://localhost:8080/"
        },
        "outputId": "010e1dbc-fa82-4e0e-e766-4a71b662ecf8"
      },
      "execution_count": 29,
      "outputs": [
        {
          "output_type": "stream",
          "name": "stdout",
          "text": [
            "0 125\n",
            "25 100\n",
            "50 75\n",
            "75 50\n",
            "100 25\n"
          ]
        }
      ]
    },
    {
      "cell_type": "code",
      "source": [
        "for i in range(1000):\n",
        "  outputs[i] = outputs[i].cpu().detach().numpy()\n"
      ],
      "metadata": {
        "id": "_0WdruO51j7J"
      },
      "execution_count": 31,
      "outputs": []
    },
    {
      "cell_type": "code",
      "source": [
        "outputs = np.asarray(outputs, dtype=np.float64)"
      ],
      "metadata": {
        "id": "eboxnyyj317e"
      },
      "execution_count": 32,
      "outputs": []
    },
    {
      "cell_type": "code",
      "source": [
        "layer16 = torch.tensor(outputs)"
      ],
      "metadata": {
        "id": "6o82tAWP37ou"
      },
      "execution_count": 33,
      "outputs": []
    },
    {
      "cell_type": "code",
      "source": [
        "layer16 = layer16.reshape(batch_size*125, 960*8*8)\n",
        "layer16 = layer16.detach().cpu().numpy()"
      ],
      "metadata": {
        "id": "LA4keoI5LSI3"
      },
      "execution_count": 34,
      "outputs": []
    },
    {
      "cell_type": "code",
      "source": [
        "from sklearn.manifold import TSNE\n",
        "X_embedded = TSNE(n_components=2, learning_rate='auto', init='random', n_iter=100000).fit_transform(layer16)"
      ],
      "metadata": {
        "id": "BJ6G311QLySK"
      },
      "execution_count": 35,
      "outputs": []
    },
    {
      "cell_type": "code",
      "source": [
        "class1 = []\n",
        "class2 = []\n",
        "class3 = []\n",
        "\n",
        "for i in range(len(X_embedded)):\n",
        "  if(labels[i]==0):\n",
        "    class1.append(X_embedded[i])\n",
        "  elif(labels[i]==1):\n",
        "    class2.append(X_embedded[i])\n",
        "  elif(labels[i]==2):\n",
        "    class3.append(X_embedded[i])\n",
        "\n",
        "class1 = np.array(class1)\n",
        "class2 = np.array(class2)\n",
        "class3 = np.array(class3)"
      ],
      "metadata": {
        "id": "vCBG0XmlMTkU"
      },
      "execution_count": 36,
      "outputs": []
    },
    {
      "cell_type": "code",
      "source": [
        "path = '/content/drive/MyDrive/covid_pneumonia_pickle/eval_metrics_mobile_net_v3_large_covid_pneumonia_100_32_0.01_0.001_'\n",
        "pickle_in = open(path + '.pickle',\"rb\")\n",
        "val = pickle.load(pickle_in)"
      ],
      "metadata": {
        "id": "k9cV8ntR80UK"
      },
      "execution_count": 37,
      "outputs": []
    },
    {
      "cell_type": "code",
      "source": [
        "fig, (ax1, ax2) = plt.subplots(1,2, figsize=(20,8))\n",
        "\n",
        "ax1.scatter(class1[:,0], class1[:,1], c=\"red\", label=\"COVID\")  \n",
        "ax1.scatter(class2[:,0], class2[:,1], c=\"green\", label=\"Normal\")\n",
        "ax1.scatter(class3[:,0], class3[:,1], c=\"blue\", label=\"Viral Pneumonia\")\n",
        "ax1.legend()\n",
        "# ax1.show()\n",
        "ax1.set_xticks([]) \n",
        "ax1.set_yticks([]) \n",
        "\n",
        "df_cm = val['cm']\n",
        "vmin = np.min(df_cm)\n",
        "vmax = np.max(df_cm)\n",
        "labels = ['COVID', 'Normal', 'Viral Pneumonia']\n",
        "\n",
        "sns.heatmap(df_cm, annot=True, fmt=\"g\",vmin=vmin, vmax=vmax, cmap='Greens', xticklabels=labels, yticklabels=labels,  ax=ax2)\n",
        "#sns.heatmap(df_cm, annot=True, fmt=\"g\", mask=off_diag_mask, cmap='gray_r',vmin=vmin, vmax=vmax,xticklabels=labels, yticklabels=labels)\n",
        "ax2.set_title('Confusion Matrix for Pneumonia Dataset using MobileNet');\n",
        "plt.subplots_adjust(wspace=0.04, hspace=0.02)"
      ],
      "metadata": {
        "id": "IjpPgy2JMUW2",
        "colab": {
          "base_uri": "https://localhost:8080/",
          "height": 499
        },
        "outputId": "29a665d2-e660-4167-ab06-029306e25bc2"
      },
      "execution_count": 38,
      "outputs": [
        {
          "output_type": "display_data",
          "data": {
            "text/plain": [
              "<Figure size 1440x576 with 3 Axes>"
            ],
            "image/png": "[encoded data removed]"
          },
          "metadata": {
            "needs_background": "light"
          }
        }
      ]
    },
    {
      "cell_type": "markdown",
      "source": [
        "# Efficient - Net"
      ],
      "metadata": {
        "id": "A7t3VAYxvxW6"
      }
    },
    {
      "cell_type": "code",
      "source": [
        "# Models options: resnet50, resnet34, inceptionv3, vgg16, mobile_net_v3_large, efficient_net_b1, efficient_net_b0.\n",
        "device = torch.device(\"cuda:0\" if torch.cuda.is_available() else \"cpu\")\n",
        "\n",
        "model_name = \"efficient_net_b1\"\n",
        "\n",
        "# Number of classes.\n",
        "num_classes = 3\n",
        "\n",
        "\n",
        "# Number of workers for data loader.\n",
        "num_workers = 12\n",
        "\n",
        "# Covid Pneumonia dataset metrics\n",
        "norm_arr = ([0.5159, 0.5159, 0.5159], [0.2554, 0.2554, 0.2554])\n",
        "\n",
        "# Feature extract flag: False - Tune the whole model,\n",
        "#                       True - Update only the reshaped layer parameters.\n",
        "feature_extract = False\n",
        "\n",
        "# Use pretrained flag: None - Use random weights\n",
        "#                      String - Use pretrained weights given by String\n",
        "use_pretrained = None\n",
        "\n",
        "# Initialize the model for this run.\n",
        "efficientnet, input_size = initialize_model(model_name, num_classes, feature_extract, use_pretrained=use_pretrained)"
      ],
      "metadata": {
        "id": "IqUd83Q5vwDI"
      },
      "execution_count": 39,
      "outputs": []
    },
    {
      "cell_type": "code",
      "source": [
        "data_loaders = load_data(images_dir,\n",
        "                         batch_size = batch_size, \n",
        "                         input_size = input_size, \n",
        "                         norm_arr = norm_arr,\n",
        "                         num_workers=num_workers)"
      ],
      "metadata": {
        "colab": {
          "base_uri": "https://localhost:8080/"
        },
        "id": "Tmd4WM7JNIyx",
        "outputId": "8b2b2d77-d29d-4e55-fc95-3b8e1e4ba5c8"
      },
      "execution_count": 40,
      "outputs": [
        {
          "output_type": "stream",
          "name": "stderr",
          "text": [
            "/usr/local/lib/python3.8/dist-packages/torch/utils/data/dataloader.py:563: UserWarning: This DataLoader will create 12 worker processes in total. Our suggested max number of worker in current system is 2, which is smaller than what this DataLoader is going to create. Please be aware that excessive worker creation might get DataLoader running slow or even freeze, lower the worker number to avoid potential slowness/freeze if necessary.\n",
            "  warnings.warn(_create_warning_msg(\n"
          ]
        }
      ]
    },
    {
      "cell_type": "code",
      "source": [
        "children_counter = 0\n",
        "for n,c in efficientnet.named_children():\n",
        "    print(\"Children Counter: \",children_counter,\" Layer Name: \",n)\n",
        "    children_counter+=1"
      ],
      "metadata": {
        "colab": {
          "base_uri": "https://localhost:8080/"
        },
        "id": "L5bFFrX704kI",
        "outputId": "475bc77e-137a-4618-a2a1-007bc64ece21"
      },
      "execution_count": 41,
      "outputs": [
        {
          "output_type": "stream",
          "name": "stdout",
          "text": [
            "Children Counter:  0  Layer Name:  features\n",
            "Children Counter:  1  Layer Name:  avgpool\n",
            "Children Counter:  2  Layer Name:  classifier\n"
          ]
        }
      ]
    },
    {
      "cell_type": "code",
      "source": [
        "class NewModelEfficientNet(nn.Module):\n",
        "    def __init__(self, efficientnet, output_layers=None,*args, ):\n",
        "        super().__init__(*args)\n",
        "        self.output_layers = [8]\n",
        "        #print(self.output_layers)\n",
        "        self.selected_out = OrderedDict()\n",
        "\n",
        "        #PRETRAINED MODEL\n",
        "        self.pretrained = efficientnet\n",
        "        self.fhooks = []\n",
        "\n",
        "        for i,l in enumerate(list(self.pretrained._modules['features']._modules.keys())):\n",
        "            if i in self.output_layers:\n",
        "                # print(getattr(self.pretrained._modules['features'],l))\n",
        "                self.fhooks.append(getattr(self.pretrained._modules['features'],l).register_forward_hook(self.forward_hook(l)))\n",
        "    \n",
        "    def forward_hook(self,layer_name):\n",
        "        def hook(module, input, output):\n",
        "            self.selected_out[layer_name] = output.cpu()\n",
        "        return hook\n",
        "\n",
        "    def forward(self, x):\n",
        "        out = self.pretrained(x)\n",
        "        return out, self.selected_out"
      ],
      "metadata": {
        "id": "7mQMiVKO05pg"
      },
      "execution_count": 42,
      "outputs": []
    },
    {
      "cell_type": "code",
      "source": [
        "efficientnet.load_state_dict(torch.load('drive/MyDrive/efficient_net_b1_covid_pneumonia_100_32_0.01_0.001_model_weights.pth', map_location=device)) "
      ],
      "metadata": {
        "colab": {
          "base_uri": "https://localhost:8080/"
        },
        "id": "oQWdX8bA1IXv",
        "outputId": "d3def2cb-40f6-4e88-c6c4-b1089666a1f1"
      },
      "execution_count": 43,
      "outputs": [
        {
          "output_type": "execute_result",
          "data": {
            "text/plain": [
              "<All keys matched successfully>"
            ]
          },
          "metadata": {},
          "execution_count": 43
        }
      ]
    },
    {
      "cell_type": "code",
      "source": [
        "efficientnetmodel = NewModelEfficientNet(efficientnet)\n",
        "efficientnetmodel = efficientnetmodel.to(device)"
      ],
      "metadata": {
        "id": "N1ZrgRSJ1RPO"
      },
      "execution_count": 44,
      "outputs": []
    },
    {
      "cell_type": "code",
      "source": [
        "f = 125\n",
        "labels = []\n",
        "outputs = []\n",
        "y_pred = []\n",
        "\n",
        "with torch.no_grad():\n",
        "  for b, (image, label) in enumerate(data_loaders['test']):\n",
        "      if(b%25==0):\n",
        "        print(b,f)\n",
        "\n",
        "      # Apply the model\n",
        "      image, label = image.to(device), label.to(device)\n",
        "      op, dictionary = efficientnetmodel(image)\n",
        "\n",
        "      predicted = torch.max(op.data, 1)[1] \n",
        "      y_pred += predicted.cpu()\n",
        "\n",
        "      labels += label.cpu()\n",
        "      dictionary['8'] = dictionary['8'].cpu()\n",
        "      outputs += dictionary['8']\n",
        "\n",
        "      f-=1\n",
        "      if(f==0):\n",
        "        break\n",
        "\n",
        "      del image, label, dictionary\n",
        "      torch.cuda.empty_cache()\n",
        "              "
      ],
      "metadata": {
        "colab": {
          "base_uri": "https://localhost:8080/"
        },
        "id": "W7_5tDjI1aJc",
        "outputId": "29eb0cb4-58e9-4f15-a836-8de53887cb24"
      },
      "execution_count": 45,
      "outputs": [
        {
          "output_type": "stream",
          "name": "stdout",
          "text": [
            "0 125\n",
            "25 100\n",
            "50 75\n",
            "75 50\n",
            "100 25\n"
          ]
        }
      ]
    },
    {
      "cell_type": "code",
      "source": [
        "len(outputs), outputs[0].shape"
      ],
      "metadata": {
        "colab": {
          "base_uri": "https://localhost:8080/"
        },
        "id": "KUrZfXWIjwOf",
        "outputId": "dedda599-11a6-4e45-9268-683acb95bad8"
      },
      "execution_count": 47,
      "outputs": [
        {
          "output_type": "execute_result",
          "data": {
            "text/plain": [
              "(1000, torch.Size([1280, 8, 8]))"
            ]
          },
          "metadata": {},
          "execution_count": 47
        }
      ]
    },
    {
      "cell_type": "code",
      "source": [
        "for i in range(1000):\n",
        "  outputs[i] = outputs[i].numpy()"
      ],
      "metadata": {
        "id": "pNsliWQJ2FOc"
      },
      "execution_count": 48,
      "outputs": []
    },
    {
      "cell_type": "code",
      "source": [
        "outputs1 = np.asarray(outputs, dtype=np.float64)"
      ],
      "metadata": {
        "id": "VZecJQiL43KV"
      },
      "execution_count": 49,
      "outputs": []
    },
    {
      "cell_type": "code",
      "source": [
        "type(outputs1)"
      ],
      "metadata": {
        "colab": {
          "base_uri": "https://localhost:8080/"
        },
        "id": "V51rV2rvjNtR",
        "outputId": "d062577b-6940-4d0c-a3fc-272203f48824"
      },
      "execution_count": 50,
      "outputs": [
        {
          "output_type": "execute_result",
          "data": {
            "text/plain": [
              "numpy.ndarray"
            ]
          },
          "metadata": {},
          "execution_count": 50
        }
      ]
    },
    {
      "cell_type": "code",
      "source": [
        "layer8 = torch.tensor(outputs1)"
      ],
      "metadata": {
        "id": "QtGvAZ8b2Mjh"
      },
      "execution_count": 51,
      "outputs": []
    },
    {
      "cell_type": "code",
      "source": [
        "layer8 = layer8.reshape(batch_size*125, 1280*8*8)\n",
        "layer8 = layer8.detach().cpu().numpy()"
      ],
      "metadata": {
        "id": "UtSwFrnR2bjJ"
      },
      "execution_count": 52,
      "outputs": []
    },
    {
      "cell_type": "code",
      "source": [
        "from sklearn.manifold import TSNE\n",
        "X_embedded = TSNE(n_components=2, learning_rate='auto', init='random', n_iter=100000).fit_transform(layer8)"
      ],
      "metadata": {
        "id": "IqeYaz_M2fw3"
      },
      "execution_count": 53,
      "outputs": []
    },
    {
      "cell_type": "code",
      "source": [
        "class1 = []\n",
        "class2 = []\n",
        "class3 = []\n",
        "\n",
        "for i in range(len(X_embedded)):\n",
        "  if(labels[i]==0):\n",
        "    class1.append(X_embedded[i])\n",
        "  elif(labels[i]==1):\n",
        "    class2.append(X_embedded[i])\n",
        "  elif(labels[i]==2):\n",
        "    class3.append(X_embedded[i])\n",
        "\n",
        "class1 = np.array(class1)\n",
        "class2 = np.array(class2)\n",
        "class3 = np.array(class3)"
      ],
      "metadata": {
        "id": "I0Wm_oRI2sD8"
      },
      "execution_count": 54,
      "outputs": []
    },
    {
      "cell_type": "code",
      "source": [
        "path = '/content/drive/MyDrive/covid_pneumonia_pickle/eval_metrics_efficient_net_b1_covid_pneumonia_100_32_0.01_0.001_'\n",
        "pickle_in = open(path + '.pickle',\"rb\")\n",
        "val = pickle.load(pickle_in)"
      ],
      "metadata": {
        "id": "X83O1Zl19FbT"
      },
      "execution_count": 55,
      "outputs": []
    },
    {
      "cell_type": "code",
      "source": [
        "fig, (ax1, ax2) = plt.subplots(1,2, figsize=(20,8))\n",
        "\n",
        "ax1.scatter(class1[:,0], class1[:,1], c=\"red\", label=\"COVID\")  \n",
        "ax1.scatter(class2[:,0], class2[:,1], c=\"green\", label=\"Normal\")\n",
        "ax1.scatter(class3[:,0], class3[:,1], c=\"blue\", label=\"Viral Pneumonia\")\n",
        "ax1.legend()\n",
        "# ax1.show()\n",
        "ax1.set_xticks([]) \n",
        "ax1.set_yticks([])  \n",
        "\n",
        "df_cm = val['cm']\n",
        "vmin = np.min(df_cm)\n",
        "vmax = np.max(df_cm)\n",
        "labels = ['COVID', 'Normal', 'Viral Pneumonia']\n",
        "\n",
        "sns.heatmap(df_cm, annot=True, fmt=\"g\",vmin=vmin, vmax=vmax,cmap='Greens', xticklabels=labels, yticklabels=labels,  ax=ax2)\n",
        "#sns.heatmap(df_cm, annot=True, fmt=\"g\", mask=off_diag_mask, cmap='gray_r',vmin=vmin, vmax=vmax,xticklabels=labels, yticklabels=labels)\n",
        "ax2.set_title('Confusion Matrix for Pneumonia Dataset using EfficientNet');\n",
        "plt.subplots_adjust(wspace=0.04, hspace=0.02)"
      ],
      "metadata": {
        "id": "arnJwI2G2wSL",
        "colab": {
          "base_uri": "https://localhost:8080/",
          "height": 499
        },
        "outputId": "4de2d800-5c78-4f50-f63f-69b0f528702a"
      },
      "execution_count": 56,
      "outputs": [
        {
          "output_type": "display_data",
          "data": {
            "text/plain": [
              "<Figure size 1440x576 with 3 Axes>"
            ],
            "image/png": "[encoded data removed]"
          },
          "metadata": {
            "needs_background": "light"
          }
        }
      ]
    },
    {
      "cell_type": "markdown",
      "source": [
        "# Efficient-net Transfer Learning"
      ],
      "metadata": {
        "id": "WdoDuP4QHDQe"
      }
    },
    {
      "cell_type": "code",
      "source": [
        "# Models options: resnet50, resnet34, inceptionv3, vgg16, mobile_net_v3_large, efficient_net_b1, efficient_net_b0.\n",
        "device = torch.device(\"cuda:0\" if torch.cuda.is_available() else \"cpu\")\n",
        "\n",
        "model_name = \"efficient_net_b1\"\n",
        "\n",
        "# Number of classes.\n",
        "num_classes = 3\n",
        "\n",
        "\n",
        "# Number of workers for data loader.\n",
        "num_workers = 12\n",
        "\n",
        "# Covid Pneumonia dataset metrics\n",
        "norm_arr = ([0.5159, 0.5159, 0.5159], [0.2554, 0.2554, 0.2554])\n",
        "\n",
        "# Feature extract flag: False - Tune the whole model,\n",
        "#                       True - Update only the reshaped layer parameters.\n",
        "feature_extract = False\n",
        "\n",
        "# Use pretrained flag: None - Use random weights\n",
        "#                      String - Use pretrained weights given by String\n",
        "use_pretrained = True\n",
        "\n",
        "# Initialize the model for this run.\n",
        "efficientnet_tl, input_size = initialize_model(model_name, num_classes, feature_extract, use_pretrained=use_pretrained)"
      ],
      "metadata": {
        "colab": {
          "base_uri": "https://localhost:8080/",
          "height": 121,
          "referenced_widgets": [
            "aa50cb1046794f4fba21d8ff262ce832",
            "4b04a67dacb0436bba75197069e6f67d",
            "97e967754270456eb72bc595da2ad099",
            "1251eab002d144c0ac5c42d8dbf0b53f",
            "0a6c26de771948c2889cac42975fd94e",
            "73590794715f41d7ab3293ee2cf88b04",
            "35c762b23f674e179021843d25dec69c",
            "ae5f934548c645f0a434c2c6a42a8cb8",
            "812a425dc9bd4ab0bacbfaabc13d1125",
            "6aa68bd29bc7439b93f336359d245251",
            "e74accd914714c29b9956e567fd8a61d"
          ]
        },
        "id": "owKiZ21PG5PY",
        "outputId": "427b3151-034b-4758-fc81-c9b4e1c2d7b1"
      },
      "execution_count": 57,
      "outputs": [
        {
          "output_type": "stream",
          "name": "stderr",
          "text": [
            "/usr/local/lib/python3.8/dist-packages/torchvision/models/_utils.py:223: UserWarning: Arguments other than a weight enum or `None` for 'weights' are deprecated since 0.13 and will be removed in 0.15. The current behavior is equivalent to passing `weights=EfficientNet_B1_Weights.IMAGENET1K_V1`. You can also use `weights=EfficientNet_B1_Weights.DEFAULT` to get the most up-to-date weights.\n",
            "  warnings.warn(msg)\n",
            "Downloading: \"https://download.pytorch.org/models/efficientnet_b1_rwightman-533bc792.pth\" to /root/.cache/torch/hub/checkpoints/efficientnet_b1_rwightman-533bc792.pth\n"
          ]
        },
        {
          "output_type": "display_data",
          "data": {
            "text/plain": [
              "  0%|          | 0.00/30.1M [00:00<?, ?B/s]"
            ],
            "application/vnd.jupyter.widget-view+json": {
              "version_major": 2,
              "version_minor": 0,
              "model_id": "aa50cb1046794f4fba21d8ff262ce832"
            }
          },
          "metadata": {}
        }
      ]
    },
    {
      "cell_type": "code",
      "source": [
        "efficientnet_tl.load_state_dict(torch.load('drive/MyDrive/Transfer_efficient_net_b1_covid_pneumonia_100_32_0.01_0.001_model_weights.pth', map_location=device)) "
      ],
      "metadata": {
        "colab": {
          "base_uri": "https://localhost:8080/"
        },
        "id": "bhSqdoGuHwMC",
        "outputId": "1c90fda6-ec1b-45fa-e530-e65fa8aa9058"
      },
      "execution_count": 58,
      "outputs": [
        {
          "output_type": "execute_result",
          "data": {
            "text/plain": [
              "<All keys matched successfully>"
            ]
          },
          "metadata": {},
          "execution_count": 58
        }
      ]
    },
    {
      "cell_type": "code",
      "source": [
        "efficientnetmodeltl = NewModelEfficientNet(efficientnet_tl)\n",
        "efficientnetmodeltl = efficientnetmodeltl.to(device)"
      ],
      "metadata": {
        "id": "tx9Wwk3qIwu3"
      },
      "execution_count": 59,
      "outputs": []
    },
    {
      "cell_type": "code",
      "source": [],
      "metadata": {
        "id": "UrThT33h11Tr"
      },
      "execution_count": 59,
      "outputs": []
    },
    {
      "cell_type": "code",
      "source": [
        "f = 125\n",
        "labels = []\n",
        "outputs = []\n",
        "\n",
        "with torch.no_grad():\n",
        "  for b, (image, label) in enumerate(data_loaders['test']):\n",
        "    \n",
        "      if(b%10==0):\n",
        "        print(b,f)\n",
        "\n",
        "      # Apply the model\n",
        "      image, label = image.to(device), label.to(device)\n",
        "      _, dictionary = efficientnetmodeltl(image)\n",
        "      labels += label\n",
        "      dictionary['8'] = dictionary['8'].cpu()\n",
        "      outputs += dictionary['8']\n",
        "      f-=1\n",
        "      if(f==0):\n",
        "        break\n",
        "\n",
        "      del image, label, dictionary\n",
        "      torch.cuda.empty_cache()\n",
        "              "
      ],
      "metadata": {
        "colab": {
          "base_uri": "https://localhost:8080/"
        },
        "id": "o4ylXRUHI5u4",
        "outputId": "af9b92ea-7c12-4f5f-c09e-d613954832d6"
      },
      "execution_count": 60,
      "outputs": [
        {
          "output_type": "stream",
          "name": "stderr",
          "text": [
            "/usr/local/lib/python3.8/dist-packages/torch/utils/data/dataloader.py:563: UserWarning: This DataLoader will create 12 worker processes in total. Our suggested max number of worker in current system is 2, which is smaller than what this DataLoader is going to create. Please be aware that excessive worker creation might get DataLoader running slow or even freeze, lower the worker number to avoid potential slowness/freeze if necessary.\n",
            "  warnings.warn(_create_warning_msg(\n"
          ]
        },
        {
          "output_type": "stream",
          "name": "stdout",
          "text": [
            "0 125\n",
            "10 115\n",
            "20 105\n",
            "30 95\n",
            "40 85\n",
            "50 75\n",
            "60 65\n",
            "70 55\n",
            "80 45\n",
            "90 35\n",
            "100 25\n",
            "110 15\n",
            "120 5\n"
          ]
        }
      ]
    },
    {
      "cell_type": "code",
      "source": [
        "for i in range(1000):\n",
        "  outputs[i] = outputs[i].numpy()"
      ],
      "metadata": {
        "id": "EzFGLG4SI8QU"
      },
      "execution_count": 61,
      "outputs": []
    },
    {
      "cell_type": "code",
      "source": [
        "layer8 = torch.tensor(outputs)"
      ],
      "metadata": {
        "colab": {
          "base_uri": "https://localhost:8080/"
        },
        "id": "qdGVumtsLKA4",
        "outputId": "9379be85-19f6-4f71-fd40-73c3b6466d14"
      },
      "execution_count": 62,
      "outputs": [
        {
          "output_type": "stream",
          "name": "stderr",
          "text": [
            "<ipython-input-62-e2fe3c25e560>:1: UserWarning: Creating a tensor from a list of numpy.ndarrays is extremely slow. Please consider converting the list to a single numpy.ndarray with numpy.array() before converting to a tensor. (Triggered internally at  ../torch/csrc/utils/tensor_new.cpp:201.)\n",
            "  layer8 = torch.tensor(outputs)\n"
          ]
        }
      ]
    },
    {
      "cell_type": "code",
      "source": [
        "layer8 = layer8.reshape(len(outputs), 1280*8*8)\n",
        "layer8 = layer8.detach().cpu().numpy()"
      ],
      "metadata": {
        "id": "dyJPUoRwLKub"
      },
      "execution_count": 63,
      "outputs": []
    },
    {
      "cell_type": "code",
      "source": [
        "from sklearn.manifold import TSNE\n",
        "X_embedded = TSNE(n_components=2, learning_rate='auto', init='random', n_iter=1000).fit_transform(layer8)"
      ],
      "metadata": {
        "id": "mzm8aavULNgl"
      },
      "execution_count": 64,
      "outputs": []
    },
    {
      "cell_type": "code",
      "source": [
        "class1 = []\n",
        "class2 = []\n",
        "class3 = []\n",
        "\n",
        "for i in range(len(X_embedded)):\n",
        "  if(labels[i]==0):\n",
        "    class1.append(X_embedded[i])\n",
        "  elif(labels[i]==1):\n",
        "    class2.append(X_embedded[i])\n",
        "  elif(labels[i]==2):\n",
        "    class3.append(X_embedded[i])\n",
        "\n",
        "class1 = np.array(class1)\n",
        "class2 = np.array(class2)\n",
        "class3 = np.array(class3)"
      ],
      "metadata": {
        "id": "zYSupmtgLUKs"
      },
      "execution_count": 65,
      "outputs": []
    },
    {
      "cell_type": "code",
      "source": [
        "path = '/content/drive/MyDrive/covid_pneumonia_pickle/Transfer_eval_metrics_efficient_net_b1_covid_pneumonia_100_32_0.01_0.001_'\n",
        "pickle_in = open(path + '.pickle',\"rb\")\n",
        "val = pickle.load(pickle_in)"
      ],
      "metadata": {
        "id": "gbtdFiGVLVDp"
      },
      "execution_count": 66,
      "outputs": []
    },
    {
      "cell_type": "code",
      "source": [
        "fig, (ax1, ax2) = plt.subplots(1,2, figsize=(20,8))\n",
        "\n",
        "ax1.scatter(class1[:,0], class1[:,1], c=\"red\", label=\"COVID\")  \n",
        "ax1.scatter(class2[:,0], class2[:,1], c=\"green\", label=\"Normal\")\n",
        "ax1.scatter(class3[:,0], class3[:,1], c=\"blue\", label=\"Viral Pneumonia\")\n",
        "ax1.legend()\n",
        "# ax1.show()\n",
        "ax1.set_xticks([]) \n",
        "ax1.set_yticks([]) \n",
        "\n",
        "df_cm = val['cm']\n",
        "vmin = np.min(df_cm)\n",
        "vmax = np.max(df_cm)\n",
        "labels = ['COVID', 'Normal', 'Viral Pneumonia']\n",
        "\n",
        "sns.heatmap(df_cm, annot=True, fmt=\"g\",vmin=vmin, vmax=vmax,cmap='Greens', xticklabels=labels, yticklabels=labels,  ax=ax2)\n",
        "#sns.heatmap(df_cm, annot=True, fmt=\"g\", mask=off_diag_mask, cmap='gray_r',vmin=vmin, vmax=vmax,xticklabels=labels, yticklabels=labels)\n",
        "ax2.set_title('Confusion Matrix for Pneumonia Dataset using EfficientNet Transfer Learning');\n",
        "plt.subplots_adjust(wspace=0.04, hspace=0.02)"
      ],
      "metadata": {
        "colab": {
          "base_uri": "https://localhost:8080/",
          "height": 499
        },
        "id": "Sk6PgUUYLYb5",
        "outputId": "1f027ad3-4cea-494c-d2f2-1e337c367f34"
      },
      "execution_count": 67,
      "outputs": [
        {
          "output_type": "display_data",
          "data": {
            "text/plain": [
              "<Figure size 1440x576 with 3 Axes>"
            ],
            "image/png": "[encoded data removed]"
          },
          "metadata": {
            "needs_background": "light"
          }
        }
      ]
    },
    {
      "cell_type": "code",
      "source": [],
      "metadata": {
        "id": "NuW5i1FFN08M"
      },
      "execution_count": 67,
      "outputs": []
    }
  ]
}