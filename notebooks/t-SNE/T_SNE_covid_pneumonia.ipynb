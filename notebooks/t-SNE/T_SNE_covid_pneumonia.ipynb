{
  "nbformat": 4,
  "nbformat_minor": 0,
  "metadata": {
    "colab": {
      "provenance": []
    },
    "kernelspec": {
      "name": "python3",
      "display_name": "Python 3"
    },
    "language_info": {
      "name": "python"
    },
    "accelerator": "GPU",
    "gpuClass": "standard"
  },
  "cells": [
    {
      "cell_type": "markdown",
      "source": [
        "# Importing Libraries"
      ],
      "metadata": {
        "id": "K2Uyne13w4M-"
      }
    },
    {
      "cell_type": "code",
      "execution_count": null,
      "metadata": {
        "id": "QJIHGURSwwgj"
      },
      "outputs": [],
      "source": [
        "import os\n",
        "import copy\n",
        "import time\n",
        "import random\n",
        "import pickle\n",
        "\n",
        "import numpy as np\n",
        "import pandas as pd\n",
        "from PIL import Image\n",
        "from pathlib import Path\n",
        "from tqdm import tqdm\n",
        "\n",
        "from sklearn.metrics import f1_score, confusion_matrix\n",
        "from numpy.random import shuffle\n",
        "import matplotlib.pyplot as plt\n",
        "\n",
        "import torch\n",
        "import torchvision\n",
        "from torchvision.io import read_image\n",
        "import torchvision.transforms as T\n",
        "import torch.nn as nn\n",
        "import torch.optim as optim\n",
        "from torchvision import datasets, models, transforms\n",
        "import torch.autograd.profiler as tprofiler\n",
        "import torch.utils.data as td\n",
        "\n",
        "\n",
        "from typing import Type, Any, Callable, Union, List, Optional, cast\n",
        "from collections import OrderedDict \n",
        "\n",
        "plt.rcParams[\"savefig.bbox\"] = 'tight'"
      ]
    },
    {
      "cell_type": "markdown",
      "source": [
        "# Loading Data part"
      ],
      "metadata": {
        "id": "iLXOGrFJxAQP"
      }
    },
    {
      "cell_type": "code",
      "source": [
        "seed = 42\n",
        "\n",
        "random.seed(seed)\n",
        "\n",
        "# pytorch RNGs\n",
        "torch.manual_seed(seed)\n",
        "torch.backends.cudnn.deterministic = True\n",
        "if torch.cuda.is_available(): torch.cuda.manual_seed_all(seed)\n",
        "\n",
        "# numpy RNG\n",
        "np.random.seed(seed)"
      ],
      "metadata": {
        "id": "uFnTlZFww7dD"
      },
      "execution_count": null,
      "outputs": []
    },
    {
      "cell_type": "code",
      "source": [
        "from google.colab import drive\n",
        "drive.mount('/content/drive')"
      ],
      "metadata": {
        "colab": {
          "base_uri": "https://localhost:8080/"
        },
        "id": "XOMFnuIqxCYq",
        "outputId": "bc48c523-e307-46f1-fea1-f7586c212d8a"
      },
      "execution_count": null,
      "outputs": [
        {
          "output_type": "stream",
          "name": "stdout",
          "text": [
            "Drive already mounted at /content/drive; to attempt to forcibly remount, call drive.mount(\"/content/drive\", force_remount=True).\n"
          ]
        }
      ]
    },
    {
      "cell_type": "code",
      "source": [
        "batch_size = 8\n",
        "norm_arr = ([0.5159, 0.5159, 0.5159], [0.2554, 0.2554, 0.2554])\n",
        "num_workers = 12\n",
        "\n",
        "import os\n",
        "import torchvision.transforms as T\n",
        "from torchvision import datasets\n",
        "import torch.utils.data as td\n",
        "\n",
        "class_names = []\n",
        "\n",
        "def load_data(path, batch_size, input_size, norm_arr, \n",
        "              num_workers=0):\n",
        "    \n",
        "    transform_dict = {\"train\": \n",
        "                          T.Compose([\n",
        "                            #T.ToPILImage(),\n",
        "                            T.Resize(size=input_size),\n",
        "\n",
        "                            T.RandomHorizontalFlip(),\n",
        "                            #T.ColorJitter(contrast=0.5),\n",
        "                            T.RandomAdjustSharpness(2),\n",
        "                            T.RandomAutocontrast(),\n",
        "\n",
        "                            T.ToTensor(),\n",
        "                            T.Normalize(*norm_arr)]),\n",
        "                        \"test_val\": \n",
        "                          T.Compose([\n",
        "                            #T.ToPILImage(),\n",
        "                            T.Resize(size=input_size),\n",
        "                            T.ToTensor(),\n",
        "                            T.Normalize(*norm_arr)])\n",
        "                        }\n",
        "    \n",
        "    # train_dataset = datasets.ImageFolder(root=os.path.join(path, \"train\"),\n",
        "    #                                      transform=transform_dict[\"train\"])\n",
        "    \n",
        "    # class_names = train_dataset.classes\n",
        "    # print(class_names)\n",
        "\n",
        "    test_dataset = datasets.ImageFolder(root=os.path.join(path, \"test\"),\n",
        "                                        transform=transform_dict[\"test_val\"])\n",
        "    \n",
        "    # data_loader_train = td.DataLoader(train_dataset,\n",
        "    #                                   batch_size=batch_size,\n",
        "    #                                   shuffle=True,\n",
        "    #                                   drop_last=False,\n",
        "    #                                   num_workers=num_workers,\n",
        "    #                                   pin_memory=True)\n",
        "    data_loader_test = td.DataLoader(test_dataset,\n",
        "                                     batch_size=batch_size,\n",
        "                                     shuffle=True,\n",
        "                                     drop_last=False,\n",
        "                                     num_workers=num_workers,\n",
        "                                     pin_memory=True)\n",
        "\n",
        "    return {\n",
        "            'test':  data_loader_test}"
      ],
      "metadata": {
        "id": "tk3Tav6RxDxK"
      },
      "execution_count": null,
      "outputs": []
    },
    {
      "cell_type": "code",
      "source": [
        "images_dir = \"drive/MyDrive/covid_radiography\""
      ],
      "metadata": {
        "id": "ku84kc4uxYOW"
      },
      "execution_count": null,
      "outputs": []
    },
    {
      "cell_type": "code",
      "source": [
        "data_loaders = load_data(images_dir,\n",
        "                         batch_size = batch_size, \n",
        "                         input_size = (256, 256), \n",
        "                         norm_arr = norm_arr,\n",
        "                         num_workers=num_workers)"
      ],
      "metadata": {
        "colab": {
          "base_uri": "https://localhost:8080/"
        },
        "id": "2ZTCYtaQxKct",
        "outputId": "ac8ef1e8-e5e9-47ca-b4a7-4032f6a91437"
      },
      "execution_count": null,
      "outputs": [
        {
          "output_type": "stream",
          "name": "stderr",
          "text": [
            "/usr/local/lib/python3.8/dist-packages/torch/utils/data/dataloader.py:563: UserWarning: This DataLoader will create 12 worker processes in total. Our suggested max number of worker in current system is 2, which is smaller than what this DataLoader is going to create. Please be aware that excessive worker creation might get DataLoader running slow or even freeze, lower the worker number to avoid potential slowness/freeze if necessary.\n",
            "  warnings.warn(_create_warning_msg(\n"
          ]
        }
      ]
    },
    {
      "cell_type": "markdown",
      "source": [
        "# Loading Saved Model"
      ],
      "metadata": {
        "id": "YxYnPoGtzDiV"
      }
    },
    {
      "cell_type": "code",
      "source": [
        "# from utils file\n",
        "\n",
        "from torchvision import models\n",
        "import torch.nn as nn\n",
        "\n",
        "def set_requires_grad(model, feature_extracting):\n",
        "    if feature_extracting:\n",
        "        for param in model.parameters():\n",
        "            param.requires_grad = False\n",
        "\n",
        "\n",
        "def initialize_model(model_name, num_classes, feature_extract, use_pretrained=None):\n",
        "    '''\n",
        "    Initialize models for training.\n",
        "    '''\n",
        "    model_ft = None\n",
        "    input_size = 0\n",
        "\n",
        "    if model_name == \"resnet50\":\n",
        "        \"\"\" \n",
        "            Returns a Resnet 50 model.\n",
        "        \"\"\"\n",
        "        model_ft = models.resnet50(weights=use_pretrained)\n",
        "        set_requires_grad(model_ft, feature_extract)\n",
        "        num_ftrs = model_ft.fc.in_features\n",
        "        model_ft.fc = nn.Linear(num_ftrs, num_classes)\n",
        "        input_size = 232\n",
        "        \n",
        "    elif model_name == \"resnet34\":\n",
        "        \"\"\" \n",
        "            Returns a Resnet 34 model.\n",
        "        \"\"\"\n",
        "        model_ft = models.resnet34(weights=use_pretrained)\n",
        "        set_requires_grad(model_ft, feature_extract)\n",
        "        num_ftrs = model_ft.fc.in_features\n",
        "        model_ft.fc = nn.Linear(num_ftrs, num_classes)\n",
        "        input_size = 256\n",
        "\n",
        "    elif model_name == \"inceptionv3\":\n",
        "        \"\"\" \n",
        "            Returns an Inception v3 model.\n",
        "        \"\"\"\n",
        "        model_ft = models.inception_v3(weights=use_pretrained)\n",
        "        set_requires_grad(model_ft, feature_extract)\n",
        "        # Auxilary network.\n",
        "        num_ftrs = model_ft.AuxLogits.fc.in_features\n",
        "        model_ft.AuxLogits.fc = nn.Linear(num_ftrs, num_classes)\n",
        "        # Primary network.\n",
        "        num_ftrs = model_ft.fc.in_features\n",
        "        model_ft.fc = nn.Linear(num_ftrs, num_classes)\n",
        "        input_size = 299\n",
        "        \n",
        "    elif model_name == \"vgg16\":\n",
        "        \"\"\" \n",
        "            Returns a VGG 16 model with batch normalization.\n",
        "        \"\"\"\n",
        "        model_ft = models.vgg16_bn(weights=use_pretrained)\n",
        "        set_requires_grad(model_ft, feature_extract)\n",
        "        num_ftrs = model_ft.classifier[6].in_features\n",
        "        model_ft.classifier[6] = nn.Linear(num_ftrs, num_classes)\n",
        "        input_size = 256\n",
        "\n",
        "    elif model_name == \"mobile_net_v3_large\":\n",
        "        \"\"\" \n",
        "            returns a mobile net V3 large model.\n",
        "        \"\"\"\n",
        "        model_ft = models.mobilenet_v3_large(weights=use_pretrained)\n",
        "        set_requires_grad(model_ft, feature_extract)\n",
        "        num_ftrs = model_ft.classifier[3].in_features\n",
        "        model_ft.classifier[3] = nn.Linear(num_ftrs, num_classes, bias=True)\n",
        "        input_size = 232\n",
        "\n",
        "    elif model_name == \"efficient_net_b1\":\n",
        "        \"\"\" \n",
        "            Returns an efficient net b1 model.\n",
        "        \"\"\"\n",
        "        model_ft = models.efficientnet_b1(weights=use_pretrained)\n",
        "        set_requires_grad(model_ft, feature_extract)\n",
        "        num_ftrs = model_ft.classifier[1].in_features\n",
        "        model_ft.classifier[1] = nn.Linear(num_ftrs, num_classes, bias=True)\n",
        "        input_size = 255\n",
        "\n",
        "    elif model_name == \"efficient_net_b0\":\n",
        "        \"\"\" \n",
        "            Returns an efficient net b0 model.\n",
        "        \"\"\"\n",
        "        model_ft = models.efficientnet_b0(weights=use_pretrained)\n",
        "        set_requires_grad(model_ft, feature_extract)\n",
        "        num_ftrs = model_ft.classifier[1].in_features\n",
        "        model_ft.classifier[1] = nn.Linear(num_ftrs, num_classes, bias=True)\n",
        "        input_size = 256\n",
        "\n",
        "    else:\n",
        "        print(\"Unavailable model selected.\")\n",
        "\n",
        "    return model_ft, input_size"
      ],
      "metadata": {
        "id": "QsdiQKx9xOba"
      },
      "execution_count": null,
      "outputs": []
    },
    {
      "cell_type": "code",
      "source": [
        "# parameters for model loading and data loading\n",
        "\n",
        "device = torch.device(\"cuda:0\" if torch.cuda.is_available() else \"cpu\")\n",
        "\n",
        "# Models options: resnet50, resnet34, inceptionv3, vgg16, mobile_net_v3_large, efficient_net_b1, efficient_net_b0.\n",
        "model_name = \"resnet34\"\n",
        "\n",
        "# Number of classes.\n",
        "num_classes = 3\n",
        "\n",
        "# Covid Pneumonia dataset metrics\n",
        "norm_arr = ([0.5159, 0.5159, 0.5159], [0.2554, 0.2554, 0.2554])\n",
        "\n",
        "# Feature extract flag: False - Tune the whole model,\n",
        "#                       True - Update only the reshaped layer parameters.\n",
        "feature_extract = False\n",
        "\n",
        "# Use pretrained flag: None - Use random weights\n",
        "#                      String - Use pretrained weights given by String\n",
        "use_pretrained = None\n",
        "\n",
        "# Initialize the model for this run.\n",
        "resnet, input_size = initialize_model(model_name, num_classes, feature_extract, use_pretrained=use_pretrained)\n"
      ],
      "metadata": {
        "id": "TiogAePyzJW0"
      },
      "execution_count": null,
      "outputs": []
    },
    {
      "cell_type": "code",
      "source": [
        "resnet"
      ],
      "metadata": {
        "colab": {
          "base_uri": "https://localhost:8080/"
        },
        "id": "qL-pcBxVr1kO",
        "outputId": "e033ddd3-789e-4d63-863c-4294d331560b"
      },
      "execution_count": null,
      "outputs": [
        {
          "output_type": "execute_result",
          "data": {
            "text/plain": [
              "ResNet(\n",
              "  (conv1): Conv2d(3, 64, kernel_size=(7, 7), stride=(2, 2), padding=(3, 3), bias=False)\n",
              "  (bn1): BatchNorm2d(64, eps=1e-05, momentum=0.1, affine=True, track_running_stats=True)\n",
              "  (relu): ReLU(inplace=True)\n",
              "  (maxpool): MaxPool2d(kernel_size=3, stride=2, padding=1, dilation=1, ceil_mode=False)\n",
              "  (layer1): Sequential(\n",
              "    (0): BasicBlock(\n",
              "      (conv1): Conv2d(64, 64, kernel_size=(3, 3), stride=(1, 1), padding=(1, 1), bias=False)\n",
              "      (bn1): BatchNorm2d(64, eps=1e-05, momentum=0.1, affine=True, track_running_stats=True)\n",
              "      (relu): ReLU(inplace=True)\n",
              "      (conv2): Conv2d(64, 64, kernel_size=(3, 3), stride=(1, 1), padding=(1, 1), bias=False)\n",
              "      (bn2): BatchNorm2d(64, eps=1e-05, momentum=0.1, affine=True, track_running_stats=True)\n",
              "    )\n",
              "    (1): BasicBlock(\n",
              "      (conv1): Conv2d(64, 64, kernel_size=(3, 3), stride=(1, 1), padding=(1, 1), bias=False)\n",
              "      (bn1): BatchNorm2d(64, eps=1e-05, momentum=0.1, affine=True, track_running_stats=True)\n",
              "      (relu): ReLU(inplace=True)\n",
              "      (conv2): Conv2d(64, 64, kernel_size=(3, 3), stride=(1, 1), padding=(1, 1), bias=False)\n",
              "      (bn2): BatchNorm2d(64, eps=1e-05, momentum=0.1, affine=True, track_running_stats=True)\n",
              "    )\n",
              "    (2): BasicBlock(\n",
              "      (conv1): Conv2d(64, 64, kernel_size=(3, 3), stride=(1, 1), padding=(1, 1), bias=False)\n",
              "      (bn1): BatchNorm2d(64, eps=1e-05, momentum=0.1, affine=True, track_running_stats=True)\n",
              "      (relu): ReLU(inplace=True)\n",
              "      (conv2): Conv2d(64, 64, kernel_size=(3, 3), stride=(1, 1), padding=(1, 1), bias=False)\n",
              "      (bn2): BatchNorm2d(64, eps=1e-05, momentum=0.1, affine=True, track_running_stats=True)\n",
              "    )\n",
              "  )\n",
              "  (layer2): Sequential(\n",
              "    (0): BasicBlock(\n",
              "      (conv1): Conv2d(64, 128, kernel_size=(3, 3), stride=(2, 2), padding=(1, 1), bias=False)\n",
              "      (bn1): BatchNorm2d(128, eps=1e-05, momentum=0.1, affine=True, track_running_stats=True)\n",
              "      (relu): ReLU(inplace=True)\n",
              "      (conv2): Conv2d(128, 128, kernel_size=(3, 3), stride=(1, 1), padding=(1, 1), bias=False)\n",
              "      (bn2): BatchNorm2d(128, eps=1e-05, momentum=0.1, affine=True, track_running_stats=True)\n",
              "      (downsample): Sequential(\n",
              "        (0): Conv2d(64, 128, kernel_size=(1, 1), stride=(2, 2), bias=False)\n",
              "        (1): BatchNorm2d(128, eps=1e-05, momentum=0.1, affine=True, track_running_stats=True)\n",
              "      )\n",
              "    )\n",
              "    (1): BasicBlock(\n",
              "      (conv1): Conv2d(128, 128, kernel_size=(3, 3), stride=(1, 1), padding=(1, 1), bias=False)\n",
              "      (bn1): BatchNorm2d(128, eps=1e-05, momentum=0.1, affine=True, track_running_stats=True)\n",
              "      (relu): ReLU(inplace=True)\n",
              "      (conv2): Conv2d(128, 128, kernel_size=(3, 3), stride=(1, 1), padding=(1, 1), bias=False)\n",
              "      (bn2): BatchNorm2d(128, eps=1e-05, momentum=0.1, affine=True, track_running_stats=True)\n",
              "    )\n",
              "    (2): BasicBlock(\n",
              "      (conv1): Conv2d(128, 128, kernel_size=(3, 3), stride=(1, 1), padding=(1, 1), bias=False)\n",
              "      (bn1): BatchNorm2d(128, eps=1e-05, momentum=0.1, affine=True, track_running_stats=True)\n",
              "      (relu): ReLU(inplace=True)\n",
              "      (conv2): Conv2d(128, 128, kernel_size=(3, 3), stride=(1, 1), padding=(1, 1), bias=False)\n",
              "      (bn2): BatchNorm2d(128, eps=1e-05, momentum=0.1, affine=True, track_running_stats=True)\n",
              "    )\n",
              "    (3): BasicBlock(\n",
              "      (conv1): Conv2d(128, 128, kernel_size=(3, 3), stride=(1, 1), padding=(1, 1), bias=False)\n",
              "      (bn1): BatchNorm2d(128, eps=1e-05, momentum=0.1, affine=True, track_running_stats=True)\n",
              "      (relu): ReLU(inplace=True)\n",
              "      (conv2): Conv2d(128, 128, kernel_size=(3, 3), stride=(1, 1), padding=(1, 1), bias=False)\n",
              "      (bn2): BatchNorm2d(128, eps=1e-05, momentum=0.1, affine=True, track_running_stats=True)\n",
              "    )\n",
              "  )\n",
              "  (layer3): Sequential(\n",
              "    (0): BasicBlock(\n",
              "      (conv1): Conv2d(128, 256, kernel_size=(3, 3), stride=(2, 2), padding=(1, 1), bias=False)\n",
              "      (bn1): BatchNorm2d(256, eps=1e-05, momentum=0.1, affine=True, track_running_stats=True)\n",
              "      (relu): ReLU(inplace=True)\n",
              "      (conv2): Conv2d(256, 256, kernel_size=(3, 3), stride=(1, 1), padding=(1, 1), bias=False)\n",
              "      (bn2): BatchNorm2d(256, eps=1e-05, momentum=0.1, affine=True, track_running_stats=True)\n",
              "      (downsample): Sequential(\n",
              "        (0): Conv2d(128, 256, kernel_size=(1, 1), stride=(2, 2), bias=False)\n",
              "        (1): BatchNorm2d(256, eps=1e-05, momentum=0.1, affine=True, track_running_stats=True)\n",
              "      )\n",
              "    )\n",
              "    (1): BasicBlock(\n",
              "      (conv1): Conv2d(256, 256, kernel_size=(3, 3), stride=(1, 1), padding=(1, 1), bias=False)\n",
              "      (bn1): BatchNorm2d(256, eps=1e-05, momentum=0.1, affine=True, track_running_stats=True)\n",
              "      (relu): ReLU(inplace=True)\n",
              "      (conv2): Conv2d(256, 256, kernel_size=(3, 3), stride=(1, 1), padding=(1, 1), bias=False)\n",
              "      (bn2): BatchNorm2d(256, eps=1e-05, momentum=0.1, affine=True, track_running_stats=True)\n",
              "    )\n",
              "    (2): BasicBlock(\n",
              "      (conv1): Conv2d(256, 256, kernel_size=(3, 3), stride=(1, 1), padding=(1, 1), bias=False)\n",
              "      (bn1): BatchNorm2d(256, eps=1e-05, momentum=0.1, affine=True, track_running_stats=True)\n",
              "      (relu): ReLU(inplace=True)\n",
              "      (conv2): Conv2d(256, 256, kernel_size=(3, 3), stride=(1, 1), padding=(1, 1), bias=False)\n",
              "      (bn2): BatchNorm2d(256, eps=1e-05, momentum=0.1, affine=True, track_running_stats=True)\n",
              "    )\n",
              "    (3): BasicBlock(\n",
              "      (conv1): Conv2d(256, 256, kernel_size=(3, 3), stride=(1, 1), padding=(1, 1), bias=False)\n",
              "      (bn1): BatchNorm2d(256, eps=1e-05, momentum=0.1, affine=True, track_running_stats=True)\n",
              "      (relu): ReLU(inplace=True)\n",
              "      (conv2): Conv2d(256, 256, kernel_size=(3, 3), stride=(1, 1), padding=(1, 1), bias=False)\n",
              "      (bn2): BatchNorm2d(256, eps=1e-05, momentum=0.1, affine=True, track_running_stats=True)\n",
              "    )\n",
              "    (4): BasicBlock(\n",
              "      (conv1): Conv2d(256, 256, kernel_size=(3, 3), stride=(1, 1), padding=(1, 1), bias=False)\n",
              "      (bn1): BatchNorm2d(256, eps=1e-05, momentum=0.1, affine=True, track_running_stats=True)\n",
              "      (relu): ReLU(inplace=True)\n",
              "      (conv2): Conv2d(256, 256, kernel_size=(3, 3), stride=(1, 1), padding=(1, 1), bias=False)\n",
              "      (bn2): BatchNorm2d(256, eps=1e-05, momentum=0.1, affine=True, track_running_stats=True)\n",
              "    )\n",
              "    (5): BasicBlock(\n",
              "      (conv1): Conv2d(256, 256, kernel_size=(3, 3), stride=(1, 1), padding=(1, 1), bias=False)\n",
              "      (bn1): BatchNorm2d(256, eps=1e-05, momentum=0.1, affine=True, track_running_stats=True)\n",
              "      (relu): ReLU(inplace=True)\n",
              "      (conv2): Conv2d(256, 256, kernel_size=(3, 3), stride=(1, 1), padding=(1, 1), bias=False)\n",
              "      (bn2): BatchNorm2d(256, eps=1e-05, momentum=0.1, affine=True, track_running_stats=True)\n",
              "    )\n",
              "  )\n",
              "  (layer4): Sequential(\n",
              "    (0): BasicBlock(\n",
              "      (conv1): Conv2d(256, 512, kernel_size=(3, 3), stride=(2, 2), padding=(1, 1), bias=False)\n",
              "      (bn1): BatchNorm2d(512, eps=1e-05, momentum=0.1, affine=True, track_running_stats=True)\n",
              "      (relu): ReLU(inplace=True)\n",
              "      (conv2): Conv2d(512, 512, kernel_size=(3, 3), stride=(1, 1), padding=(1, 1), bias=False)\n",
              "      (bn2): BatchNorm2d(512, eps=1e-05, momentum=0.1, affine=True, track_running_stats=True)\n",
              "      (downsample): Sequential(\n",
              "        (0): Conv2d(256, 512, kernel_size=(1, 1), stride=(2, 2), bias=False)\n",
              "        (1): BatchNorm2d(512, eps=1e-05, momentum=0.1, affine=True, track_running_stats=True)\n",
              "      )\n",
              "    )\n",
              "    (1): BasicBlock(\n",
              "      (conv1): Conv2d(512, 512, kernel_size=(3, 3), stride=(1, 1), padding=(1, 1), bias=False)\n",
              "      (bn1): BatchNorm2d(512, eps=1e-05, momentum=0.1, affine=True, track_running_stats=True)\n",
              "      (relu): ReLU(inplace=True)\n",
              "      (conv2): Conv2d(512, 512, kernel_size=(3, 3), stride=(1, 1), padding=(1, 1), bias=False)\n",
              "      (bn2): BatchNorm2d(512, eps=1e-05, momentum=0.1, affine=True, track_running_stats=True)\n",
              "    )\n",
              "    (2): BasicBlock(\n",
              "      (conv1): Conv2d(512, 512, kernel_size=(3, 3), stride=(1, 1), padding=(1, 1), bias=False)\n",
              "      (bn1): BatchNorm2d(512, eps=1e-05, momentum=0.1, affine=True, track_running_stats=True)\n",
              "      (relu): ReLU(inplace=True)\n",
              "      (conv2): Conv2d(512, 512, kernel_size=(3, 3), stride=(1, 1), padding=(1, 1), bias=False)\n",
              "      (bn2): BatchNorm2d(512, eps=1e-05, momentum=0.1, affine=True, track_running_stats=True)\n",
              "    )\n",
              "  )\n",
              "  (avgpool): AdaptiveAvgPool2d(output_size=(1, 1))\n",
              "  (fc): Linear(in_features=512, out_features=3, bias=True)\n",
              ")"
            ]
          },
          "metadata": {},
          "execution_count": 9
        }
      ]
    },
    {
      "cell_type": "code",
      "source": [
        "children_counter = 0\n",
        "for n,c in resnet.named_children():\n",
        "    print(\"Children Counter: \",children_counter,\" Layer Name: \",n,)\n",
        "    children_counter+=1"
      ],
      "metadata": {
        "colab": {
          "base_uri": "https://localhost:8080/"
        },
        "id": "dtYfbYQw0zw5",
        "outputId": "8a907172-ef57-448f-cb4d-ae171a327dc3"
      },
      "execution_count": null,
      "outputs": [
        {
          "output_type": "stream",
          "name": "stdout",
          "text": [
            "Children Counter:  0  Layer Name:  conv1\n",
            "Children Counter:  1  Layer Name:  bn1\n",
            "Children Counter:  2  Layer Name:  relu\n",
            "Children Counter:  3  Layer Name:  maxpool\n",
            "Children Counter:  4  Layer Name:  layer1\n",
            "Children Counter:  5  Layer Name:  layer2\n",
            "Children Counter:  6  Layer Name:  layer3\n",
            "Children Counter:  7  Layer Name:  layer4\n",
            "Children Counter:  8  Layer Name:  avgpool\n",
            "Children Counter:  9  Layer Name:  fc\n"
          ]
        }
      ]
    },
    {
      "cell_type": "code",
      "source": [
        "class NewModelResnet(nn.Module):\n",
        "    def __init__(self, resnet, output_layers=None,*args, ):\n",
        "        super().__init__(*args)\n",
        "        self.output_layers = [7,8]\n",
        "        #print(self.output_layers)\n",
        "        self.selected_out = OrderedDict()\n",
        "\n",
        "        #PRETRAINED MODEL\n",
        "        self.pretrained = resnet\n",
        "        self.fhooks = []\n",
        "\n",
        "        for i,l in enumerate(list(self.pretrained._modules.keys())):\n",
        "            if i in self.output_layers:\n",
        "                self.fhooks.append(getattr(self.pretrained,l).register_forward_hook(self.forward_hook(l)))\n",
        "    \n",
        "    def forward_hook(self,layer_name):\n",
        "        def hook(module, input, output):\n",
        "            self.selected_out[layer_name] = output\n",
        "        return hook\n",
        "\n",
        "    def forward(self, x):\n",
        "        out = self.pretrained(x)\n",
        "        return out, self.selected_out"
      ],
      "metadata": {
        "id": "lM7KlDiG0-Jq"
      },
      "execution_count": null,
      "outputs": []
    },
    {
      "cell_type": "code",
      "source": [
        "resnet.load_state_dict(torch.load('drive/MyDrive/resnet34_covid_pneumonia_100_32_0.01_0.001_model_weights.pth', map_location=device)) "
      ],
      "metadata": {
        "colab": {
          "base_uri": "https://localhost:8080/"
        },
        "id": "iiO2kI_N13SP",
        "outputId": "e0762c7b-d6fb-4e86-c8cd-ee9e8525a5f2"
      },
      "execution_count": null,
      "outputs": [
        {
          "output_type": "execute_result",
          "data": {
            "text/plain": [
              "<All keys matched successfully>"
            ]
          },
          "metadata": {},
          "execution_count": 96
        }
      ]
    },
    {
      "cell_type": "code",
      "source": [
        "resnetmodel = NewModelResnet(resnet)\n",
        "resnetmodel = resnetmodel.to(device)"
      ],
      "metadata": {
        "id": "7k9wHcnL14bl"
      },
      "execution_count": null,
      "outputs": []
    },
    {
      "cell_type": "markdown",
      "source": [
        "#T-SNE for Resnet"
      ],
      "metadata": {
        "id": "9gizydXX2qj6"
      }
    },
    {
      "cell_type": "code",
      "source": [
        "f = 125\n",
        "labels = []\n",
        "outputs = []\n",
        "with torch.no_grad():\n",
        "  for b, (image, label) in enumerate(data_loaders['test']):\n",
        "        if(b%25==0):\n",
        "          print(b,f)\n",
        "        # Apply the model\n",
        "        image, label = image.to(device), label.to(device)\n",
        "        _, dictionary = resnetmodel(image)\n",
        "        labels += label\n",
        "        outputs += dictionary['layer4']\n",
        "        f-=1\n",
        "        if(f==0):\n",
        "          break"
      ],
      "metadata": {
        "colab": {
          "base_uri": "https://localhost:8080/"
        },
        "id": "ugN-w1kZ6CmU",
        "outputId": "2f6e0fb5-62a7-4a1b-fe1e-108fd0e88b84"
      },
      "execution_count": null,
      "outputs": [
        {
          "output_type": "stream",
          "name": "stderr",
          "text": [
            "/usr/local/lib/python3.8/dist-packages/torch/utils/data/dataloader.py:563: UserWarning: This DataLoader will create 12 worker processes in total. Our suggested max number of worker in current system is 2, which is smaller than what this DataLoader is going to create. Please be aware that excessive worker creation might get DataLoader running slow or even freeze, lower the worker number to avoid potential slowness/freeze if necessary.\n",
            "  warnings.warn(_create_warning_msg(\n"
          ]
        },
        {
          "output_type": "stream",
          "name": "stdout",
          "text": [
            "0 125\n",
            "25 100\n",
            "50 75\n",
            "75 50\n",
            "100 25\n"
          ]
        }
      ]
    },
    {
      "cell_type": "code",
      "source": [
        "for i in range(1000):\n",
        "  outputs[i] = outputs[i].detach().cpu().numpy()"
      ],
      "metadata": {
        "id": "_BbE8zEo2Wnx"
      },
      "execution_count": null,
      "outputs": []
    },
    {
      "cell_type": "code",
      "source": [
        "outputs = np.asarray(outputs, dtype=np.float64)"
      ],
      "metadata": {
        "id": "CQydyWGr5YqG"
      },
      "execution_count": null,
      "outputs": []
    },
    {
      "cell_type": "code",
      "source": [
        "layer4 = torch.tensor(outputs)"
      ],
      "metadata": {
        "id": "v7cqYK0BnqRZ"
      },
      "execution_count": null,
      "outputs": []
    },
    {
      "cell_type": "code",
      "source": [
        "layer4 = layer4.reshape(batch_size*125, 512*8*8)\n",
        "layer4 = layer4.detach().cpu().numpy()"
      ],
      "metadata": {
        "id": "v-NRwh-J8ipq"
      },
      "execution_count": null,
      "outputs": []
    },
    {
      "cell_type": "code",
      "source": [
        "layer4.shape"
      ],
      "metadata": {
        "colab": {
          "base_uri": "https://localhost:8080/"
        },
        "id": "-XLGxJcX76U_",
        "outputId": "64432dde-e9f2-4f64-b307-968f72a37de4"
      },
      "execution_count": null,
      "outputs": [
        {
          "output_type": "execute_result",
          "data": {
            "text/plain": [
              "(1000, 32768)"
            ]
          },
          "metadata": {},
          "execution_count": 107
        }
      ]
    },
    {
      "cell_type": "code",
      "source": [
        "from sklearn.manifold import TSNE\n",
        "X_embedded = TSNE(n_components=2, learning_rate='auto', init='random', n_iter=10000).fit_transform(layer4)"
      ],
      "metadata": {
        "id": "80D_Zq6d7e7_"
      },
      "execution_count": null,
      "outputs": []
    },
    {
      "cell_type": "code",
      "source": [
        "class1 = []\n",
        "class2 = []\n",
        "class3 = []\n",
        "\n",
        "for i in range(len(X_embedded)):\n",
        "  if(labels[i]==0):\n",
        "    class1.append(X_embedded[i])\n",
        "  elif(labels[i]==1):\n",
        "    class2.append(X_embedded[i])\n",
        "  elif(labels[i]==2):\n",
        "    class3.append(X_embedded[i])\n",
        "\n",
        "class1 = np.array(class1)\n",
        "class2 = np.array(class2)\n",
        "class3 = np.array(class3)"
      ],
      "metadata": {
        "id": "AKde_rxp7-iS"
      },
      "execution_count": null,
      "outputs": []
    },
    {
      "cell_type": "code",
      "source": [
        "plt.figure(figsize=(8,8))\n",
        "plt.scatter(class1[:,0], class1[:,1], c=\"red\", label=\"COVID\")\n",
        "plt.scatter(class2[:,0], class2[:,1], c=\"green\", label=\"Normal\")\n",
        "plt.scatter(class3[:,0], class3[:,1], c=\"blue\", label=\"Viral Pneumonia\")\n",
        "plt.legend()\n",
        "plt.show()"
      ],
      "metadata": {
        "colab": {
          "base_uri": "https://localhost:8080/",
          "height": 483
        },
        "id": "QkE2Yes083Pd",
        "outputId": "a9861084-e12a-48fa-922b-ed04f45e3554"
      },
      "execution_count": null,
      "outputs": [
        {
          "output_type": "display_data",
          "data": {
            "text/plain": [
              "<Figure size 576x576 with 1 Axes>"
            ],
            "image/png": "[encoded data removed]"
          },
          "metadata": {
            "needs_background": "light"
          }
        }
      ]
    },
    {
      "cell_type": "code",
      "source": [],
      "metadata": {
        "id": "clfz2tw289TK"
      },
      "execution_count": null,
      "outputs": []
    },
    {
      "cell_type": "markdown",
      "source": [
        "# MobileNet"
      ],
      "metadata": {
        "id": "dcT2TKdRaZLV"
      }
    },
    {
      "cell_type": "code",
      "source": [
        "device = torch.device(\"cuda:0\" if torch.cuda.is_available() else \"cpu\")\n",
        "\n",
        "model_name = \"mobile_net_v3_large\"\n",
        "\n",
        "# Number of classes.\n",
        "num_classes = 3\n",
        "\n",
        "# Number of workers for data loader.\n",
        "num_workers = 12\n",
        "\n",
        "# Covid Pneumonia dataset metrics\n",
        "norm_arr = ([0.5159, 0.5159, 0.5159], [0.2554, 0.2554, 0.2554])\n",
        "\n",
        "# Feature extract flag: False - Tune the whole model,\n",
        "#                       True - Update only the reshaped layer parameters.\n",
        "feature_extract = False\n",
        "\n",
        "# Use pretrained flag: None - Use random weights\n",
        "#                      String - Use pretrained weights given by String\n",
        "use_pretrained = None\n",
        "\n",
        "# Initialize the model for this run.\n",
        "mobilenet, input_size = initialize_model(model_name, num_classes, feature_extract, use_pretrained=use_pretrained)"
      ],
      "metadata": {
        "id": "XtHCKY60afDF"
      },
      "execution_count": null,
      "outputs": []
    },
    {
      "cell_type": "code",
      "source": [
        "mobilenet"
      ],
      "metadata": {
        "id": "mO7YeK_NrS7w",
        "colab": {
          "base_uri": "https://localhost:8080/"
        },
        "outputId": "f8cc43d7-aed2-4550-ea50-ad3b5573f49a"
      },
      "execution_count": null,
      "outputs": [
        {
          "output_type": "execute_result",
          "data": {
            "text/plain": [
              "MobileNetV3(\n",
              "  (features): Sequential(\n",
              "    (0): Conv2dNormActivation(\n",
              "      (0): Conv2d(3, 16, kernel_size=(3, 3), stride=(2, 2), padding=(1, 1), bias=False)\n",
              "      (1): BatchNorm2d(16, eps=0.001, momentum=0.01, affine=True, track_running_stats=True)\n",
              "      (2): Hardswish()\n",
              "    )\n",
              "    (1): InvertedResidual(\n",
              "      (block): Sequential(\n",
              "        (0): Conv2dNormActivation(\n",
              "          (0): Conv2d(16, 16, kernel_size=(3, 3), stride=(1, 1), padding=(1, 1), groups=16, bias=False)\n",
              "          (1): BatchNorm2d(16, eps=0.001, momentum=0.01, affine=True, track_running_stats=True)\n",
              "          (2): ReLU(inplace=True)\n",
              "        )\n",
              "        (1): Conv2dNormActivation(\n",
              "          (0): Conv2d(16, 16, kernel_size=(1, 1), stride=(1, 1), bias=False)\n",
              "          (1): BatchNorm2d(16, eps=0.001, momentum=0.01, affine=True, track_running_stats=True)\n",
              "        )\n",
              "      )\n",
              "    )\n",
              "    (2): InvertedResidual(\n",
              "      (block): Sequential(\n",
              "        (0): Conv2dNormActivation(\n",
              "          (0): Conv2d(16, 64, kernel_size=(1, 1), stride=(1, 1), bias=False)\n",
              "          (1): BatchNorm2d(64, eps=0.001, momentum=0.01, affine=True, track_running_stats=True)\n",
              "          (2): ReLU(inplace=True)\n",
              "        )\n",
              "        (1): Conv2dNormActivation(\n",
              "          (0): Conv2d(64, 64, kernel_size=(3, 3), stride=(2, 2), padding=(1, 1), groups=64, bias=False)\n",
              "          (1): BatchNorm2d(64, eps=0.001, momentum=0.01, affine=True, track_running_stats=True)\n",
              "          (2): ReLU(inplace=True)\n",
              "        )\n",
              "        (2): Conv2dNormActivation(\n",
              "          (0): Conv2d(64, 24, kernel_size=(1, 1), stride=(1, 1), bias=False)\n",
              "          (1): BatchNorm2d(24, eps=0.001, momentum=0.01, affine=True, track_running_stats=True)\n",
              "        )\n",
              "      )\n",
              "    )\n",
              "    (3): InvertedResidual(\n",
              "      (block): Sequential(\n",
              "        (0): Conv2dNormActivation(\n",
              "          (0): Conv2d(24, 72, kernel_size=(1, 1), stride=(1, 1), bias=False)\n",
              "          (1): BatchNorm2d(72, eps=0.001, momentum=0.01, affine=True, track_running_stats=True)\n",
              "          (2): ReLU(inplace=True)\n",
              "        )\n",
              "        (1): Conv2dNormActivation(\n",
              "          (0): Conv2d(72, 72, kernel_size=(3, 3), stride=(1, 1), padding=(1, 1), groups=72, bias=False)\n",
              "          (1): BatchNorm2d(72, eps=0.001, momentum=0.01, affine=True, track_running_stats=True)\n",
              "          (2): ReLU(inplace=True)\n",
              "        )\n",
              "        (2): Conv2dNormActivation(\n",
              "          (0): Conv2d(72, 24, kernel_size=(1, 1), stride=(1, 1), bias=False)\n",
              "          (1): BatchNorm2d(24, eps=0.001, momentum=0.01, affine=True, track_running_stats=True)\n",
              "        )\n",
              "      )\n",
              "    )\n",
              "    (4): InvertedResidual(\n",
              "      (block): Sequential(\n",
              "        (0): Conv2dNormActivation(\n",
              "          (0): Conv2d(24, 72, kernel_size=(1, 1), stride=(1, 1), bias=False)\n",
              "          (1): BatchNorm2d(72, eps=0.001, momentum=0.01, affine=True, track_running_stats=True)\n",
              "          (2): ReLU(inplace=True)\n",
              "        )\n",
              "        (1): Conv2dNormActivation(\n",
              "          (0): Conv2d(72, 72, kernel_size=(5, 5), stride=(2, 2), padding=(2, 2), groups=72, bias=False)\n",
              "          (1): BatchNorm2d(72, eps=0.001, momentum=0.01, affine=True, track_running_stats=True)\n",
              "          (2): ReLU(inplace=True)\n",
              "        )\n",
              "        (2): SqueezeExcitation(\n",
              "          (avgpool): AdaptiveAvgPool2d(output_size=1)\n",
              "          (fc1): Conv2d(72, 24, kernel_size=(1, 1), stride=(1, 1))\n",
              "          (fc2): Conv2d(24, 72, kernel_size=(1, 1), stride=(1, 1))\n",
              "          (activation): ReLU()\n",
              "          (scale_activation): Hardsigmoid()\n",
              "        )\n",
              "        (3): Conv2dNormActivation(\n",
              "          (0): Conv2d(72, 40, kernel_size=(1, 1), stride=(1, 1), bias=False)\n",
              "          (1): BatchNorm2d(40, eps=0.001, momentum=0.01, affine=True, track_running_stats=True)\n",
              "        )\n",
              "      )\n",
              "    )\n",
              "    (5): InvertedResidual(\n",
              "      (block): Sequential(\n",
              "        (0): Conv2dNormActivation(\n",
              "          (0): Conv2d(40, 120, kernel_size=(1, 1), stride=(1, 1), bias=False)\n",
              "          (1): BatchNorm2d(120, eps=0.001, momentum=0.01, affine=True, track_running_stats=True)\n",
              "          (2): ReLU(inplace=True)\n",
              "        )\n",
              "        (1): Conv2dNormActivation(\n",
              "          (0): Conv2d(120, 120, kernel_size=(5, 5), stride=(1, 1), padding=(2, 2), groups=120, bias=False)\n",
              "          (1): BatchNorm2d(120, eps=0.001, momentum=0.01, affine=True, track_running_stats=True)\n",
              "          (2): ReLU(inplace=True)\n",
              "        )\n",
              "        (2): SqueezeExcitation(\n",
              "          (avgpool): AdaptiveAvgPool2d(output_size=1)\n",
              "          (fc1): Conv2d(120, 32, kernel_size=(1, 1), stride=(1, 1))\n",
              "          (fc2): Conv2d(32, 120, kernel_size=(1, 1), stride=(1, 1))\n",
              "          (activation): ReLU()\n",
              "          (scale_activation): Hardsigmoid()\n",
              "        )\n",
              "        (3): Conv2dNormActivation(\n",
              "          (0): Conv2d(120, 40, kernel_size=(1, 1), stride=(1, 1), bias=False)\n",
              "          (1): BatchNorm2d(40, eps=0.001, momentum=0.01, affine=True, track_running_stats=True)\n",
              "        )\n",
              "      )\n",
              "    )\n",
              "    (6): InvertedResidual(\n",
              "      (block): Sequential(\n",
              "        (0): Conv2dNormActivation(\n",
              "          (0): Conv2d(40, 120, kernel_size=(1, 1), stride=(1, 1), bias=False)\n",
              "          (1): BatchNorm2d(120, eps=0.001, momentum=0.01, affine=True, track_running_stats=True)\n",
              "          (2): ReLU(inplace=True)\n",
              "        )\n",
              "        (1): Conv2dNormActivation(\n",
              "          (0): Conv2d(120, 120, kernel_size=(5, 5), stride=(1, 1), padding=(2, 2), groups=120, bias=False)\n",
              "          (1): BatchNorm2d(120, eps=0.001, momentum=0.01, affine=True, track_running_stats=True)\n",
              "          (2): ReLU(inplace=True)\n",
              "        )\n",
              "        (2): SqueezeExcitation(\n",
              "          (avgpool): AdaptiveAvgPool2d(output_size=1)\n",
              "          (fc1): Conv2d(120, 32, kernel_size=(1, 1), stride=(1, 1))\n",
              "          (fc2): Conv2d(32, 120, kernel_size=(1, 1), stride=(1, 1))\n",
              "          (activation): ReLU()\n",
              "          (scale_activation): Hardsigmoid()\n",
              "        )\n",
              "        (3): Conv2dNormActivation(\n",
              "          (0): Conv2d(120, 40, kernel_size=(1, 1), stride=(1, 1), bias=False)\n",
              "          (1): BatchNorm2d(40, eps=0.001, momentum=0.01, affine=True, track_running_stats=True)\n",
              "        )\n",
              "      )\n",
              "    )\n",
              "    (7): InvertedResidual(\n",
              "      (block): Sequential(\n",
              "        (0): Conv2dNormActivation(\n",
              "          (0): Conv2d(40, 240, kernel_size=(1, 1), stride=(1, 1), bias=False)\n",
              "          (1): BatchNorm2d(240, eps=0.001, momentum=0.01, affine=True, track_running_stats=True)\n",
              "          (2): Hardswish()\n",
              "        )\n",
              "        (1): Conv2dNormActivation(\n",
              "          (0): Conv2d(240, 240, kernel_size=(3, 3), stride=(2, 2), padding=(1, 1), groups=240, bias=False)\n",
              "          (1): BatchNorm2d(240, eps=0.001, momentum=0.01, affine=True, track_running_stats=True)\n",
              "          (2): Hardswish()\n",
              "        )\n",
              "        (2): Conv2dNormActivation(\n",
              "          (0): Conv2d(240, 80, kernel_size=(1, 1), stride=(1, 1), bias=False)\n",
              "          (1): BatchNorm2d(80, eps=0.001, momentum=0.01, affine=True, track_running_stats=True)\n",
              "        )\n",
              "      )\n",
              "    )\n",
              "    (8): InvertedResidual(\n",
              "      (block): Sequential(\n",
              "        (0): Conv2dNormActivation(\n",
              "          (0): Conv2d(80, 200, kernel_size=(1, 1), stride=(1, 1), bias=False)\n",
              "          (1): BatchNorm2d(200, eps=0.001, momentum=0.01, affine=True, track_running_stats=True)\n",
              "          (2): Hardswish()\n",
              "        )\n",
              "        (1): Conv2dNormActivation(\n",
              "          (0): Conv2d(200, 200, kernel_size=(3, 3), stride=(1, 1), padding=(1, 1), groups=200, bias=False)\n",
              "          (1): BatchNorm2d(200, eps=0.001, momentum=0.01, affine=True, track_running_stats=True)\n",
              "          (2): Hardswish()\n",
              "        )\n",
              "        (2): Conv2dNormActivation(\n",
              "          (0): Conv2d(200, 80, kernel_size=(1, 1), stride=(1, 1), bias=False)\n",
              "          (1): BatchNorm2d(80, eps=0.001, momentum=0.01, affine=True, track_running_stats=True)\n",
              "        )\n",
              "      )\n",
              "    )\n",
              "    (9): InvertedResidual(\n",
              "      (block): Sequential(\n",
              "        (0): Conv2dNormActivation(\n",
              "          (0): Conv2d(80, 184, kernel_size=(1, 1), stride=(1, 1), bias=False)\n",
              "          (1): BatchNorm2d(184, eps=0.001, momentum=0.01, affine=True, track_running_stats=True)\n",
              "          (2): Hardswish()\n",
              "        )\n",
              "        (1): Conv2dNormActivation(\n",
              "          (0): Conv2d(184, 184, kernel_size=(3, 3), stride=(1, 1), padding=(1, 1), groups=184, bias=False)\n",
              "          (1): BatchNorm2d(184, eps=0.001, momentum=0.01, affine=True, track_running_stats=True)\n",
              "          (2): Hardswish()\n",
              "        )\n",
              "        (2): Conv2dNormActivation(\n",
              "          (0): Conv2d(184, 80, kernel_size=(1, 1), stride=(1, 1), bias=False)\n",
              "          (1): BatchNorm2d(80, eps=0.001, momentum=0.01, affine=True, track_running_stats=True)\n",
              "        )\n",
              "      )\n",
              "    )\n",
              "    (10): InvertedResidual(\n",
              "      (block): Sequential(\n",
              "        (0): Conv2dNormActivation(\n",
              "          (0): Conv2d(80, 184, kernel_size=(1, 1), stride=(1, 1), bias=False)\n",
              "          (1): BatchNorm2d(184, eps=0.001, momentum=0.01, affine=True, track_running_stats=True)\n",
              "          (2): Hardswish()\n",
              "        )\n",
              "        (1): Conv2dNormActivation(\n",
              "          (0): Conv2d(184, 184, kernel_size=(3, 3), stride=(1, 1), padding=(1, 1), groups=184, bias=False)\n",
              "          (1): BatchNorm2d(184, eps=0.001, momentum=0.01, affine=True, track_running_stats=True)\n",
              "          (2): Hardswish()\n",
              "        )\n",
              "        (2): Conv2dNormActivation(\n",
              "          (0): Conv2d(184, 80, kernel_size=(1, 1), stride=(1, 1), bias=False)\n",
              "          (1): BatchNorm2d(80, eps=0.001, momentum=0.01, affine=True, track_running_stats=True)\n",
              "        )\n",
              "      )\n",
              "    )\n",
              "    (11): InvertedResidual(\n",
              "      (block): Sequential(\n",
              "        (0): Conv2dNormActivation(\n",
              "          (0): Conv2d(80, 480, kernel_size=(1, 1), stride=(1, 1), bias=False)\n",
              "          (1): BatchNorm2d(480, eps=0.001, momentum=0.01, affine=True, track_running_stats=True)\n",
              "          (2): Hardswish()\n",
              "        )\n",
              "        (1): Conv2dNormActivation(\n",
              "          (0): Conv2d(480, 480, kernel_size=(3, 3), stride=(1, 1), padding=(1, 1), groups=480, bias=False)\n",
              "          (1): BatchNorm2d(480, eps=0.001, momentum=0.01, affine=True, track_running_stats=True)\n",
              "          (2): Hardswish()\n",
              "        )\n",
              "        (2): SqueezeExcitation(\n",
              "          (avgpool): AdaptiveAvgPool2d(output_size=1)\n",
              "          (fc1): Conv2d(480, 120, kernel_size=(1, 1), stride=(1, 1))\n",
              "          (fc2): Conv2d(120, 480, kernel_size=(1, 1), stride=(1, 1))\n",
              "          (activation): ReLU()\n",
              "          (scale_activation): Hardsigmoid()\n",
              "        )\n",
              "        (3): Conv2dNormActivation(\n",
              "          (0): Conv2d(480, 112, kernel_size=(1, 1), stride=(1, 1), bias=False)\n",
              "          (1): BatchNorm2d(112, eps=0.001, momentum=0.01, affine=True, track_running_stats=True)\n",
              "        )\n",
              "      )\n",
              "    )\n",
              "    (12): InvertedResidual(\n",
              "      (block): Sequential(\n",
              "        (0): Conv2dNormActivation(\n",
              "          (0): Conv2d(112, 672, kernel_size=(1, 1), stride=(1, 1), bias=False)\n",
              "          (1): BatchNorm2d(672, eps=0.001, momentum=0.01, affine=True, track_running_stats=True)\n",
              "          (2): Hardswish()\n",
              "        )\n",
              "        (1): Conv2dNormActivation(\n",
              "          (0): Conv2d(672, 672, kernel_size=(3, 3), stride=(1, 1), padding=(1, 1), groups=672, bias=False)\n",
              "          (1): BatchNorm2d(672, eps=0.001, momentum=0.01, affine=True, track_running_stats=True)\n",
              "          (2): Hardswish()\n",
              "        )\n",
              "        (2): SqueezeExcitation(\n",
              "          (avgpool): AdaptiveAvgPool2d(output_size=1)\n",
              "          (fc1): Conv2d(672, 168, kernel_size=(1, 1), stride=(1, 1))\n",
              "          (fc2): Conv2d(168, 672, kernel_size=(1, 1), stride=(1, 1))\n",
              "          (activation): ReLU()\n",
              "          (scale_activation): Hardsigmoid()\n",
              "        )\n",
              "        (3): Conv2dNormActivation(\n",
              "          (0): Conv2d(672, 112, kernel_size=(1, 1), stride=(1, 1), bias=False)\n",
              "          (1): BatchNorm2d(112, eps=0.001, momentum=0.01, affine=True, track_running_stats=True)\n",
              "        )\n",
              "      )\n",
              "    )\n",
              "    (13): InvertedResidual(\n",
              "      (block): Sequential(\n",
              "        (0): Conv2dNormActivation(\n",
              "          (0): Conv2d(112, 672, kernel_size=(1, 1), stride=(1, 1), bias=False)\n",
              "          (1): BatchNorm2d(672, eps=0.001, momentum=0.01, affine=True, track_running_stats=True)\n",
              "          (2): Hardswish()\n",
              "        )\n",
              "        (1): Conv2dNormActivation(\n",
              "          (0): Conv2d(672, 672, kernel_size=(5, 5), stride=(2, 2), padding=(2, 2), groups=672, bias=False)\n",
              "          (1): BatchNorm2d(672, eps=0.001, momentum=0.01, affine=True, track_running_stats=True)\n",
              "          (2): Hardswish()\n",
              "        )\n",
              "        (2): SqueezeExcitation(\n",
              "          (avgpool): AdaptiveAvgPool2d(output_size=1)\n",
              "          (fc1): Conv2d(672, 168, kernel_size=(1, 1), stride=(1, 1))\n",
              "          (fc2): Conv2d(168, 672, kernel_size=(1, 1), stride=(1, 1))\n",
              "          (activation): ReLU()\n",
              "          (scale_activation): Hardsigmoid()\n",
              "        )\n",
              "        (3): Conv2dNormActivation(\n",
              "          (0): Conv2d(672, 160, kernel_size=(1, 1), stride=(1, 1), bias=False)\n",
              "          (1): BatchNorm2d(160, eps=0.001, momentum=0.01, affine=True, track_running_stats=True)\n",
              "        )\n",
              "      )\n",
              "    )\n",
              "    (14): InvertedResidual(\n",
              "      (block): Sequential(\n",
              "        (0): Conv2dNormActivation(\n",
              "          (0): Conv2d(160, 960, kernel_size=(1, 1), stride=(1, 1), bias=False)\n",
              "          (1): BatchNorm2d(960, eps=0.001, momentum=0.01, affine=True, track_running_stats=True)\n",
              "          (2): Hardswish()\n",
              "        )\n",
              "        (1): Conv2dNormActivation(\n",
              "          (0): Conv2d(960, 960, kernel_size=(5, 5), stride=(1, 1), padding=(2, 2), groups=960, bias=False)\n",
              "          (1): BatchNorm2d(960, eps=0.001, momentum=0.01, affine=True, track_running_stats=True)\n",
              "          (2): Hardswish()\n",
              "        )\n",
              "        (2): SqueezeExcitation(\n",
              "          (avgpool): AdaptiveAvgPool2d(output_size=1)\n",
              "          (fc1): Conv2d(960, 240, kernel_size=(1, 1), stride=(1, 1))\n",
              "          (fc2): Conv2d(240, 960, kernel_size=(1, 1), stride=(1, 1))\n",
              "          (activation): ReLU()\n",
              "          (scale_activation): Hardsigmoid()\n",
              "        )\n",
              "        (3): Conv2dNormActivation(\n",
              "          (0): Conv2d(960, 160, kernel_size=(1, 1), stride=(1, 1), bias=False)\n",
              "          (1): BatchNorm2d(160, eps=0.001, momentum=0.01, affine=True, track_running_stats=True)\n",
              "        )\n",
              "      )\n",
              "    )\n",
              "    (15): InvertedResidual(\n",
              "      (block): Sequential(\n",
              "        (0): Conv2dNormActivation(\n",
              "          (0): Conv2d(160, 960, kernel_size=(1, 1), stride=(1, 1), bias=False)\n",
              "          (1): BatchNorm2d(960, eps=0.001, momentum=0.01, affine=True, track_running_stats=True)\n",
              "          (2): Hardswish()\n",
              "        )\n",
              "        (1): Conv2dNormActivation(\n",
              "          (0): Conv2d(960, 960, kernel_size=(5, 5), stride=(1, 1), padding=(2, 2), groups=960, bias=False)\n",
              "          (1): BatchNorm2d(960, eps=0.001, momentum=0.01, affine=True, track_running_stats=True)\n",
              "          (2): Hardswish()\n",
              "        )\n",
              "        (2): SqueezeExcitation(\n",
              "          (avgpool): AdaptiveAvgPool2d(output_size=1)\n",
              "          (fc1): Conv2d(960, 240, kernel_size=(1, 1), stride=(1, 1))\n",
              "          (fc2): Conv2d(240, 960, kernel_size=(1, 1), stride=(1, 1))\n",
              "          (activation): ReLU()\n",
              "          (scale_activation): Hardsigmoid()\n",
              "        )\n",
              "        (3): Conv2dNormActivation(\n",
              "          (0): Conv2d(960, 160, kernel_size=(1, 1), stride=(1, 1), bias=False)\n",
              "          (1): BatchNorm2d(160, eps=0.001, momentum=0.01, affine=True, track_running_stats=True)\n",
              "        )\n",
              "      )\n",
              "    )\n",
              "    (16): Conv2dNormActivation(\n",
              "      (0): Conv2d(160, 960, kernel_size=(1, 1), stride=(1, 1), bias=False)\n",
              "      (1): BatchNorm2d(960, eps=0.001, momentum=0.01, affine=True, track_running_stats=True)\n",
              "      (2): Hardswish()\n",
              "    )\n",
              "  )\n",
              "  (avgpool): AdaptiveAvgPool2d(output_size=1)\n",
              "  (classifier): Sequential(\n",
              "    (0): Linear(in_features=960, out_features=1280, bias=True)\n",
              "    (1): Hardswish()\n",
              "    (2): Dropout(p=0.2, inplace=True)\n",
              "    (3): Linear(in_features=1280, out_features=3, bias=True)\n",
              "  )\n",
              ")"
            ]
          },
          "metadata": {},
          "execution_count": 115
        }
      ]
    },
    {
      "cell_type": "code",
      "source": [
        "children_counter = 0\n",
        "for n,c in mobilenet.named_children():\n",
        "    print(\"Children Counter: \",children_counter,\" Layer Name: \",n)\n",
        "    children_counter+=1"
      ],
      "metadata": {
        "colab": {
          "base_uri": "https://localhost:8080/"
        },
        "id": "u-MvtXeaaX99",
        "outputId": "7af1628d-5bab-4ca9-f321-7182df3160be"
      },
      "execution_count": null,
      "outputs": [
        {
          "output_type": "stream",
          "name": "stdout",
          "text": [
            "Children Counter:  0  Layer Name:  features\n",
            "Children Counter:  1  Layer Name:  avgpool\n",
            "Children Counter:  2  Layer Name:  classifier\n"
          ]
        }
      ]
    },
    {
      "cell_type": "code",
      "source": [
        "class NewModelMobileNet(nn.Module):\n",
        "    def __init__(self, mobilenet, output_layers=None,*args, ):\n",
        "        super().__init__(*args)\n",
        "        self.output_layers = [16]\n",
        "        #print(self.output_layers)\n",
        "        self.selected_out = OrderedDict()\n",
        "\n",
        "        #PRETRAINED MODEL\n",
        "        self.pretrained = mobilenet\n",
        "        self.fhooks = []\n",
        "\n",
        "        for i,l in enumerate(list(self.pretrained._modules['features']._modules.keys())):\n",
        "            print(i,l)\n",
        "            if i in self.output_layers:\n",
        "                self.fhooks.append(getattr(self.pretrained._modules['features'],l).register_forward_hook(self.forward_hook(l)))\n",
        "    \n",
        "    def forward_hook(self,layer_name):\n",
        "        def hook(module, input, output):\n",
        "            self.selected_out[layer_name] = output\n",
        "        return hook\n",
        "\n",
        "    def forward(self, x):\n",
        "        out = self.pretrained(x)\n",
        "        return out, self.selected_out"
      ],
      "metadata": {
        "id": "YDSF5La2bY8l"
      },
      "execution_count": null,
      "outputs": []
    },
    {
      "cell_type": "code",
      "source": [
        "mobilenet.load_state_dict(torch.load('drive/MyDrive/mobile_net_v3_large_covid_pneumonia_100_32_0.01_0.001_model_weights.pth', map_location=device)) "
      ],
      "metadata": {
        "colab": {
          "base_uri": "https://localhost:8080/"
        },
        "id": "1Jjqmg0cKcIj",
        "outputId": "1e48db27-3008-414a-f0d1-f443e40af2c5"
      },
      "execution_count": null,
      "outputs": [
        {
          "output_type": "execute_result",
          "data": {
            "text/plain": [
              "<All keys matched successfully>"
            ]
          },
          "metadata": {},
          "execution_count": 123
        }
      ]
    },
    {
      "cell_type": "code",
      "source": [
        "mobilenetmodel = NewModelMobileNet(mobilenet)\n",
        "mobilenetmodel = mobilenetmodel.to(device)"
      ],
      "metadata": {
        "colab": {
          "base_uri": "https://localhost:8080/"
        },
        "id": "Tp6RNT-vLNuU",
        "outputId": "a40dc4a0-7ee2-4853-b793-6c771324941f"
      },
      "execution_count": null,
      "outputs": [
        {
          "output_type": "stream",
          "name": "stdout",
          "text": [
            "0 0\n",
            "1 1\n",
            "2 2\n",
            "3 3\n",
            "4 4\n",
            "5 5\n",
            "6 6\n",
            "7 7\n",
            "8 8\n",
            "9 9\n",
            "10 10\n",
            "11 11\n",
            "12 12\n",
            "13 13\n",
            "14 14\n",
            "15 15\n",
            "16 16\n"
          ]
        }
      ]
    },
    {
      "cell_type": "code",
      "source": [
        "f = 125\n",
        "labels = []\n",
        "outputs = []\n",
        "\n",
        "with torch.no_grad():\n",
        "  for b, (image, label) in enumerate(data_loaders['test']):\n",
        "              if(b%25==0):\n",
        "                print(b,f)\n",
        "              # Apply the model\n",
        "              image, label = image.to(device), label.to(device)\n",
        "              _, dictionary = mobilenetmodel(image)\n",
        "              labels += label\n",
        "              outputs += dictionary['16']\n",
        "              f-=1\n",
        "              if(f==0):\n",
        "                break"
      ],
      "metadata": {
        "id": "nM0ayxndHaRn",
        "colab": {
          "base_uri": "https://localhost:8080/"
        },
        "outputId": "29ff12d6-ec96-479d-bab3-9f2c07e734f9"
      },
      "execution_count": null,
      "outputs": [
        {
          "output_type": "stream",
          "name": "stdout",
          "text": [
            "0 125\n",
            "25 100\n",
            "50 75\n",
            "75 50\n",
            "100 25\n"
          ]
        }
      ]
    },
    {
      "cell_type": "code",
      "source": [
        "for i in range(1000):\n",
        "  outputs[i] = outputs[i].cpu().detach().numpy()\n"
      ],
      "metadata": {
        "id": "_0WdruO51j7J"
      },
      "execution_count": null,
      "outputs": []
    },
    {
      "cell_type": "code",
      "source": [
        "outputs = np.asarray(outputs, dtype=np.float64)"
      ],
      "metadata": {
        "id": "eboxnyyj317e"
      },
      "execution_count": null,
      "outputs": []
    },
    {
      "cell_type": "code",
      "source": [
        "layer16 = torch.tensor(outputs)"
      ],
      "metadata": {
        "id": "6o82tAWP37ou"
      },
      "execution_count": null,
      "outputs": []
    },
    {
      "cell_type": "code",
      "source": [
        "layer16 = layer16.reshape(batch_size*125, 960*8*8)\n",
        "layer16 = layer16.detach().cpu().numpy()"
      ],
      "metadata": {
        "id": "LA4keoI5LSI3"
      },
      "execution_count": null,
      "outputs": []
    },
    {
      "cell_type": "code",
      "source": [
        "from sklearn.manifold import TSNE\n",
        "X_embedded = TSNE(n_components=2, learning_rate='auto', init='random', n_iter=100000).fit_transform(layer16)"
      ],
      "metadata": {
        "id": "BJ6G311QLySK"
      },
      "execution_count": null,
      "outputs": []
    },
    {
      "cell_type": "code",
      "source": [
        "class1 = []\n",
        "class2 = []\n",
        "class3 = []\n",
        "\n",
        "for i in range(len(X_embedded)):\n",
        "  if(labels[i]==0):\n",
        "    class1.append(X_embedded[i])\n",
        "  elif(labels[i]==1):\n",
        "    class2.append(X_embedded[i])\n",
        "  elif(labels[i]==2):\n",
        "    class3.append(X_embedded[i])\n",
        "\n",
        "class1 = np.array(class1)\n",
        "class2 = np.array(class2)\n",
        "class3 = np.array(class3)"
      ],
      "metadata": {
        "id": "vCBG0XmlMTkU"
      },
      "execution_count": null,
      "outputs": []
    },
    {
      "cell_type": "code",
      "source": [
        "plt.figure(figsize=(8,8))\n",
        "plt.scatter(class1[:,0], class1[:,1],  c=\"red\", label=\"COVID\")\n",
        "plt.scatter(class2[:,0], class2[:,1], c=\"green\", label=\"Normal\")\n",
        "plt.scatter(class3[:,0], class3[:,1], c=\"blue\", label=\"Viral Pneumonia\")\n",
        "plt.legend()\n",
        "plt.show()"
      ],
      "metadata": {
        "id": "IjpPgy2JMUW2",
        "colab": {
          "base_uri": "https://localhost:8080/",
          "height": 485
        },
        "outputId": "ff3c2ef1-2a20-4a0a-aa91-ee55f32b12e3"
      },
      "execution_count": null,
      "outputs": [
        {
          "output_type": "display_data",
          "data": {
            "text/plain": [
              "<Figure size 576x576 with 1 Axes>"
            ],
            "image/png": "[encoded data removed]"
          },
          "metadata": {
            "needs_background": "light"
          }
        }
      ]
    },
    {
      "cell_type": "markdown",
      "source": [
        "# Efficient - Net"
      ],
      "metadata": {
        "id": "A7t3VAYxvxW6"
      }
    },
    {
      "cell_type": "code",
      "source": [
        "# Models options: resnet50, resnet34, inceptionv3, vgg16, mobile_net_v3_large, efficient_net_b1, efficient_net_b0.\n",
        "device = torch.device(\"cuda:0\" if torch.cuda.is_available() else \"cpu\")\n",
        "\n",
        "model_name = \"efficient_net_b1\"\n",
        "\n",
        "# Number of classes.\n",
        "num_classes = 3\n",
        "\n",
        "\n",
        "# Number of workers for data loader.\n",
        "num_workers = 12\n",
        "\n",
        "# Covid Pneumonia dataset metrics\n",
        "norm_arr = ([0.5159, 0.5159, 0.5159], [0.2554, 0.2554, 0.2554])\n",
        "\n",
        "# Feature extract flag: False - Tune the whole model,\n",
        "#                       True - Update only the reshaped layer parameters.\n",
        "feature_extract = False\n",
        "\n",
        "# Use pretrained flag: None - Use random weights\n",
        "#                      String - Use pretrained weights given by String\n",
        "use_pretrained = None\n",
        "\n",
        "# Initialize the model for this run.\n",
        "efficientnet, input_size = initialize_model(model_name, num_classes, feature_extract, use_pretrained=use_pretrained)"
      ],
      "metadata": {
        "id": "IqUd83Q5vwDI"
      },
      "execution_count": null,
      "outputs": []
    },
    {
      "cell_type": "code",
      "source": [
        "children_counter = 0\n",
        "for n,c in efficientnet.named_children():\n",
        "    print(\"Children Counter: \",children_counter,\" Layer Name: \",n)\n",
        "    children_counter+=1"
      ],
      "metadata": {
        "colab": {
          "base_uri": "https://localhost:8080/"
        },
        "id": "L5bFFrX704kI",
        "outputId": "87325c9e-7d89-48e7-f800-ac2d0cc5fb05"
      },
      "execution_count": null,
      "outputs": [
        {
          "output_type": "stream",
          "name": "stdout",
          "text": [
            "Children Counter:  0  Layer Name:  features\n",
            "Children Counter:  1  Layer Name:  avgpool\n",
            "Children Counter:  2  Layer Name:  classifier\n"
          ]
        }
      ]
    },
    {
      "cell_type": "code",
      "source": [
        "class NewModelEfficientNet(nn.Module):\n",
        "    def __init__(self, efficientnet, output_layers=None,*args, ):\n",
        "        super().__init__(*args)\n",
        "        self.output_layers = [8]\n",
        "        #print(self.output_layers)\n",
        "        self.selected_out = OrderedDict()\n",
        "\n",
        "        #PRETRAINED MODEL\n",
        "        self.pretrained = efficientnet\n",
        "        self.fhooks = []\n",
        "\n",
        "        for i,l in enumerate(list(self.pretrained._modules['features']._modules.keys())):\n",
        "            if i in self.output_layers:\n",
        "                # print(getattr(self.pretrained._modules['features'],l))\n",
        "                self.fhooks.append(getattr(self.pretrained._modules['features'],l).register_forward_hook(self.forward_hook(l)))\n",
        "    \n",
        "    def forward_hook(self,layer_name):\n",
        "        def hook(module, input, output):\n",
        "            self.selected_out[layer_name] = output.cpu()\n",
        "        return hook\n",
        "\n",
        "    def forward(self, x):\n",
        "        out = self.pretrained(x)\n",
        "        return out, self.selected_out"
      ],
      "metadata": {
        "id": "7mQMiVKO05pg"
      },
      "execution_count": null,
      "outputs": []
    },
    {
      "cell_type": "code",
      "source": [
        "efficientnet.load_state_dict(torch.load('drive/MyDrive/efficient_net_b1_covid_pneumonia_100_32_0.01_0.001_model_weights.pth', map_location=device)) "
      ],
      "metadata": {
        "colab": {
          "base_uri": "https://localhost:8080/"
        },
        "id": "oQWdX8bA1IXv",
        "outputId": "3aedce56-62eb-4539-f26c-a0a59ae27aa3"
      },
      "execution_count": null,
      "outputs": [
        {
          "output_type": "execute_result",
          "data": {
            "text/plain": [
              "<All keys matched successfully>"
            ]
          },
          "metadata": {},
          "execution_count": 12
        }
      ]
    },
    {
      "cell_type": "code",
      "source": [
        "efficientnetmodel = NewModelEfficientNet(efficientnet)\n",
        "efficientnetmodel = efficientnetmodel.to(device)"
      ],
      "metadata": {
        "id": "N1ZrgRSJ1RPO"
      },
      "execution_count": null,
      "outputs": []
    },
    {
      "cell_type": "code",
      "source": [
        "f = 125\n",
        "labels = []\n",
        "outputs = []\n",
        "\n",
        "with torch.no_grad():\n",
        "  for b, (image, label) in enumerate(data_loaders['test']):\n",
        "      if(b%10==0):\n",
        "        print(b,f)\n",
        "\n",
        "      # Apply the model\n",
        "      image, label = image.to(device), label.to(device)\n",
        "      _, dictionary = efficientnetmodel(image)\n",
        "      labels += label\n",
        "      dictionary['8'] = dictionary['8'].cpu()\n",
        "      outputs += dictionary['8']\n",
        "      f-=1\n",
        "      if(f==0):\n",
        "        break\n",
        "\n",
        "      del image, label, dictionary\n",
        "      torch.cuda.empty_cache()\n",
        "              "
      ],
      "metadata": {
        "colab": {
          "base_uri": "https://localhost:8080/"
        },
        "id": "W7_5tDjI1aJc",
        "outputId": "6926c84b-3944-4561-f88a-3321ab81006e"
      },
      "execution_count": null,
      "outputs": [
        {
          "output_type": "stream",
          "name": "stderr",
          "text": [
            "/usr/local/lib/python3.8/dist-packages/torch/utils/data/dataloader.py:563: UserWarning: This DataLoader will create 12 worker processes in total. Our suggested max number of worker in current system is 2, which is smaller than what this DataLoader is going to create. Please be aware that excessive worker creation might get DataLoader running slow or even freeze, lower the worker number to avoid potential slowness/freeze if necessary.\n",
            "  warnings.warn(_create_warning_msg(\n"
          ]
        },
        {
          "output_type": "stream",
          "name": "stdout",
          "text": [
            "0 125\n",
            "10 115\n",
            "20 105\n",
            "30 95\n",
            "40 85\n",
            "50 75\n",
            "60 65\n",
            "70 55\n",
            "80 45\n",
            "90 35\n",
            "100 25\n",
            "110 15\n",
            "120 5\n"
          ]
        }
      ]
    },
    {
      "cell_type": "code",
      "source": [
        "len(outputs), outputs[0].shape"
      ],
      "metadata": {
        "colab": {
          "base_uri": "https://localhost:8080/"
        },
        "id": "KUrZfXWIjwOf",
        "outputId": "948bbe3c-a40f-42ac-82e6-c3c9c426301b"
      },
      "execution_count": null,
      "outputs": [
        {
          "output_type": "execute_result",
          "data": {
            "text/plain": [
              "(1000, torch.Size([1280, 8, 8]))"
            ]
          },
          "metadata": {},
          "execution_count": 84
        }
      ]
    },
    {
      "cell_type": "code",
      "source": [
        "for i in range(1000):\n",
        "  outputs[i] = outputs[i].numpy()"
      ],
      "metadata": {
        "id": "pNsliWQJ2FOc"
      },
      "execution_count": null,
      "outputs": []
    },
    {
      "cell_type": "code",
      "source": [
        "outputs1 = np.asarray(outputs, dtype=np.float64)"
      ],
      "metadata": {
        "id": "VZecJQiL43KV"
      },
      "execution_count": null,
      "outputs": []
    },
    {
      "cell_type": "code",
      "source": [
        "type(outputs1)"
      ],
      "metadata": {
        "colab": {
          "base_uri": "https://localhost:8080/"
        },
        "id": "V51rV2rvjNtR",
        "outputId": "344d50b5-91f0-4cd0-b560-2f30714cee40"
      },
      "execution_count": null,
      "outputs": [
        {
          "output_type": "execute_result",
          "data": {
            "text/plain": [
              "numpy.ndarray"
            ]
          },
          "metadata": {},
          "execution_count": 87
        }
      ]
    },
    {
      "cell_type": "code",
      "source": [
        "layer8 = torch.tensor(outputs1)"
      ],
      "metadata": {
        "id": "QtGvAZ8b2Mjh"
      },
      "execution_count": null,
      "outputs": []
    },
    {
      "cell_type": "code",
      "source": [
        "layer8 = layer8.reshape(batch_size*125, 1280*8*8)\n",
        "layer8 = layer8.detach().cpu().numpy()"
      ],
      "metadata": {
        "id": "UtSwFrnR2bjJ"
      },
      "execution_count": null,
      "outputs": []
    },
    {
      "cell_type": "code",
      "source": [
        "from sklearn.manifold import TSNE\n",
        "X_embedded = TSNE(n_components=2, learning_rate='auto', init='random', n_iter=100000).fit_transform(layer8)"
      ],
      "metadata": {
        "id": "IqeYaz_M2fw3"
      },
      "execution_count": null,
      "outputs": []
    },
    {
      "cell_type": "code",
      "source": [
        "class1 = []\n",
        "class2 = []\n",
        "class3 = []\n",
        "\n",
        "for i in range(len(X_embedded)):\n",
        "  if(labels[i]==0):\n",
        "    class1.append(X_embedded[i])\n",
        "  elif(labels[i]==1):\n",
        "    class2.append(X_embedded[i])\n",
        "  elif(labels[i]==2):\n",
        "    class3.append(X_embedded[i])\n",
        "\n",
        "class1 = np.array(class1)\n",
        "class2 = np.array(class2)\n",
        "class3 = np.array(class3)"
      ],
      "metadata": {
        "id": "I0Wm_oRI2sD8"
      },
      "execution_count": null,
      "outputs": []
    },
    {
      "cell_type": "code",
      "source": [
        "plt.figure(figsize=(8,8))\n",
        "plt.scatter(class1[:,0], class1[:,1], c=\"red\", label=\"COVID\")\n",
        "plt.scatter(class2[:,0], class2[:,1], c=\"green\", label=\"Normal\")\n",
        "plt.scatter(class3[:,0], class3[:,1], c=\"blue\", label=\"Viral Pneumonia\")\n",
        "plt.legend()\n",
        "plt.show()"
      ],
      "metadata": {
        "id": "arnJwI2G2wSL",
        "colab": {
          "base_uri": "https://localhost:8080/",
          "height": 483
        },
        "outputId": "3a85752f-10cf-409b-9679-3867ca57d616"
      },
      "execution_count": null,
      "outputs": [
        {
          "output_type": "display_data",
          "data": {
            "text/plain": [
              "<Figure size 576x576 with 1 Axes>"
            ],
            "image/png": "[encoded data removed]"
          },
          "metadata": {
            "needs_background": "light"
          }
        }
      ]
    },
    {
      "cell_type": "code",
      "source": [],
      "metadata": {
        "id": "yZWPAs_YhsD7"
      },
      "execution_count": null,
      "outputs": []
    }
  ]
}