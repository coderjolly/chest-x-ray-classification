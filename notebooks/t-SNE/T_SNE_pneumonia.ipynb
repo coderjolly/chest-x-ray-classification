{
  "nbformat": 4,
  "nbformat_minor": 0,
  "metadata": {
    "colab": {
      "provenance": []
    },
    "kernelspec": {
      "name": "python3",
      "display_name": "Python 3"
    },
    "language_info": {
      "name": "python"
    },
    "accelerator": "GPU",
    "gpuClass": "standard",
    "widgets": {
      "application/vnd.jupyter.widget-state+json": {
        "3fabb5e73b854769b9ae1fe3f326f41c": {
          "model_module": "@jupyter-widgets/controls",
          "model_name": "HBoxModel",
          "model_module_version": "1.5.0",
          "state": {
            "_dom_classes": [],
            "_model_module": "@jupyter-widgets/controls",
            "_model_module_version": "1.5.0",
            "_model_name": "HBoxModel",
            "_view_count": null,
            "_view_module": "@jupyter-widgets/controls",
            "_view_module_version": "1.5.0",
            "_view_name": "HBoxView",
            "box_style": "",
            "children": [
              "IPY_MODEL_3374d4d734cf4979b6db5093cf83dc66",
              "IPY_MODEL_8a3b2d402cd8450a93ea10ff3cb818c0",
              "IPY_MODEL_124e08583b8449c2bd21149a4c41bff6"
            ],
            "layout": "IPY_MODEL_88d044ebeb0f4890bd08f54f1a0289a9"
          }
        },
        "3374d4d734cf4979b6db5093cf83dc66": {
          "model_module": "@jupyter-widgets/controls",
          "model_name": "HTMLModel",
          "model_module_version": "1.5.0",
          "state": {
            "_dom_classes": [],
            "_model_module": "@jupyter-widgets/controls",
            "_model_module_version": "1.5.0",
            "_model_name": "HTMLModel",
            "_view_count": null,
            "_view_module": "@jupyter-widgets/controls",
            "_view_module_version": "1.5.0",
            "_view_name": "HTMLView",
            "description": "",
            "description_tooltip": null,
            "layout": "IPY_MODEL_307e2344062e4066b49f9654e43b2a84",
            "placeholder": "​",
            "style": "IPY_MODEL_57ba80b4d3154eef9ffef8590e2d9228",
            "value": "100%"
          }
        },
        "8a3b2d402cd8450a93ea10ff3cb818c0": {
          "model_module": "@jupyter-widgets/controls",
          "model_name": "FloatProgressModel",
          "model_module_version": "1.5.0",
          "state": {
            "_dom_classes": [],
            "_model_module": "@jupyter-widgets/controls",
            "_model_module_version": "1.5.0",
            "_model_name": "FloatProgressModel",
            "_view_count": null,
            "_view_module": "@jupyter-widgets/controls",
            "_view_module_version": "1.5.0",
            "_view_name": "ProgressView",
            "bar_style": "success",
            "description": "",
            "description_tooltip": null,
            "layout": "IPY_MODEL_d4a86a1cbaac4b43ad457fa40ff0fe35",
            "max": 31597577,
            "min": 0,
            "orientation": "horizontal",
            "style": "IPY_MODEL_7b6d95ab81694b9abf5ad956204463f8",
            "value": 31597577
          }
        },
        "124e08583b8449c2bd21149a4c41bff6": {
          "model_module": "@jupyter-widgets/controls",
          "model_name": "HTMLModel",
          "model_module_version": "1.5.0",
          "state": {
            "_dom_classes": [],
            "_model_module": "@jupyter-widgets/controls",
            "_model_module_version": "1.5.0",
            "_model_name": "HTMLModel",
            "_view_count": null,
            "_view_module": "@jupyter-widgets/controls",
            "_view_module_version": "1.5.0",
            "_view_name": "HTMLView",
            "description": "",
            "description_tooltip": null,
            "layout": "IPY_MODEL_2a5de8ec8f6e4f95bcfd65ab991c5deb",
            "placeholder": "​",
            "style": "IPY_MODEL_ba0ebd1eed8349acbe76f309ae6df3c1",
            "value": " 30.1M/30.1M [00:00&lt;00:00, 90.4MB/s]"
          }
        },
        "88d044ebeb0f4890bd08f54f1a0289a9": {
          "model_module": "@jupyter-widgets/base",
          "model_name": "LayoutModel",
          "model_module_version": "1.2.0",
          "state": {
            "_model_module": "@jupyter-widgets/base",
            "_model_module_version": "1.2.0",
            "_model_name": "LayoutModel",
            "_view_count": null,
            "_view_module": "@jupyter-widgets/base",
            "_view_module_version": "1.2.0",
            "_view_name": "LayoutView",
            "align_content": null,
            "align_items": null,
            "align_self": null,
            "border": null,
            "bottom": null,
            "display": null,
            "flex": null,
            "flex_flow": null,
            "grid_area": null,
            "grid_auto_columns": null,
            "grid_auto_flow": null,
            "grid_auto_rows": null,
            "grid_column": null,
            "grid_gap": null,
            "grid_row": null,
            "grid_template_areas": null,
            "grid_template_columns": null,
            "grid_template_rows": null,
            "height": null,
            "justify_content": null,
            "justify_items": null,
            "left": null,
            "margin": null,
            "max_height": null,
            "max_width": null,
            "min_height": null,
            "min_width": null,
            "object_fit": null,
            "object_position": null,
            "order": null,
            "overflow": null,
            "overflow_x": null,
            "overflow_y": null,
            "padding": null,
            "right": null,
            "top": null,
            "visibility": null,
            "width": null
          }
        },
        "307e2344062e4066b49f9654e43b2a84": {
          "model_module": "@jupyter-widgets/base",
          "model_name": "LayoutModel",
          "model_module_version": "1.2.0",
          "state": {
            "_model_module": "@jupyter-widgets/base",
            "_model_module_version": "1.2.0",
            "_model_name": "LayoutModel",
            "_view_count": null,
            "_view_module": "@jupyter-widgets/base",
            "_view_module_version": "1.2.0",
            "_view_name": "LayoutView",
            "align_content": null,
            "align_items": null,
            "align_self": null,
            "border": null,
            "bottom": null,
            "display": null,
            "flex": null,
            "flex_flow": null,
            "grid_area": null,
            "grid_auto_columns": null,
            "grid_auto_flow": null,
            "grid_auto_rows": null,
            "grid_column": null,
            "grid_gap": null,
            "grid_row": null,
            "grid_template_areas": null,
            "grid_template_columns": null,
            "grid_template_rows": null,
            "height": null,
            "justify_content": null,
            "justify_items": null,
            "left": null,
            "margin": null,
            "max_height": null,
            "max_width": null,
            "min_height": null,
            "min_width": null,
            "object_fit": null,
            "object_position": null,
            "order": null,
            "overflow": null,
            "overflow_x": null,
            "overflow_y": null,
            "padding": null,
            "right": null,
            "top": null,
            "visibility": null,
            "width": null
          }
        },
        "57ba80b4d3154eef9ffef8590e2d9228": {
          "model_module": "@jupyter-widgets/controls",
          "model_name": "DescriptionStyleModel",
          "model_module_version": "1.5.0",
          "state": {
            "_model_module": "@jupyter-widgets/controls",
            "_model_module_version": "1.5.0",
            "_model_name": "DescriptionStyleModel",
            "_view_count": null,
            "_view_module": "@jupyter-widgets/base",
            "_view_module_version": "1.2.0",
            "_view_name": "StyleView",
            "description_width": ""
          }
        },
        "d4a86a1cbaac4b43ad457fa40ff0fe35": {
          "model_module": "@jupyter-widgets/base",
          "model_name": "LayoutModel",
          "model_module_version": "1.2.0",
          "state": {
            "_model_module": "@jupyter-widgets/base",
            "_model_module_version": "1.2.0",
            "_model_name": "LayoutModel",
            "_view_count": null,
            "_view_module": "@jupyter-widgets/base",
            "_view_module_version": "1.2.0",
            "_view_name": "LayoutView",
            "align_content": null,
            "align_items": null,
            "align_self": null,
            "border": null,
            "bottom": null,
            "display": null,
            "flex": null,
            "flex_flow": null,
            "grid_area": null,
            "grid_auto_columns": null,
            "grid_auto_flow": null,
            "grid_auto_rows": null,
            "grid_column": null,
            "grid_gap": null,
            "grid_row": null,
            "grid_template_areas": null,
            "grid_template_columns": null,
            "grid_template_rows": null,
            "height": null,
            "justify_content": null,
            "justify_items": null,
            "left": null,
            "margin": null,
            "max_height": null,
            "max_width": null,
            "min_height": null,
            "min_width": null,
            "object_fit": null,
            "object_position": null,
            "order": null,
            "overflow": null,
            "overflow_x": null,
            "overflow_y": null,
            "padding": null,
            "right": null,
            "top": null,
            "visibility": null,
            "width": null
          }
        },
        "7b6d95ab81694b9abf5ad956204463f8": {
          "model_module": "@jupyter-widgets/controls",
          "model_name": "ProgressStyleModel",
          "model_module_version": "1.5.0",
          "state": {
            "_model_module": "@jupyter-widgets/controls",
            "_model_module_version": "1.5.0",
            "_model_name": "ProgressStyleModel",
            "_view_count": null,
            "_view_module": "@jupyter-widgets/base",
            "_view_module_version": "1.2.0",
            "_view_name": "StyleView",
            "bar_color": null,
            "description_width": ""
          }
        },
        "2a5de8ec8f6e4f95bcfd65ab991c5deb": {
          "model_module": "@jupyter-widgets/base",
          "model_name": "LayoutModel",
          "model_module_version": "1.2.0",
          "state": {
            "_model_module": "@jupyter-widgets/base",
            "_model_module_version": "1.2.0",
            "_model_name": "LayoutModel",
            "_view_count": null,
            "_view_module": "@jupyter-widgets/base",
            "_view_module_version": "1.2.0",
            "_view_name": "LayoutView",
            "align_content": null,
            "align_items": null,
            "align_self": null,
            "border": null,
            "bottom": null,
            "display": null,
            "flex": null,
            "flex_flow": null,
            "grid_area": null,
            "grid_auto_columns": null,
            "grid_auto_flow": null,
            "grid_auto_rows": null,
            "grid_column": null,
            "grid_gap": null,
            "grid_row": null,
            "grid_template_areas": null,
            "grid_template_columns": null,
            "grid_template_rows": null,
            "height": null,
            "justify_content": null,
            "justify_items": null,
            "left": null,
            "margin": null,
            "max_height": null,
            "max_width": null,
            "min_height": null,
            "min_width": null,
            "object_fit": null,
            "object_position": null,
            "order": null,
            "overflow": null,
            "overflow_x": null,
            "overflow_y": null,
            "padding": null,
            "right": null,
            "top": null,
            "visibility": null,
            "width": null
          }
        },
        "ba0ebd1eed8349acbe76f309ae6df3c1": {
          "model_module": "@jupyter-widgets/controls",
          "model_name": "DescriptionStyleModel",
          "model_module_version": "1.5.0",
          "state": {
            "_model_module": "@jupyter-widgets/controls",
            "_model_module_version": "1.5.0",
            "_model_name": "DescriptionStyleModel",
            "_view_count": null,
            "_view_module": "@jupyter-widgets/base",
            "_view_module_version": "1.2.0",
            "_view_name": "StyleView",
            "description_width": ""
          }
        }
      }
    }
  },
  "cells": [
    {
      "cell_type": "markdown",
      "source": [
        "# Importing Libraries"
      ],
      "metadata": {
        "id": "K2Uyne13w4M-"
      }
    },
    {
      "cell_type": "code",
      "execution_count": null,
      "metadata": {
        "id": "QJIHGURSwwgj"
      },
      "outputs": [],
      "source": [
        "import os\n",
        "import copy\n",
        "import time\n",
        "import random\n",
        "import pickle\n",
        "\n",
        "import numpy as np\n",
        "import pandas as pd\n",
        "from PIL import Image\n",
        "from pathlib import Path\n",
        "from tqdm import tqdm\n",
        "\n",
        "from sklearn.metrics import f1_score, confusion_matrix\n",
        "from numpy.random import shuffle\n",
        "import matplotlib.pyplot as plt\n",
        "\n",
        "import torch\n",
        "import torchvision\n",
        "from torchvision.io import read_image\n",
        "import torchvision.transforms as T\n",
        "import torch.nn as nn\n",
        "import torch.optim as optim\n",
        "from torchvision import datasets, models, transforms\n",
        "import torch.autograd.profiler as tprofiler\n",
        "import torch.utils.data as td\n",
        "\n",
        "import torchvision.transforms as transforms\n",
        "import torchvision.datasets as datasets\n",
        "import torch.utils.data as td\n",
        "import numpy as np\n",
        "import matplotlib.pyplot as plt\n",
        "import torch.nn as nn\n",
        "import torch.nn.functional as F\n",
        "from matplotlib import image\n",
        "import time\n",
        "from torchsummary import summary\n",
        "import seaborn as sns\n",
        "\n",
        "\n",
        "from typing import Type, Any, Callable, Union, List, Optional, cast\n",
        "from collections import OrderedDict \n",
        "\n",
        "plt.rcParams[\"savefig.bbox\"] = 'tight'"
      ]
    },
    {
      "cell_type": "markdown",
      "source": [
        "# Loading Data part"
      ],
      "metadata": {
        "id": "iLXOGrFJxAQP"
      }
    },
    {
      "cell_type": "code",
      "source": [
        "seed = 42\n",
        "\n",
        "random.seed(seed)\n",
        "\n",
        "# pytorch RNGs\n",
        "torch.manual_seed(seed)\n",
        "torch.backends.cudnn.deterministic = True\n",
        "if torch.cuda.is_available(): torch.cuda.manual_seed_all(seed)\n",
        "\n",
        "# numpy RNG\n",
        "np.random.seed(seed)"
      ],
      "metadata": {
        "id": "uFnTlZFww7dD"
      },
      "execution_count": null,
      "outputs": []
    },
    {
      "cell_type": "code",
      "source": [
        "from google.colab import drive\n",
        "drive.mount('/content/drive')"
      ],
      "metadata": {
        "colab": {
          "base_uri": "https://localhost:8080/"
        },
        "id": "XOMFnuIqxCYq",
        "outputId": "e1e7238e-56e9-4dd7-909a-903557470018"
      },
      "execution_count": null,
      "outputs": [
        {
          "output_type": "stream",
          "name": "stdout",
          "text": [
            "Mounted at /content/drive\n"
          ]
        }
      ]
    },
    {
      "cell_type": "code",
      "source": [
        "batch_size = 8\n",
        "norm_arr=([0.4810, 0.4810, 0.4810], [0.2373, 0.2373, 0.2373])\n",
        "num_workers = 0  #####################################################\n",
        "\n",
        "import os\n",
        "import torchvision.transforms as T\n",
        "from torchvision import datasets\n",
        "import torch.utils.data as td\n",
        "\n",
        "class_names = []\n",
        "\n",
        "def load_data(path, batch_size, input_size, norm_arr, \n",
        "              num_workers=0):\n",
        "    \n",
        "    transform_dict = {\"train\": \n",
        "                          T.Compose([\n",
        "                            #T.ToPILImage(),\n",
        "                            T.Resize(size=input_size),\n",
        "\n",
        "                            T.RandomHorizontalFlip(),\n",
        "                            #T.ColorJitter(contrast=0.5),\n",
        "                            T.RandomAdjustSharpness(2),\n",
        "                            T.RandomAutocontrast(),\n",
        "\n",
        "                            T.ToTensor(),\n",
        "                            T.Normalize(*norm_arr)]),\n",
        "                        \"test_val\": \n",
        "                          T.Compose([\n",
        "                            #T.ToPILImage(),\n",
        "                            T.Resize(size=input_size),\n",
        "                            T.ToTensor(),\n",
        "                            T.Normalize(*norm_arr)])\n",
        "                        }\n",
        "    \n",
        "    # train_dataset = datasets.ImageFolder(root=os.path.join(path, \"train\"),\n",
        "    #                                      transform=transform_dict[\"train\"])\n",
        "    \n",
        "    # class_names = train_dataset.classes\n",
        "    # print(class_names)\n",
        "\n",
        "    test_dataset = datasets.ImageFolder(root=os.path.join(path, \"test\"),\n",
        "                                        transform=transform_dict[\"test_val\"])\n",
        "    \n",
        "    # data_loader_train = td.DataLoader(train_dataset,\n",
        "    #                                   batch_size=batch_size,\n",
        "    #                                   shuffle=True,\n",
        "    #                                   drop_last=False,\n",
        "    #                                   num_workers=num_workers,\n",
        "    #                                   pin_memory=True)\n",
        "    data_loader_test = td.DataLoader(test_dataset,\n",
        "                                     batch_size=batch_size,\n",
        "                                     shuffle=True,\n",
        "                                     drop_last=False,\n",
        "                                     num_workers=num_workers,\n",
        "                                     pin_memory=True)\n",
        "\n",
        "    return {\n",
        "            'test':  data_loader_test}"
      ],
      "metadata": {
        "id": "tk3Tav6RxDxK"
      },
      "execution_count": null,
      "outputs": []
    },
    {
      "cell_type": "code",
      "source": [
        "images_dir = \"drive/MyDrive/pneumonia_dataset\""
      ],
      "metadata": {
        "id": "ku84kc4uxYOW"
      },
      "execution_count": null,
      "outputs": []
    },
    {
      "cell_type": "code",
      "source": [
        "data_loaders = load_data(images_dir,\n",
        "                         batch_size = batch_size, \n",
        "                         input_size = (256, 256), ############################\n",
        "                         norm_arr = norm_arr,\n",
        "                         num_workers=num_workers)"
      ],
      "metadata": {
        "id": "2ZTCYtaQxKct"
      },
      "execution_count": null,
      "outputs": []
    },
    {
      "cell_type": "markdown",
      "source": [
        "# Loading Saved Model"
      ],
      "metadata": {
        "id": "YxYnPoGtzDiV"
      }
    },
    {
      "cell_type": "code",
      "source": [
        "# from utils file\n",
        "\n",
        "from torchvision import models\n",
        "import torch.nn as nn\n",
        "\n",
        "def set_requires_grad(model, feature_extracting):\n",
        "    if feature_extracting:\n",
        "        for param in model.parameters():\n",
        "            param.requires_grad = False\n",
        "\n",
        "\n",
        "def initialize_model(model_name, num_classes, feature_extract, use_pretrained=None):\n",
        "    '''\n",
        "    Initialize models for training.\n",
        "    '''\n",
        "    model_ft = None\n",
        "    input_size = 0\n",
        "\n",
        "    if model_name == \"resnet50\":\n",
        "        \"\"\" \n",
        "            Returns a Resnet 50 model.\n",
        "        \"\"\"\n",
        "        model_ft = models.resnet50(weights=use_pretrained)\n",
        "        set_requires_grad(model_ft, feature_extract)\n",
        "        num_ftrs = model_ft.fc.in_features\n",
        "        model_ft.fc = nn.Linear(num_ftrs, num_classes)\n",
        "        input_size = 232\n",
        "        \n",
        "    elif model_name == \"resnet34\":\n",
        "        \"\"\" \n",
        "            Returns a Resnet 34 model.\n",
        "        \"\"\"\n",
        "        model_ft = models.resnet34(weights=use_pretrained)\n",
        "        set_requires_grad(model_ft, feature_extract)\n",
        "        num_ftrs = model_ft.fc.in_features\n",
        "        model_ft.fc = nn.Linear(num_ftrs, num_classes)\n",
        "        input_size = 256\n",
        "\n",
        "    elif model_name == \"inceptionv3\":\n",
        "        \"\"\" \n",
        "            Returns an Inception v3 model.\n",
        "        \"\"\"\n",
        "        model_ft = models.inception_v3(weights=use_pretrained)\n",
        "        set_requires_grad(model_ft, feature_extract)\n",
        "        # Auxilary network.\n",
        "        num_ftrs = model_ft.AuxLogits.fc.in_features\n",
        "        model_ft.AuxLogits.fc = nn.Linear(num_ftrs, num_classes)\n",
        "        # Primary network.\n",
        "        num_ftrs = model_ft.fc.in_features\n",
        "        model_ft.fc = nn.Linear(num_ftrs, num_classes)\n",
        "        input_size = 299\n",
        "        \n",
        "    elif model_name == \"vgg16\":\n",
        "        \"\"\" \n",
        "            Returns a VGG 16 model with batch normalization.\n",
        "        \"\"\"\n",
        "        model_ft = models.vgg16_bn(weights=use_pretrained)\n",
        "        set_requires_grad(model_ft, feature_extract)\n",
        "        num_ftrs = model_ft.classifier[6].in_features\n",
        "        model_ft.classifier[6] = nn.Linear(num_ftrs, num_classes)\n",
        "        input_size = 256\n",
        "\n",
        "    elif model_name == \"mobile_net_v3_large\":\n",
        "        \"\"\" \n",
        "            returns a mobile net V3 large model.\n",
        "        \"\"\"\n",
        "        model_ft = models.mobilenet_v3_large(weights=use_pretrained)\n",
        "        set_requires_grad(model_ft, feature_extract)\n",
        "        num_ftrs = model_ft.classifier[3].in_features\n",
        "        model_ft.classifier[3] = nn.Linear(num_ftrs, num_classes, bias=True)\n",
        "        input_size = 232\n",
        "\n",
        "    elif model_name == \"efficient_net_b1\":\n",
        "        \"\"\" \n",
        "            Returns an efficient net b1 model.\n",
        "        \"\"\"\n",
        "        model_ft = models.efficientnet_b1(weights=use_pretrained)\n",
        "        set_requires_grad(model_ft, feature_extract)\n",
        "        num_ftrs = model_ft.classifier[1].in_features\n",
        "        model_ft.classifier[1] = nn.Linear(num_ftrs, num_classes, bias=True)\n",
        "        input_size = 255\n",
        "\n",
        "    elif model_name == \"efficient_net_b0\":\n",
        "        \"\"\" \n",
        "            Returns an efficient net b0 model.\n",
        "        \"\"\"\n",
        "        model_ft = models.efficientnet_b0(weights=use_pretrained)\n",
        "        set_requires_grad(model_ft, feature_extract)\n",
        "        num_ftrs = model_ft.classifier[1].in_features\n",
        "        model_ft.classifier[1] = nn.Linear(num_ftrs, num_classes, bias=True)\n",
        "        input_size = 256\n",
        "\n",
        "    else:\n",
        "        print(\"Unavailable model selected.\")\n",
        "\n",
        "    return model_ft, input_size"
      ],
      "metadata": {
        "id": "QsdiQKx9xOba"
      },
      "execution_count": null,
      "outputs": []
    },
    {
      "cell_type": "code",
      "source": [
        "# parameters for model loading and data loading\n",
        "\n",
        "device = torch.device(\"cuda:0\" if torch.cuda.is_available() else \"cpu\")\n",
        "\n",
        "# Models options: resnet50, resnet34, inceptionv3, vgg16, mobile_net_v3_large, efficient_net_b1, efficient_net_b0.\n",
        "model_name = \"resnet34\"\n",
        "\n",
        "# Number of classes.\n",
        "num_classes = 3\n",
        "\n",
        "# Number of workers for data loader.\n",
        "num_workers = 0\n",
        "\n",
        "# Pneumonia dataset metrics\n",
        "norm_arr=([0.4810, 0.4810, 0.4810], [0.2373, 0.2373, 0.2373])\n",
        "\n",
        "# Feature extract flag: False - Tune the whole model,\n",
        "#                       True - Update only the reshaped layer parameters.\n",
        "feature_extract = False\n",
        "\n",
        "# Use pretrained flag: None - Use random weights\n",
        "#                      String - Use pretrained weights given by String\n",
        "use_pretrained = None\n",
        "\n",
        "resnet, input_size = initialize_model(model_name, num_classes, feature_extract, use_pretrained=use_pretrained)\n"
      ],
      "metadata": {
        "id": "TiogAePyzJW0"
      },
      "execution_count": null,
      "outputs": []
    },
    {
      "cell_type": "code",
      "source": [
        "\n",
        "resnet"
      ],
      "metadata": {
        "colab": {
          "base_uri": "https://localhost:8080/"
        },
        "id": "qL-pcBxVr1kO",
        "outputId": "9b7cbf0f-fb18-44d0-b18a-17d24e41f122"
      },
      "execution_count": null,
      "outputs": [
        {
          "output_type": "execute_result",
          "data": {
            "text/plain": [
              "ResNet(\n",
              "  (conv1): Conv2d(3, 64, kernel_size=(7, 7), stride=(2, 2), padding=(3, 3), bias=False)\n",
              "  (bn1): BatchNorm2d(64, eps=1e-05, momentum=0.1, affine=True, track_running_stats=True)\n",
              "  (relu): ReLU(inplace=True)\n",
              "  (maxpool): MaxPool2d(kernel_size=3, stride=2, padding=1, dilation=1, ceil_mode=False)\n",
              "  (layer1): Sequential(\n",
              "    (0): BasicBlock(\n",
              "      (conv1): Conv2d(64, 64, kernel_size=(3, 3), stride=(1, 1), padding=(1, 1), bias=False)\n",
              "      (bn1): BatchNorm2d(64, eps=1e-05, momentum=0.1, affine=True, track_running_stats=True)\n",
              "      (relu): ReLU(inplace=True)\n",
              "      (conv2): Conv2d(64, 64, kernel_size=(3, 3), stride=(1, 1), padding=(1, 1), bias=False)\n",
              "      (bn2): BatchNorm2d(64, eps=1e-05, momentum=0.1, affine=True, track_running_stats=True)\n",
              "    )\n",
              "    (1): BasicBlock(\n",
              "      (conv1): Conv2d(64, 64, kernel_size=(3, 3), stride=(1, 1), padding=(1, 1), bias=False)\n",
              "      (bn1): BatchNorm2d(64, eps=1e-05, momentum=0.1, affine=True, track_running_stats=True)\n",
              "      (relu): ReLU(inplace=True)\n",
              "      (conv2): Conv2d(64, 64, kernel_size=(3, 3), stride=(1, 1), padding=(1, 1), bias=False)\n",
              "      (bn2): BatchNorm2d(64, eps=1e-05, momentum=0.1, affine=True, track_running_stats=True)\n",
              "    )\n",
              "    (2): BasicBlock(\n",
              "      (conv1): Conv2d(64, 64, kernel_size=(3, 3), stride=(1, 1), padding=(1, 1), bias=False)\n",
              "      (bn1): BatchNorm2d(64, eps=1e-05, momentum=0.1, affine=True, track_running_stats=True)\n",
              "      (relu): ReLU(inplace=True)\n",
              "      (conv2): Conv2d(64, 64, kernel_size=(3, 3), stride=(1, 1), padding=(1, 1), bias=False)\n",
              "      (bn2): BatchNorm2d(64, eps=1e-05, momentum=0.1, affine=True, track_running_stats=True)\n",
              "    )\n",
              "  )\n",
              "  (layer2): Sequential(\n",
              "    (0): BasicBlock(\n",
              "      (conv1): Conv2d(64, 128, kernel_size=(3, 3), stride=(2, 2), padding=(1, 1), bias=False)\n",
              "      (bn1): BatchNorm2d(128, eps=1e-05, momentum=0.1, affine=True, track_running_stats=True)\n",
              "      (relu): ReLU(inplace=True)\n",
              "      (conv2): Conv2d(128, 128, kernel_size=(3, 3), stride=(1, 1), padding=(1, 1), bias=False)\n",
              "      (bn2): BatchNorm2d(128, eps=1e-05, momentum=0.1, affine=True, track_running_stats=True)\n",
              "      (downsample): Sequential(\n",
              "        (0): Conv2d(64, 128, kernel_size=(1, 1), stride=(2, 2), bias=False)\n",
              "        (1): BatchNorm2d(128, eps=1e-05, momentum=0.1, affine=True, track_running_stats=True)\n",
              "      )\n",
              "    )\n",
              "    (1): BasicBlock(\n",
              "      (conv1): Conv2d(128, 128, kernel_size=(3, 3), stride=(1, 1), padding=(1, 1), bias=False)\n",
              "      (bn1): BatchNorm2d(128, eps=1e-05, momentum=0.1, affine=True, track_running_stats=True)\n",
              "      (relu): ReLU(inplace=True)\n",
              "      (conv2): Conv2d(128, 128, kernel_size=(3, 3), stride=(1, 1), padding=(1, 1), bias=False)\n",
              "      (bn2): BatchNorm2d(128, eps=1e-05, momentum=0.1, affine=True, track_running_stats=True)\n",
              "    )\n",
              "    (2): BasicBlock(\n",
              "      (conv1): Conv2d(128, 128, kernel_size=(3, 3), stride=(1, 1), padding=(1, 1), bias=False)\n",
              "      (bn1): BatchNorm2d(128, eps=1e-05, momentum=0.1, affine=True, track_running_stats=True)\n",
              "      (relu): ReLU(inplace=True)\n",
              "      (conv2): Conv2d(128, 128, kernel_size=(3, 3), stride=(1, 1), padding=(1, 1), bias=False)\n",
              "      (bn2): BatchNorm2d(128, eps=1e-05, momentum=0.1, affine=True, track_running_stats=True)\n",
              "    )\n",
              "    (3): BasicBlock(\n",
              "      (conv1): Conv2d(128, 128, kernel_size=(3, 3), stride=(1, 1), padding=(1, 1), bias=False)\n",
              "      (bn1): BatchNorm2d(128, eps=1e-05, momentum=0.1, affine=True, track_running_stats=True)\n",
              "      (relu): ReLU(inplace=True)\n",
              "      (conv2): Conv2d(128, 128, kernel_size=(3, 3), stride=(1, 1), padding=(1, 1), bias=False)\n",
              "      (bn2): BatchNorm2d(128, eps=1e-05, momentum=0.1, affine=True, track_running_stats=True)\n",
              "    )\n",
              "  )\n",
              "  (layer3): Sequential(\n",
              "    (0): BasicBlock(\n",
              "      (conv1): Conv2d(128, 256, kernel_size=(3, 3), stride=(2, 2), padding=(1, 1), bias=False)\n",
              "      (bn1): BatchNorm2d(256, eps=1e-05, momentum=0.1, affine=True, track_running_stats=True)\n",
              "      (relu): ReLU(inplace=True)\n",
              "      (conv2): Conv2d(256, 256, kernel_size=(3, 3), stride=(1, 1), padding=(1, 1), bias=False)\n",
              "      (bn2): BatchNorm2d(256, eps=1e-05, momentum=0.1, affine=True, track_running_stats=True)\n",
              "      (downsample): Sequential(\n",
              "        (0): Conv2d(128, 256, kernel_size=(1, 1), stride=(2, 2), bias=False)\n",
              "        (1): BatchNorm2d(256, eps=1e-05, momentum=0.1, affine=True, track_running_stats=True)\n",
              "      )\n",
              "    )\n",
              "    (1): BasicBlock(\n",
              "      (conv1): Conv2d(256, 256, kernel_size=(3, 3), stride=(1, 1), padding=(1, 1), bias=False)\n",
              "      (bn1): BatchNorm2d(256, eps=1e-05, momentum=0.1, affine=True, track_running_stats=True)\n",
              "      (relu): ReLU(inplace=True)\n",
              "      (conv2): Conv2d(256, 256, kernel_size=(3, 3), stride=(1, 1), padding=(1, 1), bias=False)\n",
              "      (bn2): BatchNorm2d(256, eps=1e-05, momentum=0.1, affine=True, track_running_stats=True)\n",
              "    )\n",
              "    (2): BasicBlock(\n",
              "      (conv1): Conv2d(256, 256, kernel_size=(3, 3), stride=(1, 1), padding=(1, 1), bias=False)\n",
              "      (bn1): BatchNorm2d(256, eps=1e-05, momentum=0.1, affine=True, track_running_stats=True)\n",
              "      (relu): ReLU(inplace=True)\n",
              "      (conv2): Conv2d(256, 256, kernel_size=(3, 3), stride=(1, 1), padding=(1, 1), bias=False)\n",
              "      (bn2): BatchNorm2d(256, eps=1e-05, momentum=0.1, affine=True, track_running_stats=True)\n",
              "    )\n",
              "    (3): BasicBlock(\n",
              "      (conv1): Conv2d(256, 256, kernel_size=(3, 3), stride=(1, 1), padding=(1, 1), bias=False)\n",
              "      (bn1): BatchNorm2d(256, eps=1e-05, momentum=0.1, affine=True, track_running_stats=True)\n",
              "      (relu): ReLU(inplace=True)\n",
              "      (conv2): Conv2d(256, 256, kernel_size=(3, 3), stride=(1, 1), padding=(1, 1), bias=False)\n",
              "      (bn2): BatchNorm2d(256, eps=1e-05, momentum=0.1, affine=True, track_running_stats=True)\n",
              "    )\n",
              "    (4): BasicBlock(\n",
              "      (conv1): Conv2d(256, 256, kernel_size=(3, 3), stride=(1, 1), padding=(1, 1), bias=False)\n",
              "      (bn1): BatchNorm2d(256, eps=1e-05, momentum=0.1, affine=True, track_running_stats=True)\n",
              "      (relu): ReLU(inplace=True)\n",
              "      (conv2): Conv2d(256, 256, kernel_size=(3, 3), stride=(1, 1), padding=(1, 1), bias=False)\n",
              "      (bn2): BatchNorm2d(256, eps=1e-05, momentum=0.1, affine=True, track_running_stats=True)\n",
              "    )\n",
              "    (5): BasicBlock(\n",
              "      (conv1): Conv2d(256, 256, kernel_size=(3, 3), stride=(1, 1), padding=(1, 1), bias=False)\n",
              "      (bn1): BatchNorm2d(256, eps=1e-05, momentum=0.1, affine=True, track_running_stats=True)\n",
              "      (relu): ReLU(inplace=True)\n",
              "      (conv2): Conv2d(256, 256, kernel_size=(3, 3), stride=(1, 1), padding=(1, 1), bias=False)\n",
              "      (bn2): BatchNorm2d(256, eps=1e-05, momentum=0.1, affine=True, track_running_stats=True)\n",
              "    )\n",
              "  )\n",
              "  (layer4): Sequential(\n",
              "    (0): BasicBlock(\n",
              "      (conv1): Conv2d(256, 512, kernel_size=(3, 3), stride=(2, 2), padding=(1, 1), bias=False)\n",
              "      (bn1): BatchNorm2d(512, eps=1e-05, momentum=0.1, affine=True, track_running_stats=True)\n",
              "      (relu): ReLU(inplace=True)\n",
              "      (conv2): Conv2d(512, 512, kernel_size=(3, 3), stride=(1, 1), padding=(1, 1), bias=False)\n",
              "      (bn2): BatchNorm2d(512, eps=1e-05, momentum=0.1, affine=True, track_running_stats=True)\n",
              "      (downsample): Sequential(\n",
              "        (0): Conv2d(256, 512, kernel_size=(1, 1), stride=(2, 2), bias=False)\n",
              "        (1): BatchNorm2d(512, eps=1e-05, momentum=0.1, affine=True, track_running_stats=True)\n",
              "      )\n",
              "    )\n",
              "    (1): BasicBlock(\n",
              "      (conv1): Conv2d(512, 512, kernel_size=(3, 3), stride=(1, 1), padding=(1, 1), bias=False)\n",
              "      (bn1): BatchNorm2d(512, eps=1e-05, momentum=0.1, affine=True, track_running_stats=True)\n",
              "      (relu): ReLU(inplace=True)\n",
              "      (conv2): Conv2d(512, 512, kernel_size=(3, 3), stride=(1, 1), padding=(1, 1), bias=False)\n",
              "      (bn2): BatchNorm2d(512, eps=1e-05, momentum=0.1, affine=True, track_running_stats=True)\n",
              "    )\n",
              "    (2): BasicBlock(\n",
              "      (conv1): Conv2d(512, 512, kernel_size=(3, 3), stride=(1, 1), padding=(1, 1), bias=False)\n",
              "      (bn1): BatchNorm2d(512, eps=1e-05, momentum=0.1, affine=True, track_running_stats=True)\n",
              "      (relu): ReLU(inplace=True)\n",
              "      (conv2): Conv2d(512, 512, kernel_size=(3, 3), stride=(1, 1), padding=(1, 1), bias=False)\n",
              "      (bn2): BatchNorm2d(512, eps=1e-05, momentum=0.1, affine=True, track_running_stats=True)\n",
              "    )\n",
              "  )\n",
              "  (avgpool): AdaptiveAvgPool2d(output_size=(1, 1))\n",
              "  (fc): Linear(in_features=512, out_features=3, bias=True)\n",
              ")"
            ]
          },
          "metadata": {},
          "execution_count": 9
        }
      ]
    },
    {
      "cell_type": "code",
      "source": [
        "children_counter = 0\n",
        "for n,c in resnet.named_children():\n",
        "    print(\"Children Counter: \",children_counter,\" Layer Name: \",n,)\n",
        "    children_counter+=1"
      ],
      "metadata": {
        "colab": {
          "base_uri": "https://localhost:8080/"
        },
        "id": "dtYfbYQw0zw5",
        "outputId": "c5544968-6dfa-4cf2-b587-ec50e50abb45"
      },
      "execution_count": null,
      "outputs": [
        {
          "output_type": "stream",
          "name": "stdout",
          "text": [
            "Children Counter:  0  Layer Name:  conv1\n",
            "Children Counter:  1  Layer Name:  bn1\n",
            "Children Counter:  2  Layer Name:  relu\n",
            "Children Counter:  3  Layer Name:  maxpool\n",
            "Children Counter:  4  Layer Name:  layer1\n",
            "Children Counter:  5  Layer Name:  layer2\n",
            "Children Counter:  6  Layer Name:  layer3\n",
            "Children Counter:  7  Layer Name:  layer4\n",
            "Children Counter:  8  Layer Name:  avgpool\n",
            "Children Counter:  9  Layer Name:  fc\n"
          ]
        }
      ]
    },
    {
      "cell_type": "code",
      "source": [
        "class NewModelResnet(nn.Module):\n",
        "    def __init__(self, resnet, output_layers=None,*args, ):\n",
        "        super().__init__(*args)\n",
        "        self.output_layers = [7,8]\n",
        "        #print(self.output_layers)\n",
        "        self.selected_out = OrderedDict()\n",
        "\n",
        "        #PRETRAINED MODEL\n",
        "        self.pretrained = resnet\n",
        "        self.fhooks = []\n",
        "\n",
        "        for i,l in enumerate(list(self.pretrained._modules.keys())):\n",
        "            if i in self.output_layers:\n",
        "                self.fhooks.append(getattr(self.pretrained,l).register_forward_hook(self.forward_hook(l)))\n",
        "    \n",
        "    def forward_hook(self,layer_name):\n",
        "        def hook(module, input, output):\n",
        "            self.selected_out[layer_name] = output\n",
        "        return hook\n",
        "\n",
        "    def forward(self, x):\n",
        "        out = self.pretrained(x)\n",
        "        return out, self.selected_out"
      ],
      "metadata": {
        "id": "lM7KlDiG0-Jq"
      },
      "execution_count": null,
      "outputs": []
    },
    {
      "cell_type": "code",
      "source": [
        "resnet.load_state_dict(torch.load('drive/MyDrive/resnet34_pneumonia_100_32_0.01_0.001_model_weights.pth', map_location=device)) "
      ],
      "metadata": {
        "colab": {
          "base_uri": "https://localhost:8080/"
        },
        "id": "iiO2kI_N13SP",
        "outputId": "5fb19c7f-ef36-4bb0-a907-953bfaf66430"
      },
      "execution_count": null,
      "outputs": [
        {
          "output_type": "execute_result",
          "data": {
            "text/plain": [
              "<All keys matched successfully>"
            ]
          },
          "metadata": {},
          "execution_count": 12
        }
      ]
    },
    {
      "cell_type": "code",
      "source": [
        "resnetmodel = NewModelResnet(resnet)\n",
        "resnetmodel = resnetmodel.to(device)"
      ],
      "metadata": {
        "id": "7k9wHcnL14bl"
      },
      "execution_count": null,
      "outputs": []
    },
    {
      "cell_type": "markdown",
      "source": [
        "#T-SNE for Resnet"
      ],
      "metadata": {
        "id": "9gizydXX2qj6"
      }
    },
    {
      "cell_type": "code",
      "source": [
        "f = 125\n",
        "labels = []\n",
        "outputs = []\n",
        "with torch.no_grad():\n",
        "  for b, (image, label) in enumerate(data_loaders['test']):\n",
        "        if(b%25==0):\n",
        "          print(b,f)\n",
        "        # Apply the model\n",
        "        image, label = image.to(device), label.to(device)\n",
        "        _, dictionary = resnetmodel(image)\n",
        "        labels += label\n",
        "        outputs += dictionary['layer4']\n",
        "        f-=1\n",
        "        if(f==0):\n",
        "          break"
      ],
      "metadata": {
        "colab": {
          "base_uri": "https://localhost:8080/"
        },
        "id": "ugN-w1kZ6CmU",
        "outputId": "430e5e35-5cbc-4614-d21b-f6b6a2a1335f"
      },
      "execution_count": null,
      "outputs": [
        {
          "output_type": "stream",
          "name": "stdout",
          "text": [
            "0 125\n",
            "25 100\n",
            "50 75\n",
            "75 50\n",
            "100 25\n"
          ]
        }
      ]
    },
    {
      "cell_type": "code",
      "source": [
        "len(outputs)"
      ],
      "metadata": {
        "colab": {
          "base_uri": "https://localhost:8080/"
        },
        "id": "G-ELBKuPLoF-",
        "outputId": "bb9a70a3-8b19-4014-ce09-7f1b1ab6b37f"
      },
      "execution_count": null,
      "outputs": [
        {
          "output_type": "execute_result",
          "data": {
            "text/plain": [
              "877"
            ]
          },
          "metadata": {},
          "execution_count": 15
        }
      ]
    },
    {
      "cell_type": "code",
      "source": [
        "for i in range(877):\n",
        "  outputs[i] = outputs[i].detach().cpu().numpy()"
      ],
      "metadata": {
        "id": "_BbE8zEo2Wnx"
      },
      "execution_count": null,
      "outputs": []
    },
    {
      "cell_type": "code",
      "source": [
        "outputs = np.asarray(outputs, dtype=np.float64)"
      ],
      "metadata": {
        "id": "CQydyWGr5YqG"
      },
      "execution_count": null,
      "outputs": []
    },
    {
      "cell_type": "code",
      "source": [
        "layer4 = torch.tensor(outputs)"
      ],
      "metadata": {
        "id": "v7cqYK0BnqRZ"
      },
      "execution_count": null,
      "outputs": []
    },
    {
      "cell_type": "code",
      "source": [
        "layer4 = layer4.reshape(len(outputs), 512*8*8)\n",
        "layer4 = layer4.detach().cpu().numpy()"
      ],
      "metadata": {
        "id": "v-NRwh-J8ipq"
      },
      "execution_count": null,
      "outputs": []
    },
    {
      "cell_type": "code",
      "source": [
        "layer4.shape"
      ],
      "metadata": {
        "colab": {
          "base_uri": "https://localhost:8080/"
        },
        "id": "-XLGxJcX76U_",
        "outputId": "4fd94e96-bb50-47a9-f19b-4a295548e6a1"
      },
      "execution_count": null,
      "outputs": [
        {
          "output_type": "execute_result",
          "data": {
            "text/plain": [
              "(877, 32768)"
            ]
          },
          "metadata": {},
          "execution_count": 20
        }
      ]
    },
    {
      "cell_type": "code",
      "source": [
        "from sklearn.manifold import TSNE\n",
        "X_embedded = TSNE(n_components=2, learning_rate='auto', init='random', n_iter=100000).fit_transform(layer4)"
      ],
      "metadata": {
        "id": "80D_Zq6d7e7_"
      },
      "execution_count": null,
      "outputs": []
    },
    {
      "cell_type": "code",
      "source": [
        "class1 = []\n",
        "class2 = []\n",
        "class3 = []\n",
        "\n",
        "for i in range(len(X_embedded)):\n",
        "  if(labels[i]==0):\n",
        "    class1.append(X_embedded[i])\n",
        "  elif(labels[i]==1):\n",
        "    class2.append(X_embedded[i])\n",
        "  elif(labels[i]==2):\n",
        "    class3.append(X_embedded[i])\n",
        "\n",
        "class1 = np.array(class1)\n",
        "class2 = np.array(class2)\n",
        "class3 = np.array(class3)"
      ],
      "metadata": {
        "id": "AKde_rxp7-iS"
      },
      "execution_count": null,
      "outputs": []
    },
    {
      "cell_type": "code",
      "source": [
        "path = '/content/drive/MyDrive/Final_Report/eval_metrics_resnet34_pneumonia_100_32_0.01_0.001_'\n",
        "pickle_in = open(path + '.pickle',\"rb\")\n",
        "val = pickle.load(pickle_in)\n"
      ],
      "metadata": {
        "id": "D39BoIHqnzkU"
      },
      "execution_count": null,
      "outputs": []
    },
    {
      "cell_type": "code",
      "source": [],
      "metadata": {
        "id": "ekqnq4San3_o"
      },
      "execution_count": null,
      "outputs": []
    },
    {
      "cell_type": "code",
      "source": [
        "fig, (ax1, ax2) = plt.subplots(1,2, figsize=(20,8))\n",
        "\n",
        "ax1.scatter(class1[:,0], class1[:,1], c=\"red\", label=\"NORMAL\")  \n",
        "ax1.scatter(class2[:,0], class2[:,1], c=\"green\", label=\"PNEUMONIA_BACTERIA\")\n",
        "ax1.scatter(class3[:,0], class3[:,1], c=\"blue\", label=\"PNEUMONIA_VIRAL\")\n",
        "ax1.legend()\n",
        "# ax1.show()\n",
        "ax1.set_xticks([]) \n",
        "ax1.set_yticks([]) \n",
        "\n",
        "df_cm = val['cm']\n",
        "vmin = np.min(df_cm)\n",
        "vmax = np.max(df_cm)\n",
        "labels = ['Normal', 'Pneumonia Bacteria', 'Pneumonia Viral']\n",
        "\n",
        "sns.heatmap(df_cm, annot=True, fmt=\"g\",vmin=vmin,cmap='Greens', vmax=vmax, xticklabels=labels, yticklabels=labels,  ax=ax2)\n",
        "#sns.heatmap(df_cm, annot=True, fmt=\"g\", mask=off_diag_mask, cmap='gray_r',vmin=vmin, vmax=vmax,xticklabels=labels, yticklabels=labels)\n",
        "ax2.set_title('Confusion Matrix for Pneumonia Dataset using Resnet');\n",
        "plt.subplots_adjust(wspace=0.04, hspace=0.02)"
      ],
      "metadata": {
        "colab": {
          "base_uri": "https://localhost:8080/",
          "height": 499
        },
        "id": "QkE2Yes083Pd",
        "outputId": "e798b2e3-ae37-4006-c3bc-549b693101bf"
      },
      "execution_count": null,
      "outputs": [
        {
          "output_type": "display_data",
          "data": {
            "text/plain": [
              "<Figure size 1440x576 with 3 Axes>"
            ],
            "image/png": "[encoded data removed]"
          },
          "metadata": {
            "needs_background": "light"
          }
        }
      ]
    },
    {
      "cell_type": "code",
      "source": [
        "fig.tight_layout()\n",
        "fig.savefig(\"drive/MyDrive/tsne_pneumonia_resnet.eps\", format=\"eps\", dpi=1200, bbox_inches=\"tight\", transparent=True)"
      ],
      "metadata": {
        "id": "clfz2tw289TK",
        "colab": {
          "base_uri": "https://localhost:8080/"
        },
        "outputId": "808fa955-6d98-4e4b-9ccc-65642e0d0c4a"
      },
      "execution_count": null,
      "outputs": [
        {
          "output_type": "stream",
          "name": "stderr",
          "text": [
            "WARNING:matplotlib.backends.backend_ps:The PostScript backend does not support transparency; partially transparent artists will be rendered opaque.\n",
            "WARNING:matplotlib.backends.backend_ps:The PostScript backend does not support transparency; partially transparent artists will be rendered opaque.\n"
          ]
        }
      ]
    },
    {
      "cell_type": "markdown",
      "source": [
        "# MobileNet"
      ],
      "metadata": {
        "id": "dcT2TKdRaZLV"
      }
    },
    {
      "cell_type": "code",
      "source": [
        "device = torch.device(\"cuda:0\" if torch.cuda.is_available() else \"cpu\")\n",
        "\n",
        "model_name = \"mobile_net_v3_large\"\n",
        "\n",
        "# Number of classes.\n",
        "num_classes = 3\n",
        "\n",
        "# Number of workers for data loader.\n",
        "num_workers = 0\n",
        "\n",
        "norm_arr=([0.4810, 0.4810, 0.4810], [0.2373, 0.2373, 0.2373])\n",
        "\n",
        "# Feature extract flag: False - Tune the whole model,\n",
        "#                       True - Update only the reshaped layer parameters.\n",
        "feature_extract = False\n",
        "\n",
        "# Use pretrained flag: None - Use random weights\n",
        "#                      String - Use pretrained weights given by String\n",
        "use_pretrained = None\n",
        "# Initialize the model for this run.\n",
        "mobilenet, input_size = initialize_model(model_name, num_classes, feature_extract, use_pretrained=use_pretrained)"
      ],
      "metadata": {
        "id": "XtHCKY60afDF"
      },
      "execution_count": null,
      "outputs": []
    },
    {
      "cell_type": "code",
      "source": [
        "data_loaders = load_data(images_dir,\n",
        "                         batch_size = batch_size, \n",
        "                         input_size = (input_size, input_size), ############################ check the input size \n",
        "                         norm_arr = norm_arr,\n",
        "                         num_workers=num_workers)"
      ],
      "metadata": {
        "id": "YKE-diPrusd2"
      },
      "execution_count": null,
      "outputs": []
    },
    {
      "cell_type": "code",
      "source": [
        "children_counter = 0\n",
        "for n,c in mobilenet.named_children():\n",
        "    print(\"Children Counter: \",children_counter,\" Layer Name: \",n)\n",
        "    children_counter+=1"
      ],
      "metadata": {
        "id": "u-MvtXeaaX99",
        "colab": {
          "base_uri": "https://localhost:8080/"
        },
        "outputId": "cfd188e4-f090-44b5-e832-dc0182b9b91e"
      },
      "execution_count": null,
      "outputs": [
        {
          "output_type": "stream",
          "name": "stdout",
          "text": [
            "Children Counter:  0  Layer Name:  features\n",
            "Children Counter:  1  Layer Name:  avgpool\n",
            "Children Counter:  2  Layer Name:  classifier\n"
          ]
        }
      ]
    },
    {
      "cell_type": "code",
      "source": [
        "class NewModelMobileNet(nn.Module):\n",
        "    def __init__(self, mobilenet, output_layers=None,*args, ):\n",
        "        super().__init__(*args)\n",
        "        self.output_layers = [16]\n",
        "        #print(self.output_layers)\n",
        "        self.selected_out = OrderedDict()\n",
        "\n",
        "        #PRETRAINED MODEL\n",
        "        self.pretrained = mobilenet\n",
        "        self.fhooks = []\n",
        "\n",
        "        for i,l in enumerate(list(self.pretrained._modules['features']._modules.keys())):\n",
        "            print(i,l)\n",
        "            if i in self.output_layers:\n",
        "                self.fhooks.append(getattr(self.pretrained._modules['features'],l).register_forward_hook(self.forward_hook(l)))\n",
        "    \n",
        "    def forward_hook(self,layer_name):\n",
        "        def hook(module, input, output):\n",
        "            self.selected_out[layer_name] = output\n",
        "        return hook\n",
        "\n",
        "    def forward(self, x):\n",
        "        out = self.pretrained(x)\n",
        "        return out, self.selected_out"
      ],
      "metadata": {
        "id": "YDSF5La2bY8l"
      },
      "execution_count": null,
      "outputs": []
    },
    {
      "cell_type": "code",
      "source": [
        "mobilenet.load_state_dict(torch.load('drive/MyDrive/mobile_net_v3_large_pneumonia_100_32_0.01_0.001_model_weights.pth', map_location=device)) "
      ],
      "metadata": {
        "id": "1Jjqmg0cKcIj",
        "colab": {
          "base_uri": "https://localhost:8080/"
        },
        "outputId": "f4db4748-82d4-4f7d-ff11-bdc4f1b9570f"
      },
      "execution_count": null,
      "outputs": [
        {
          "output_type": "execute_result",
          "data": {
            "text/plain": [
              "<All keys matched successfully>"
            ]
          },
          "metadata": {},
          "execution_count": 31
        }
      ]
    },
    {
      "cell_type": "code",
      "source": [
        "mobilenetmodel = NewModelMobileNet(mobilenet)\n",
        "mobilenetmodel = mobilenetmodel.to(device)"
      ],
      "metadata": {
        "id": "Tp6RNT-vLNuU",
        "colab": {
          "base_uri": "https://localhost:8080/"
        },
        "outputId": "1ba6c301-4af8-414a-d75b-e6233d9a49f8"
      },
      "execution_count": null,
      "outputs": [
        {
          "output_type": "stream",
          "name": "stdout",
          "text": [
            "0 0\n",
            "1 1\n",
            "2 2\n",
            "3 3\n",
            "4 4\n",
            "5 5\n",
            "6 6\n",
            "7 7\n",
            "8 8\n",
            "9 9\n",
            "10 10\n",
            "11 11\n",
            "12 12\n",
            "13 13\n",
            "14 14\n",
            "15 15\n",
            "16 16\n"
          ]
        }
      ]
    },
    {
      "cell_type": "code",
      "source": [
        "f = 125\n",
        "labels = []\n",
        "outputs = []\n",
        "\n",
        "with torch.no_grad():\n",
        "  for b, (image, label) in enumerate(data_loaders['test']):\n",
        "              if(b%25==0):\n",
        "                print(b,f)\n",
        "              # Apply the model\n",
        "              image, label = image.to(device), label.to(device)\n",
        "              _, dictionary = mobilenetmodel(image)\n",
        "              labels += label\n",
        "              outputs += dictionary['16']\n",
        "              f-=1\n",
        "              if(f==0):\n",
        "                break"
      ],
      "metadata": {
        "id": "nM0ayxndHaRn",
        "colab": {
          "base_uri": "https://localhost:8080/"
        },
        "outputId": "7efeba20-a75f-42d3-bffb-7b4d38bcbeed"
      },
      "execution_count": null,
      "outputs": [
        {
          "output_type": "stream",
          "name": "stdout",
          "text": [
            "0 125\n",
            "25 100\n",
            "50 75\n",
            "75 50\n",
            "100 25\n"
          ]
        }
      ]
    },
    {
      "cell_type": "code",
      "source": [
        "for i in range(877):\n",
        "  outputs[i] = outputs[i].cpu().detach().numpy()\n"
      ],
      "metadata": {
        "id": "_0WdruO51j7J"
      },
      "execution_count": null,
      "outputs": []
    },
    {
      "cell_type": "code",
      "source": [
        "outputs = np.asarray(outputs, dtype=np.float64)"
      ],
      "metadata": {
        "id": "eboxnyyj317e"
      },
      "execution_count": null,
      "outputs": []
    },
    {
      "cell_type": "code",
      "source": [
        "layer16 = torch.tensor(outputs)"
      ],
      "metadata": {
        "id": "6o82tAWP37ou"
      },
      "execution_count": null,
      "outputs": []
    },
    {
      "cell_type": "code",
      "source": [
        "layer16 = layer16.reshape(len(outputs), 960*8*8)\n",
        "layer16 = layer16.detach().cpu().numpy()"
      ],
      "metadata": {
        "id": "LA4keoI5LSI3"
      },
      "execution_count": null,
      "outputs": []
    },
    {
      "cell_type": "code",
      "source": [
        "from sklearn.manifold import TSNE\n",
        "X_embedded = TSNE(n_components=2, learning_rate='auto', init='random', n_iter=100000).fit_transform(layer16)"
      ],
      "metadata": {
        "id": "BJ6G311QLySK"
      },
      "execution_count": null,
      "outputs": []
    },
    {
      "cell_type": "code",
      "source": [
        "class1 = []\n",
        "class2 = []\n",
        "class3 = []\n",
        "\n",
        "for i in range(len(X_embedded)):\n",
        "  if(labels[i]==0):\n",
        "    class1.append(X_embedded[i])\n",
        "  elif(labels[i]==1):\n",
        "    class2.append(X_embedded[i])\n",
        "  elif(labels[i]==2):\n",
        "    class3.append(X_embedded[i])\n",
        "\n",
        "class1 = np.array(class1)\n",
        "class2 = np.array(class2)\n",
        "class3 = np.array(class3)"
      ],
      "metadata": {
        "id": "vCBG0XmlMTkU"
      },
      "execution_count": null,
      "outputs": []
    },
    {
      "cell_type": "code",
      "source": [
        "path = '/content/drive/MyDrive/Final_Report/eval_metrics_mobile_net_v3_large_pneumonia_100_32_0.01_0.001_'\n",
        "pickle_in = open(path + '.pickle',\"rb\")\n",
        "val = pickle.load(pickle_in)"
      ],
      "metadata": {
        "id": "RsXDTbxBwzZU"
      },
      "execution_count": null,
      "outputs": []
    },
    {
      "cell_type": "code",
      "source": [
        "fig, (ax1, ax2) = plt.subplots(1,2, figsize=(20,8))\n",
        "\n",
        "ax1.scatter(class1[:,0], class1[:,1], c=\"red\", label=\"NORMAL\")  \n",
        "ax1.scatter(class2[:,0], class2[:,1], c=\"green\", label=\"PNEUMONIA_BACTERIA\")\n",
        "ax1.scatter(class3[:,0], class3[:,1], c=\"blue\", label=\"PNEUMONIA_VIRAL\")\n",
        "ax1.legend()\n",
        "# ax1.show()\n",
        "ax1.set_xticks([]) \n",
        "ax1.set_yticks([]) \n",
        "\n",
        "df_cm = val['cm']\n",
        "vmin = np.min(df_cm)\n",
        "vmax = np.max(df_cm)\n",
        "labels = ['Normal', 'Pneumonia Bacteria', 'Pneumonia Viral']\n",
        "\n",
        "sns.heatmap(df_cm, annot=True, fmt=\"g\",vmin=vmin, cmap='Greens', vmax=vmax, xticklabels=labels, yticklabels=labels,  ax=ax2)\n",
        "#sns.heatmap(df_cm, annot=True, fmt=\"g\", mask=off_diag_mask, cmap='gray_r',vmin=vmin, vmax=vmax,xticklabels=labels, yticklabels=labels)\n",
        "ax2.set_title('Confusion Matrix for Pneumonia Dataset using MobileNet');\n",
        "plt.subplots_adjust(wspace=0.04, hspace=0.02)"
      ],
      "metadata": {
        "id": "IjpPgy2JMUW2",
        "colab": {
          "base_uri": "https://localhost:8080/",
          "height": 499
        },
        "outputId": "8edb8a4c-745d-4c90-f6c5-34a3a973bc27"
      },
      "execution_count": null,
      "outputs": [
        {
          "output_type": "display_data",
          "data": {
            "text/plain": [
              "<Figure size 1440x576 with 3 Axes>"
            ],
            "image/png": "[encoded data removed]"
          },
          "metadata": {
            "needs_background": "light"
          }
        }
      ]
    },
    {
      "cell_type": "code",
      "source": [
        "fig.tight_layout()\n",
        "fig.savefig(\"drive/MyDrive/tsne_pneumonia_mobilenet.eps\", format=\"eps\", dpi=1200, bbox_inches=\"tight\", transparent=True)"
      ],
      "metadata": {
        "colab": {
          "base_uri": "https://localhost:8080/"
        },
        "id": "DjSPo3EN8pSh",
        "outputId": "68cda51b-ca4a-4d32-cabf-ba1831947bfd"
      },
      "execution_count": null,
      "outputs": [
        {
          "output_type": "stream",
          "name": "stderr",
          "text": [
            "WARNING:matplotlib.backends.backend_ps:The PostScript backend does not support transparency; partially transparent artists will be rendered opaque.\n",
            "WARNING:matplotlib.backends.backend_ps:The PostScript backend does not support transparency; partially transparent artists will be rendered opaque.\n"
          ]
        }
      ]
    },
    {
      "cell_type": "markdown",
      "source": [
        "# Efficient - Net"
      ],
      "metadata": {
        "id": "A7t3VAYxvxW6"
      }
    },
    {
      "cell_type": "code",
      "source": [
        "# Models options: resnet50, resnet34, inceptionv3, vgg16, mobile_net_v3_large, efficient_net_b1, efficient_net_b0.\n",
        "device = torch.device(\"cuda:0\" if torch.cuda.is_available() else \"cpu\")\n",
        "\n",
        "model_name = \"efficient_net_b1\"\n",
        "\n",
        "# Number of classes.\n",
        "num_classes = 3\n",
        "\n",
        "# Number of workers for data loader.\n",
        "num_workers = 0\n",
        "\n",
        "# Pneumonia dataset metrics\n",
        "norm_arr=([0.4810, 0.4810, 0.4810], [0.2373, 0.2373, 0.2373])\n",
        "\n",
        "# Feature extract flag: False - Tune the whole model,\n",
        "#                       True - Update only the reshaped layer parameters.\n",
        "feature_extract = False\n",
        "\n",
        "# Use pretrained flag: None - Use random weights\n",
        "#                      String - Use pretrained weights given by String\n",
        "use_pretrained = None\n",
        "# Initialize the model for this run.\n",
        "efficientnet, input_size = initialize_model(model_name, num_classes, feature_extract, use_pretrained=use_pretrained)"
      ],
      "metadata": {
        "id": "IqUd83Q5vwDI"
      },
      "execution_count": null,
      "outputs": []
    },
    {
      "cell_type": "code",
      "source": [
        "children_counter = 0\n",
        "for n,c in efficientnet.named_children():\n",
        "    print(\"Children Counter: \",children_counter,\" Layer Name: \",n)\n",
        "    children_counter+=1"
      ],
      "metadata": {
        "id": "L5bFFrX704kI",
        "colab": {
          "base_uri": "https://localhost:8080/"
        },
        "outputId": "776aca5d-d8b2-4380-c47c-dbe9092ff24a"
      },
      "execution_count": null,
      "outputs": [
        {
          "output_type": "stream",
          "name": "stdout",
          "text": [
            "Children Counter:  0  Layer Name:  features\n",
            "Children Counter:  1  Layer Name:  avgpool\n",
            "Children Counter:  2  Layer Name:  classifier\n"
          ]
        }
      ]
    },
    {
      "cell_type": "code",
      "source": [
        "class NewModelEfficientNet(nn.Module):\n",
        "    def __init__(self, efficientnet, output_layers=None,*args, ):\n",
        "        super().__init__(*args)\n",
        "        self.output_layers = [8]\n",
        "        #print(self.output_layers)\n",
        "        self.selected_out = OrderedDict()\n",
        "\n",
        "        #PRETRAINED MODEL\n",
        "        self.pretrained = efficientnet\n",
        "        self.fhooks = []\n",
        "\n",
        "        for i,l in enumerate(list(self.pretrained._modules['features']._modules.keys())):\n",
        "            if i in self.output_layers:\n",
        "                # print(getattr(self.pretrained._modules['features'],l))\n",
        "                self.fhooks.append(getattr(self.pretrained._modules['features'],l).register_forward_hook(self.forward_hook(l)))\n",
        "    \n",
        "    def forward_hook(self,layer_name):\n",
        "        def hook(module, input, output):\n",
        "            self.selected_out[layer_name] = output.cpu()\n",
        "        return hook\n",
        "\n",
        "    def forward(self, x):\n",
        "        out = self.pretrained(x)\n",
        "        return out, self.selected_out"
      ],
      "metadata": {
        "id": "7mQMiVKO05pg"
      },
      "execution_count": null,
      "outputs": []
    },
    {
      "cell_type": "code",
      "source": [
        "efficientnet.load_state_dict(torch.load('drive/MyDrive/efficient_net_b1_pneumonia_100_32_0.01_0.001_model_weights.pth', map_location=device)) "
      ],
      "metadata": {
        "id": "oQWdX8bA1IXv",
        "colab": {
          "base_uri": "https://localhost:8080/"
        },
        "outputId": "d6292fb7-9979-4e63-9ef2-f10119520e23"
      },
      "execution_count": null,
      "outputs": [
        {
          "output_type": "execute_result",
          "data": {
            "text/plain": [
              "<All keys matched successfully>"
            ]
          },
          "metadata": {},
          "execution_count": 46
        }
      ]
    },
    {
      "cell_type": "code",
      "source": [
        "efficientnetmodel = NewModelEfficientNet(efficientnet)\n",
        "efficientnetmodel.to(device)"
      ],
      "metadata": {
        "id": "N1ZrgRSJ1RPO",
        "colab": {
          "base_uri": "https://localhost:8080/"
        },
        "outputId": "e9ab9fa9-48d6-4843-db15-72667d672a90"
      },
      "execution_count": null,
      "outputs": [
        {
          "output_type": "execute_result",
          "data": {
            "text/plain": [
              "NewModelEfficientNet(\n",
              "  (pretrained): EfficientNet(\n",
              "    (features): Sequential(\n",
              "      (0): Conv2dNormActivation(\n",
              "        (0): Conv2d(3, 32, kernel_size=(3, 3), stride=(2, 2), padding=(1, 1), bias=False)\n",
              "        (1): BatchNorm2d(32, eps=1e-05, momentum=0.1, affine=True, track_running_stats=True)\n",
              "        (2): SiLU(inplace=True)\n",
              "      )\n",
              "      (1): Sequential(\n",
              "        (0): MBConv(\n",
              "          (block): Sequential(\n",
              "            (0): Conv2dNormActivation(\n",
              "              (0): Conv2d(32, 32, kernel_size=(3, 3), stride=(1, 1), padding=(1, 1), groups=32, bias=False)\n",
              "              (1): BatchNorm2d(32, eps=1e-05, momentum=0.1, affine=True, track_running_stats=True)\n",
              "              (2): SiLU(inplace=True)\n",
              "            )\n",
              "            (1): SqueezeExcitation(\n",
              "              (avgpool): AdaptiveAvgPool2d(output_size=1)\n",
              "              (fc1): Conv2d(32, 8, kernel_size=(1, 1), stride=(1, 1))\n",
              "              (fc2): Conv2d(8, 32, kernel_size=(1, 1), stride=(1, 1))\n",
              "              (activation): SiLU(inplace=True)\n",
              "              (scale_activation): Sigmoid()\n",
              "            )\n",
              "            (2): Conv2dNormActivation(\n",
              "              (0): Conv2d(32, 16, kernel_size=(1, 1), stride=(1, 1), bias=False)\n",
              "              (1): BatchNorm2d(16, eps=1e-05, momentum=0.1, affine=True, track_running_stats=True)\n",
              "            )\n",
              "          )\n",
              "          (stochastic_depth): StochasticDepth(p=0.0, mode=row)\n",
              "        )\n",
              "        (1): MBConv(\n",
              "          (block): Sequential(\n",
              "            (0): Conv2dNormActivation(\n",
              "              (0): Conv2d(16, 16, kernel_size=(3, 3), stride=(1, 1), padding=(1, 1), groups=16, bias=False)\n",
              "              (1): BatchNorm2d(16, eps=1e-05, momentum=0.1, affine=True, track_running_stats=True)\n",
              "              (2): SiLU(inplace=True)\n",
              "            )\n",
              "            (1): SqueezeExcitation(\n",
              "              (avgpool): AdaptiveAvgPool2d(output_size=1)\n",
              "              (fc1): Conv2d(16, 4, kernel_size=(1, 1), stride=(1, 1))\n",
              "              (fc2): Conv2d(4, 16, kernel_size=(1, 1), stride=(1, 1))\n",
              "              (activation): SiLU(inplace=True)\n",
              "              (scale_activation): Sigmoid()\n",
              "            )\n",
              "            (2): Conv2dNormActivation(\n",
              "              (0): Conv2d(16, 16, kernel_size=(1, 1), stride=(1, 1), bias=False)\n",
              "              (1): BatchNorm2d(16, eps=1e-05, momentum=0.1, affine=True, track_running_stats=True)\n",
              "            )\n",
              "          )\n",
              "          (stochastic_depth): StochasticDepth(p=0.008695652173913044, mode=row)\n",
              "        )\n",
              "      )\n",
              "      (2): Sequential(\n",
              "        (0): MBConv(\n",
              "          (block): Sequential(\n",
              "            (0): Conv2dNormActivation(\n",
              "              (0): Conv2d(16, 96, kernel_size=(1, 1), stride=(1, 1), bias=False)\n",
              "              (1): BatchNorm2d(96, eps=1e-05, momentum=0.1, affine=True, track_running_stats=True)\n",
              "              (2): SiLU(inplace=True)\n",
              "            )\n",
              "            (1): Conv2dNormActivation(\n",
              "              (0): Conv2d(96, 96, kernel_size=(3, 3), stride=(2, 2), padding=(1, 1), groups=96, bias=False)\n",
              "              (1): BatchNorm2d(96, eps=1e-05, momentum=0.1, affine=True, track_running_stats=True)\n",
              "              (2): SiLU(inplace=True)\n",
              "            )\n",
              "            (2): SqueezeExcitation(\n",
              "              (avgpool): AdaptiveAvgPool2d(output_size=1)\n",
              "              (fc1): Conv2d(96, 4, kernel_size=(1, 1), stride=(1, 1))\n",
              "              (fc2): Conv2d(4, 96, kernel_size=(1, 1), stride=(1, 1))\n",
              "              (activation): SiLU(inplace=True)\n",
              "              (scale_activation): Sigmoid()\n",
              "            )\n",
              "            (3): Conv2dNormActivation(\n",
              "              (0): Conv2d(96, 24, kernel_size=(1, 1), stride=(1, 1), bias=False)\n",
              "              (1): BatchNorm2d(24, eps=1e-05, momentum=0.1, affine=True, track_running_stats=True)\n",
              "            )\n",
              "          )\n",
              "          (stochastic_depth): StochasticDepth(p=0.017391304347826087, mode=row)\n",
              "        )\n",
              "        (1): MBConv(\n",
              "          (block): Sequential(\n",
              "            (0): Conv2dNormActivation(\n",
              "              (0): Conv2d(24, 144, kernel_size=(1, 1), stride=(1, 1), bias=False)\n",
              "              (1): BatchNorm2d(144, eps=1e-05, momentum=0.1, affine=True, track_running_stats=True)\n",
              "              (2): SiLU(inplace=True)\n",
              "            )\n",
              "            (1): Conv2dNormActivation(\n",
              "              (0): Conv2d(144, 144, kernel_size=(3, 3), stride=(1, 1), padding=(1, 1), groups=144, bias=False)\n",
              "              (1): BatchNorm2d(144, eps=1e-05, momentum=0.1, affine=True, track_running_stats=True)\n",
              "              (2): SiLU(inplace=True)\n",
              "            )\n",
              "            (2): SqueezeExcitation(\n",
              "              (avgpool): AdaptiveAvgPool2d(output_size=1)\n",
              "              (fc1): Conv2d(144, 6, kernel_size=(1, 1), stride=(1, 1))\n",
              "              (fc2): Conv2d(6, 144, kernel_size=(1, 1), stride=(1, 1))\n",
              "              (activation): SiLU(inplace=True)\n",
              "              (scale_activation): Sigmoid()\n",
              "            )\n",
              "            (3): Conv2dNormActivation(\n",
              "              (0): Conv2d(144, 24, kernel_size=(1, 1), stride=(1, 1), bias=False)\n",
              "              (1): BatchNorm2d(24, eps=1e-05, momentum=0.1, affine=True, track_running_stats=True)\n",
              "            )\n",
              "          )\n",
              "          (stochastic_depth): StochasticDepth(p=0.026086956521739136, mode=row)\n",
              "        )\n",
              "        (2): MBConv(\n",
              "          (block): Sequential(\n",
              "            (0): Conv2dNormActivation(\n",
              "              (0): Conv2d(24, 144, kernel_size=(1, 1), stride=(1, 1), bias=False)\n",
              "              (1): BatchNorm2d(144, eps=1e-05, momentum=0.1, affine=True, track_running_stats=True)\n",
              "              (2): SiLU(inplace=True)\n",
              "            )\n",
              "            (1): Conv2dNormActivation(\n",
              "              (0): Conv2d(144, 144, kernel_size=(3, 3), stride=(1, 1), padding=(1, 1), groups=144, bias=False)\n",
              "              (1): BatchNorm2d(144, eps=1e-05, momentum=0.1, affine=True, track_running_stats=True)\n",
              "              (2): SiLU(inplace=True)\n",
              "            )\n",
              "            (2): SqueezeExcitation(\n",
              "              (avgpool): AdaptiveAvgPool2d(output_size=1)\n",
              "              (fc1): Conv2d(144, 6, kernel_size=(1, 1), stride=(1, 1))\n",
              "              (fc2): Conv2d(6, 144, kernel_size=(1, 1), stride=(1, 1))\n",
              "              (activation): SiLU(inplace=True)\n",
              "              (scale_activation): Sigmoid()\n",
              "            )\n",
              "            (3): Conv2dNormActivation(\n",
              "              (0): Conv2d(144, 24, kernel_size=(1, 1), stride=(1, 1), bias=False)\n",
              "              (1): BatchNorm2d(24, eps=1e-05, momentum=0.1, affine=True, track_running_stats=True)\n",
              "            )\n",
              "          )\n",
              "          (stochastic_depth): StochasticDepth(p=0.034782608695652174, mode=row)\n",
              "        )\n",
              "      )\n",
              "      (3): Sequential(\n",
              "        (0): MBConv(\n",
              "          (block): Sequential(\n",
              "            (0): Conv2dNormActivation(\n",
              "              (0): Conv2d(24, 144, kernel_size=(1, 1), stride=(1, 1), bias=False)\n",
              "              (1): BatchNorm2d(144, eps=1e-05, momentum=0.1, affine=True, track_running_stats=True)\n",
              "              (2): SiLU(inplace=True)\n",
              "            )\n",
              "            (1): Conv2dNormActivation(\n",
              "              (0): Conv2d(144, 144, kernel_size=(5, 5), stride=(2, 2), padding=(2, 2), groups=144, bias=False)\n",
              "              (1): BatchNorm2d(144, eps=1e-05, momentum=0.1, affine=True, track_running_stats=True)\n",
              "              (2): SiLU(inplace=True)\n",
              "            )\n",
              "            (2): SqueezeExcitation(\n",
              "              (avgpool): AdaptiveAvgPool2d(output_size=1)\n",
              "              (fc1): Conv2d(144, 6, kernel_size=(1, 1), stride=(1, 1))\n",
              "              (fc2): Conv2d(6, 144, kernel_size=(1, 1), stride=(1, 1))\n",
              "              (activation): SiLU(inplace=True)\n",
              "              (scale_activation): Sigmoid()\n",
              "            )\n",
              "            (3): Conv2dNormActivation(\n",
              "              (0): Conv2d(144, 40, kernel_size=(1, 1), stride=(1, 1), bias=False)\n",
              "              (1): BatchNorm2d(40, eps=1e-05, momentum=0.1, affine=True, track_running_stats=True)\n",
              "            )\n",
              "          )\n",
              "          (stochastic_depth): StochasticDepth(p=0.043478260869565216, mode=row)\n",
              "        )\n",
              "        (1): MBConv(\n",
              "          (block): Sequential(\n",
              "            (0): Conv2dNormActivation(\n",
              "              (0): Conv2d(40, 240, kernel_size=(1, 1), stride=(1, 1), bias=False)\n",
              "              (1): BatchNorm2d(240, eps=1e-05, momentum=0.1, affine=True, track_running_stats=True)\n",
              "              (2): SiLU(inplace=True)\n",
              "            )\n",
              "            (1): Conv2dNormActivation(\n",
              "              (0): Conv2d(240, 240, kernel_size=(5, 5), stride=(1, 1), padding=(2, 2), groups=240, bias=False)\n",
              "              (1): BatchNorm2d(240, eps=1e-05, momentum=0.1, affine=True, track_running_stats=True)\n",
              "              (2): SiLU(inplace=True)\n",
              "            )\n",
              "            (2): SqueezeExcitation(\n",
              "              (avgpool): AdaptiveAvgPool2d(output_size=1)\n",
              "              (fc1): Conv2d(240, 10, kernel_size=(1, 1), stride=(1, 1))\n",
              "              (fc2): Conv2d(10, 240, kernel_size=(1, 1), stride=(1, 1))\n",
              "              (activation): SiLU(inplace=True)\n",
              "              (scale_activation): Sigmoid()\n",
              "            )\n",
              "            (3): Conv2dNormActivation(\n",
              "              (0): Conv2d(240, 40, kernel_size=(1, 1), stride=(1, 1), bias=False)\n",
              "              (1): BatchNorm2d(40, eps=1e-05, momentum=0.1, affine=True, track_running_stats=True)\n",
              "            )\n",
              "          )\n",
              "          (stochastic_depth): StochasticDepth(p=0.05217391304347827, mode=row)\n",
              "        )\n",
              "        (2): MBConv(\n",
              "          (block): Sequential(\n",
              "            (0): Conv2dNormActivation(\n",
              "              (0): Conv2d(40, 240, kernel_size=(1, 1), stride=(1, 1), bias=False)\n",
              "              (1): BatchNorm2d(240, eps=1e-05, momentum=0.1, affine=True, track_running_stats=True)\n",
              "              (2): SiLU(inplace=True)\n",
              "            )\n",
              "            (1): Conv2dNormActivation(\n",
              "              (0): Conv2d(240, 240, kernel_size=(5, 5), stride=(1, 1), padding=(2, 2), groups=240, bias=False)\n",
              "              (1): BatchNorm2d(240, eps=1e-05, momentum=0.1, affine=True, track_running_stats=True)\n",
              "              (2): SiLU(inplace=True)\n",
              "            )\n",
              "            (2): SqueezeExcitation(\n",
              "              (avgpool): AdaptiveAvgPool2d(output_size=1)\n",
              "              (fc1): Conv2d(240, 10, kernel_size=(1, 1), stride=(1, 1))\n",
              "              (fc2): Conv2d(10, 240, kernel_size=(1, 1), stride=(1, 1))\n",
              "              (activation): SiLU(inplace=True)\n",
              "              (scale_activation): Sigmoid()\n",
              "            )\n",
              "            (3): Conv2dNormActivation(\n",
              "              (0): Conv2d(240, 40, kernel_size=(1, 1), stride=(1, 1), bias=False)\n",
              "              (1): BatchNorm2d(40, eps=1e-05, momentum=0.1, affine=True, track_running_stats=True)\n",
              "            )\n",
              "          )\n",
              "          (stochastic_depth): StochasticDepth(p=0.06086956521739131, mode=row)\n",
              "        )\n",
              "      )\n",
              "      (4): Sequential(\n",
              "        (0): MBConv(\n",
              "          (block): Sequential(\n",
              "            (0): Conv2dNormActivation(\n",
              "              (0): Conv2d(40, 240, kernel_size=(1, 1), stride=(1, 1), bias=False)\n",
              "              (1): BatchNorm2d(240, eps=1e-05, momentum=0.1, affine=True, track_running_stats=True)\n",
              "              (2): SiLU(inplace=True)\n",
              "            )\n",
              "            (1): Conv2dNormActivation(\n",
              "              (0): Conv2d(240, 240, kernel_size=(3, 3), stride=(2, 2), padding=(1, 1), groups=240, bias=False)\n",
              "              (1): BatchNorm2d(240, eps=1e-05, momentum=0.1, affine=True, track_running_stats=True)\n",
              "              (2): SiLU(inplace=True)\n",
              "            )\n",
              "            (2): SqueezeExcitation(\n",
              "              (avgpool): AdaptiveAvgPool2d(output_size=1)\n",
              "              (fc1): Conv2d(240, 10, kernel_size=(1, 1), stride=(1, 1))\n",
              "              (fc2): Conv2d(10, 240, kernel_size=(1, 1), stride=(1, 1))\n",
              "              (activation): SiLU(inplace=True)\n",
              "              (scale_activation): Sigmoid()\n",
              "            )\n",
              "            (3): Conv2dNormActivation(\n",
              "              (0): Conv2d(240, 80, kernel_size=(1, 1), stride=(1, 1), bias=False)\n",
              "              (1): BatchNorm2d(80, eps=1e-05, momentum=0.1, affine=True, track_running_stats=True)\n",
              "            )\n",
              "          )\n",
              "          (stochastic_depth): StochasticDepth(p=0.06956521739130435, mode=row)\n",
              "        )\n",
              "        (1): MBConv(\n",
              "          (block): Sequential(\n",
              "            (0): Conv2dNormActivation(\n",
              "              (0): Conv2d(80, 480, kernel_size=(1, 1), stride=(1, 1), bias=False)\n",
              "              (1): BatchNorm2d(480, eps=1e-05, momentum=0.1, affine=True, track_running_stats=True)\n",
              "              (2): SiLU(inplace=True)\n",
              "            )\n",
              "            (1): Conv2dNormActivation(\n",
              "              (0): Conv2d(480, 480, kernel_size=(3, 3), stride=(1, 1), padding=(1, 1), groups=480, bias=False)\n",
              "              (1): BatchNorm2d(480, eps=1e-05, momentum=0.1, affine=True, track_running_stats=True)\n",
              "              (2): SiLU(inplace=True)\n",
              "            )\n",
              "            (2): SqueezeExcitation(\n",
              "              (avgpool): AdaptiveAvgPool2d(output_size=1)\n",
              "              (fc1): Conv2d(480, 20, kernel_size=(1, 1), stride=(1, 1))\n",
              "              (fc2): Conv2d(20, 480, kernel_size=(1, 1), stride=(1, 1))\n",
              "              (activation): SiLU(inplace=True)\n",
              "              (scale_activation): Sigmoid()\n",
              "            )\n",
              "            (3): Conv2dNormActivation(\n",
              "              (0): Conv2d(480, 80, kernel_size=(1, 1), stride=(1, 1), bias=False)\n",
              "              (1): BatchNorm2d(80, eps=1e-05, momentum=0.1, affine=True, track_running_stats=True)\n",
              "            )\n",
              "          )\n",
              "          (stochastic_depth): StochasticDepth(p=0.0782608695652174, mode=row)\n",
              "        )\n",
              "        (2): MBConv(\n",
              "          (block): Sequential(\n",
              "            (0): Conv2dNormActivation(\n",
              "              (0): Conv2d(80, 480, kernel_size=(1, 1), stride=(1, 1), bias=False)\n",
              "              (1): BatchNorm2d(480, eps=1e-05, momentum=0.1, affine=True, track_running_stats=True)\n",
              "              (2): SiLU(inplace=True)\n",
              "            )\n",
              "            (1): Conv2dNormActivation(\n",
              "              (0): Conv2d(480, 480, kernel_size=(3, 3), stride=(1, 1), padding=(1, 1), groups=480, bias=False)\n",
              "              (1): BatchNorm2d(480, eps=1e-05, momentum=0.1, affine=True, track_running_stats=True)\n",
              "              (2): SiLU(inplace=True)\n",
              "            )\n",
              "            (2): SqueezeExcitation(\n",
              "              (avgpool): AdaptiveAvgPool2d(output_size=1)\n",
              "              (fc1): Conv2d(480, 20, kernel_size=(1, 1), stride=(1, 1))\n",
              "              (fc2): Conv2d(20, 480, kernel_size=(1, 1), stride=(1, 1))\n",
              "              (activation): SiLU(inplace=True)\n",
              "              (scale_activation): Sigmoid()\n",
              "            )\n",
              "            (3): Conv2dNormActivation(\n",
              "              (0): Conv2d(480, 80, kernel_size=(1, 1), stride=(1, 1), bias=False)\n",
              "              (1): BatchNorm2d(80, eps=1e-05, momentum=0.1, affine=True, track_running_stats=True)\n",
              "            )\n",
              "          )\n",
              "          (stochastic_depth): StochasticDepth(p=0.08695652173913043, mode=row)\n",
              "        )\n",
              "        (3): MBConv(\n",
              "          (block): Sequential(\n",
              "            (0): Conv2dNormActivation(\n",
              "              (0): Conv2d(80, 480, kernel_size=(1, 1), stride=(1, 1), bias=False)\n",
              "              (1): BatchNorm2d(480, eps=1e-05, momentum=0.1, affine=True, track_running_stats=True)\n",
              "              (2): SiLU(inplace=True)\n",
              "            )\n",
              "            (1): Conv2dNormActivation(\n",
              "              (0): Conv2d(480, 480, kernel_size=(3, 3), stride=(1, 1), padding=(1, 1), groups=480, bias=False)\n",
              "              (1): BatchNorm2d(480, eps=1e-05, momentum=0.1, affine=True, track_running_stats=True)\n",
              "              (2): SiLU(inplace=True)\n",
              "            )\n",
              "            (2): SqueezeExcitation(\n",
              "              (avgpool): AdaptiveAvgPool2d(output_size=1)\n",
              "              (fc1): Conv2d(480, 20, kernel_size=(1, 1), stride=(1, 1))\n",
              "              (fc2): Conv2d(20, 480, kernel_size=(1, 1), stride=(1, 1))\n",
              "              (activation): SiLU(inplace=True)\n",
              "              (scale_activation): Sigmoid()\n",
              "            )\n",
              "            (3): Conv2dNormActivation(\n",
              "              (0): Conv2d(480, 80, kernel_size=(1, 1), stride=(1, 1), bias=False)\n",
              "              (1): BatchNorm2d(80, eps=1e-05, momentum=0.1, affine=True, track_running_stats=True)\n",
              "            )\n",
              "          )\n",
              "          (stochastic_depth): StochasticDepth(p=0.09565217391304348, mode=row)\n",
              "        )\n",
              "      )\n",
              "      (5): Sequential(\n",
              "        (0): MBConv(\n",
              "          (block): Sequential(\n",
              "            (0): Conv2dNormActivation(\n",
              "              (0): Conv2d(80, 480, kernel_size=(1, 1), stride=(1, 1), bias=False)\n",
              "              (1): BatchNorm2d(480, eps=1e-05, momentum=0.1, affine=True, track_running_stats=True)\n",
              "              (2): SiLU(inplace=True)\n",
              "            )\n",
              "            (1): Conv2dNormActivation(\n",
              "              (0): Conv2d(480, 480, kernel_size=(5, 5), stride=(1, 1), padding=(2, 2), groups=480, bias=False)\n",
              "              (1): BatchNorm2d(480, eps=1e-05, momentum=0.1, affine=True, track_running_stats=True)\n",
              "              (2): SiLU(inplace=True)\n",
              "            )\n",
              "            (2): SqueezeExcitation(\n",
              "              (avgpool): AdaptiveAvgPool2d(output_size=1)\n",
              "              (fc1): Conv2d(480, 20, kernel_size=(1, 1), stride=(1, 1))\n",
              "              (fc2): Conv2d(20, 480, kernel_size=(1, 1), stride=(1, 1))\n",
              "              (activation): SiLU(inplace=True)\n",
              "              (scale_activation): Sigmoid()\n",
              "            )\n",
              "            (3): Conv2dNormActivation(\n",
              "              (0): Conv2d(480, 112, kernel_size=(1, 1), stride=(1, 1), bias=False)\n",
              "              (1): BatchNorm2d(112, eps=1e-05, momentum=0.1, affine=True, track_running_stats=True)\n",
              "            )\n",
              "          )\n",
              "          (stochastic_depth): StochasticDepth(p=0.10434782608695654, mode=row)\n",
              "        )\n",
              "        (1): MBConv(\n",
              "          (block): Sequential(\n",
              "            (0): Conv2dNormActivation(\n",
              "              (0): Conv2d(112, 672, kernel_size=(1, 1), stride=(1, 1), bias=False)\n",
              "              (1): BatchNorm2d(672, eps=1e-05, momentum=0.1, affine=True, track_running_stats=True)\n",
              "              (2): SiLU(inplace=True)\n",
              "            )\n",
              "            (1): Conv2dNormActivation(\n",
              "              (0): Conv2d(672, 672, kernel_size=(5, 5), stride=(1, 1), padding=(2, 2), groups=672, bias=False)\n",
              "              (1): BatchNorm2d(672, eps=1e-05, momentum=0.1, affine=True, track_running_stats=True)\n",
              "              (2): SiLU(inplace=True)\n",
              "            )\n",
              "            (2): SqueezeExcitation(\n",
              "              (avgpool): AdaptiveAvgPool2d(output_size=1)\n",
              "              (fc1): Conv2d(672, 28, kernel_size=(1, 1), stride=(1, 1))\n",
              "              (fc2): Conv2d(28, 672, kernel_size=(1, 1), stride=(1, 1))\n",
              "              (activation): SiLU(inplace=True)\n",
              "              (scale_activation): Sigmoid()\n",
              "            )\n",
              "            (3): Conv2dNormActivation(\n",
              "              (0): Conv2d(672, 112, kernel_size=(1, 1), stride=(1, 1), bias=False)\n",
              "              (1): BatchNorm2d(112, eps=1e-05, momentum=0.1, affine=True, track_running_stats=True)\n",
              "            )\n",
              "          )\n",
              "          (stochastic_depth): StochasticDepth(p=0.11304347826086956, mode=row)\n",
              "        )\n",
              "        (2): MBConv(\n",
              "          (block): Sequential(\n",
              "            (0): Conv2dNormActivation(\n",
              "              (0): Conv2d(112, 672, kernel_size=(1, 1), stride=(1, 1), bias=False)\n",
              "              (1): BatchNorm2d(672, eps=1e-05, momentum=0.1, affine=True, track_running_stats=True)\n",
              "              (2): SiLU(inplace=True)\n",
              "            )\n",
              "            (1): Conv2dNormActivation(\n",
              "              (0): Conv2d(672, 672, kernel_size=(5, 5), stride=(1, 1), padding=(2, 2), groups=672, bias=False)\n",
              "              (1): BatchNorm2d(672, eps=1e-05, momentum=0.1, affine=True, track_running_stats=True)\n",
              "              (2): SiLU(inplace=True)\n",
              "            )\n",
              "            (2): SqueezeExcitation(\n",
              "              (avgpool): AdaptiveAvgPool2d(output_size=1)\n",
              "              (fc1): Conv2d(672, 28, kernel_size=(1, 1), stride=(1, 1))\n",
              "              (fc2): Conv2d(28, 672, kernel_size=(1, 1), stride=(1, 1))\n",
              "              (activation): SiLU(inplace=True)\n",
              "              (scale_activation): Sigmoid()\n",
              "            )\n",
              "            (3): Conv2dNormActivation(\n",
              "              (0): Conv2d(672, 112, kernel_size=(1, 1), stride=(1, 1), bias=False)\n",
              "              (1): BatchNorm2d(112, eps=1e-05, momentum=0.1, affine=True, track_running_stats=True)\n",
              "            )\n",
              "          )\n",
              "          (stochastic_depth): StochasticDepth(p=0.12173913043478261, mode=row)\n",
              "        )\n",
              "        (3): MBConv(\n",
              "          (block): Sequential(\n",
              "            (0): Conv2dNormActivation(\n",
              "              (0): Conv2d(112, 672, kernel_size=(1, 1), stride=(1, 1), bias=False)\n",
              "              (1): BatchNorm2d(672, eps=1e-05, momentum=0.1, affine=True, track_running_stats=True)\n",
              "              (2): SiLU(inplace=True)\n",
              "            )\n",
              "            (1): Conv2dNormActivation(\n",
              "              (0): Conv2d(672, 672, kernel_size=(5, 5), stride=(1, 1), padding=(2, 2), groups=672, bias=False)\n",
              "              (1): BatchNorm2d(672, eps=1e-05, momentum=0.1, affine=True, track_running_stats=True)\n",
              "              (2): SiLU(inplace=True)\n",
              "            )\n",
              "            (2): SqueezeExcitation(\n",
              "              (avgpool): AdaptiveAvgPool2d(output_size=1)\n",
              "              (fc1): Conv2d(672, 28, kernel_size=(1, 1), stride=(1, 1))\n",
              "              (fc2): Conv2d(28, 672, kernel_size=(1, 1), stride=(1, 1))\n",
              "              (activation): SiLU(inplace=True)\n",
              "              (scale_activation): Sigmoid()\n",
              "            )\n",
              "            (3): Conv2dNormActivation(\n",
              "              (0): Conv2d(672, 112, kernel_size=(1, 1), stride=(1, 1), bias=False)\n",
              "              (1): BatchNorm2d(112, eps=1e-05, momentum=0.1, affine=True, track_running_stats=True)\n",
              "            )\n",
              "          )\n",
              "          (stochastic_depth): StochasticDepth(p=0.13043478260869565, mode=row)\n",
              "        )\n",
              "      )\n",
              "      (6): Sequential(\n",
              "        (0): MBConv(\n",
              "          (block): Sequential(\n",
              "            (0): Conv2dNormActivation(\n",
              "              (0): Conv2d(112, 672, kernel_size=(1, 1), stride=(1, 1), bias=False)\n",
              "              (1): BatchNorm2d(672, eps=1e-05, momentum=0.1, affine=True, track_running_stats=True)\n",
              "              (2): SiLU(inplace=True)\n",
              "            )\n",
              "            (1): Conv2dNormActivation(\n",
              "              (0): Conv2d(672, 672, kernel_size=(5, 5), stride=(2, 2), padding=(2, 2), groups=672, bias=False)\n",
              "              (1): BatchNorm2d(672, eps=1e-05, momentum=0.1, affine=True, track_running_stats=True)\n",
              "              (2): SiLU(inplace=True)\n",
              "            )\n",
              "            (2): SqueezeExcitation(\n",
              "              (avgpool): AdaptiveAvgPool2d(output_size=1)\n",
              "              (fc1): Conv2d(672, 28, kernel_size=(1, 1), stride=(1, 1))\n",
              "              (fc2): Conv2d(28, 672, kernel_size=(1, 1), stride=(1, 1))\n",
              "              (activation): SiLU(inplace=True)\n",
              "              (scale_activation): Sigmoid()\n",
              "            )\n",
              "            (3): Conv2dNormActivation(\n",
              "              (0): Conv2d(672, 192, kernel_size=(1, 1), stride=(1, 1), bias=False)\n",
              "              (1): BatchNorm2d(192, eps=1e-05, momentum=0.1, affine=True, track_running_stats=True)\n",
              "            )\n",
              "          )\n",
              "          (stochastic_depth): StochasticDepth(p=0.1391304347826087, mode=row)\n",
              "        )\n",
              "        (1): MBConv(\n",
              "          (block): Sequential(\n",
              "            (0): Conv2dNormActivation(\n",
              "              (0): Conv2d(192, 1152, kernel_size=(1, 1), stride=(1, 1), bias=False)\n",
              "              (1): BatchNorm2d(1152, eps=1e-05, momentum=0.1, affine=True, track_running_stats=True)\n",
              "              (2): SiLU(inplace=True)\n",
              "            )\n",
              "            (1): Conv2dNormActivation(\n",
              "              (0): Conv2d(1152, 1152, kernel_size=(5, 5), stride=(1, 1), padding=(2, 2), groups=1152, bias=False)\n",
              "              (1): BatchNorm2d(1152, eps=1e-05, momentum=0.1, affine=True, track_running_stats=True)\n",
              "              (2): SiLU(inplace=True)\n",
              "            )\n",
              "            (2): SqueezeExcitation(\n",
              "              (avgpool): AdaptiveAvgPool2d(output_size=1)\n",
              "              (fc1): Conv2d(1152, 48, kernel_size=(1, 1), stride=(1, 1))\n",
              "              (fc2): Conv2d(48, 1152, kernel_size=(1, 1), stride=(1, 1))\n",
              "              (activation): SiLU(inplace=True)\n",
              "              (scale_activation): Sigmoid()\n",
              "            )\n",
              "            (3): Conv2dNormActivation(\n",
              "              (0): Conv2d(1152, 192, kernel_size=(1, 1), stride=(1, 1), bias=False)\n",
              "              (1): BatchNorm2d(192, eps=1e-05, momentum=0.1, affine=True, track_running_stats=True)\n",
              "            )\n",
              "          )\n",
              "          (stochastic_depth): StochasticDepth(p=0.14782608695652175, mode=row)\n",
              "        )\n",
              "        (2): MBConv(\n",
              "          (block): Sequential(\n",
              "            (0): Conv2dNormActivation(\n",
              "              (0): Conv2d(192, 1152, kernel_size=(1, 1), stride=(1, 1), bias=False)\n",
              "              (1): BatchNorm2d(1152, eps=1e-05, momentum=0.1, affine=True, track_running_stats=True)\n",
              "              (2): SiLU(inplace=True)\n",
              "            )\n",
              "            (1): Conv2dNormActivation(\n",
              "              (0): Conv2d(1152, 1152, kernel_size=(5, 5), stride=(1, 1), padding=(2, 2), groups=1152, bias=False)\n",
              "              (1): BatchNorm2d(1152, eps=1e-05, momentum=0.1, affine=True, track_running_stats=True)\n",
              "              (2): SiLU(inplace=True)\n",
              "            )\n",
              "            (2): SqueezeExcitation(\n",
              "              (avgpool): AdaptiveAvgPool2d(output_size=1)\n",
              "              (fc1): Conv2d(1152, 48, kernel_size=(1, 1), stride=(1, 1))\n",
              "              (fc2): Conv2d(48, 1152, kernel_size=(1, 1), stride=(1, 1))\n",
              "              (activation): SiLU(inplace=True)\n",
              "              (scale_activation): Sigmoid()\n",
              "            )\n",
              "            (3): Conv2dNormActivation(\n",
              "              (0): Conv2d(1152, 192, kernel_size=(1, 1), stride=(1, 1), bias=False)\n",
              "              (1): BatchNorm2d(192, eps=1e-05, momentum=0.1, affine=True, track_running_stats=True)\n",
              "            )\n",
              "          )\n",
              "          (stochastic_depth): StochasticDepth(p=0.1565217391304348, mode=row)\n",
              "        )\n",
              "        (3): MBConv(\n",
              "          (block): Sequential(\n",
              "            (0): Conv2dNormActivation(\n",
              "              (0): Conv2d(192, 1152, kernel_size=(1, 1), stride=(1, 1), bias=False)\n",
              "              (1): BatchNorm2d(1152, eps=1e-05, momentum=0.1, affine=True, track_running_stats=True)\n",
              "              (2): SiLU(inplace=True)\n",
              "            )\n",
              "            (1): Conv2dNormActivation(\n",
              "              (0): Conv2d(1152, 1152, kernel_size=(5, 5), stride=(1, 1), padding=(2, 2), groups=1152, bias=False)\n",
              "              (1): BatchNorm2d(1152, eps=1e-05, momentum=0.1, affine=True, track_running_stats=True)\n",
              "              (2): SiLU(inplace=True)\n",
              "            )\n",
              "            (2): SqueezeExcitation(\n",
              "              (avgpool): AdaptiveAvgPool2d(output_size=1)\n",
              "              (fc1): Conv2d(1152, 48, kernel_size=(1, 1), stride=(1, 1))\n",
              "              (fc2): Conv2d(48, 1152, kernel_size=(1, 1), stride=(1, 1))\n",
              "              (activation): SiLU(inplace=True)\n",
              "              (scale_activation): Sigmoid()\n",
              "            )\n",
              "            (3): Conv2dNormActivation(\n",
              "              (0): Conv2d(1152, 192, kernel_size=(1, 1), stride=(1, 1), bias=False)\n",
              "              (1): BatchNorm2d(192, eps=1e-05, momentum=0.1, affine=True, track_running_stats=True)\n",
              "            )\n",
              "          )\n",
              "          (stochastic_depth): StochasticDepth(p=0.16521739130434784, mode=row)\n",
              "        )\n",
              "        (4): MBConv(\n",
              "          (block): Sequential(\n",
              "            (0): Conv2dNormActivation(\n",
              "              (0): Conv2d(192, 1152, kernel_size=(1, 1), stride=(1, 1), bias=False)\n",
              "              (1): BatchNorm2d(1152, eps=1e-05, momentum=0.1, affine=True, track_running_stats=True)\n",
              "              (2): SiLU(inplace=True)\n",
              "            )\n",
              "            (1): Conv2dNormActivation(\n",
              "              (0): Conv2d(1152, 1152, kernel_size=(5, 5), stride=(1, 1), padding=(2, 2), groups=1152, bias=False)\n",
              "              (1): BatchNorm2d(1152, eps=1e-05, momentum=0.1, affine=True, track_running_stats=True)\n",
              "              (2): SiLU(inplace=True)\n",
              "            )\n",
              "            (2): SqueezeExcitation(\n",
              "              (avgpool): AdaptiveAvgPool2d(output_size=1)\n",
              "              (fc1): Conv2d(1152, 48, kernel_size=(1, 1), stride=(1, 1))\n",
              "              (fc2): Conv2d(48, 1152, kernel_size=(1, 1), stride=(1, 1))\n",
              "              (activation): SiLU(inplace=True)\n",
              "              (scale_activation): Sigmoid()\n",
              "            )\n",
              "            (3): Conv2dNormActivation(\n",
              "              (0): Conv2d(1152, 192, kernel_size=(1, 1), stride=(1, 1), bias=False)\n",
              "              (1): BatchNorm2d(192, eps=1e-05, momentum=0.1, affine=True, track_running_stats=True)\n",
              "            )\n",
              "          )\n",
              "          (stochastic_depth): StochasticDepth(p=0.17391304347826086, mode=row)\n",
              "        )\n",
              "      )\n",
              "      (7): Sequential(\n",
              "        (0): MBConv(\n",
              "          (block): Sequential(\n",
              "            (0): Conv2dNormActivation(\n",
              "              (0): Conv2d(192, 1152, kernel_size=(1, 1), stride=(1, 1), bias=False)\n",
              "              (1): BatchNorm2d(1152, eps=1e-05, momentum=0.1, affine=True, track_running_stats=True)\n",
              "              (2): SiLU(inplace=True)\n",
              "            )\n",
              "            (1): Conv2dNormActivation(\n",
              "              (0): Conv2d(1152, 1152, kernel_size=(3, 3), stride=(1, 1), padding=(1, 1), groups=1152, bias=False)\n",
              "              (1): BatchNorm2d(1152, eps=1e-05, momentum=0.1, affine=True, track_running_stats=True)\n",
              "              (2): SiLU(inplace=True)\n",
              "            )\n",
              "            (2): SqueezeExcitation(\n",
              "              (avgpool): AdaptiveAvgPool2d(output_size=1)\n",
              "              (fc1): Conv2d(1152, 48, kernel_size=(1, 1), stride=(1, 1))\n",
              "              (fc2): Conv2d(48, 1152, kernel_size=(1, 1), stride=(1, 1))\n",
              "              (activation): SiLU(inplace=True)\n",
              "              (scale_activation): Sigmoid()\n",
              "            )\n",
              "            (3): Conv2dNormActivation(\n",
              "              (0): Conv2d(1152, 320, kernel_size=(1, 1), stride=(1, 1), bias=False)\n",
              "              (1): BatchNorm2d(320, eps=1e-05, momentum=0.1, affine=True, track_running_stats=True)\n",
              "            )\n",
              "          )\n",
              "          (stochastic_depth): StochasticDepth(p=0.1826086956521739, mode=row)\n",
              "        )\n",
              "        (1): MBConv(\n",
              "          (block): Sequential(\n",
              "            (0): Conv2dNormActivation(\n",
              "              (0): Conv2d(320, 1920, kernel_size=(1, 1), stride=(1, 1), bias=False)\n",
              "              (1): BatchNorm2d(1920, eps=1e-05, momentum=0.1, affine=True, track_running_stats=True)\n",
              "              (2): SiLU(inplace=True)\n",
              "            )\n",
              "            (1): Conv2dNormActivation(\n",
              "              (0): Conv2d(1920, 1920, kernel_size=(3, 3), stride=(1, 1), padding=(1, 1), groups=1920, bias=False)\n",
              "              (1): BatchNorm2d(1920, eps=1e-05, momentum=0.1, affine=True, track_running_stats=True)\n",
              "              (2): SiLU(inplace=True)\n",
              "            )\n",
              "            (2): SqueezeExcitation(\n",
              "              (avgpool): AdaptiveAvgPool2d(output_size=1)\n",
              "              (fc1): Conv2d(1920, 80, kernel_size=(1, 1), stride=(1, 1))\n",
              "              (fc2): Conv2d(80, 1920, kernel_size=(1, 1), stride=(1, 1))\n",
              "              (activation): SiLU(inplace=True)\n",
              "              (scale_activation): Sigmoid()\n",
              "            )\n",
              "            (3): Conv2dNormActivation(\n",
              "              (0): Conv2d(1920, 320, kernel_size=(1, 1), stride=(1, 1), bias=False)\n",
              "              (1): BatchNorm2d(320, eps=1e-05, momentum=0.1, affine=True, track_running_stats=True)\n",
              "            )\n",
              "          )\n",
              "          (stochastic_depth): StochasticDepth(p=0.19130434782608696, mode=row)\n",
              "        )\n",
              "      )\n",
              "      (8): Conv2dNormActivation(\n",
              "        (0): Conv2d(320, 1280, kernel_size=(1, 1), stride=(1, 1), bias=False)\n",
              "        (1): BatchNorm2d(1280, eps=1e-05, momentum=0.1, affine=True, track_running_stats=True)\n",
              "        (2): SiLU(inplace=True)\n",
              "      )\n",
              "    )\n",
              "    (avgpool): AdaptiveAvgPool2d(output_size=1)\n",
              "    (classifier): Sequential(\n",
              "      (0): Dropout(p=0.2, inplace=True)\n",
              "      (1): Linear(in_features=1280, out_features=3, bias=True)\n",
              "    )\n",
              "  )\n",
              ")"
            ]
          },
          "metadata": {},
          "execution_count": 47
        }
      ]
    },
    {
      "cell_type": "code",
      "source": [
        "f = 125\n",
        "labels = []\n",
        "outputs = []\n",
        "\n",
        "with torch.no_grad():\n",
        "  for b, (image, label) in enumerate(data_loaders['test']):\n",
        "      if(b%10==0):\n",
        "        print(b,f)\n",
        "\n",
        "      # Apply the model\n",
        "      image, label = image.to(device), label.to(device)\n",
        "      _, dictionary = efficientnetmodel(image)\n",
        "      labels += label\n",
        "      dictionary['8'] = dictionary['8'].cpu()\n",
        "      outputs += dictionary['8']\n",
        "      f-=1\n",
        "      if(f==0):\n",
        "        break\n",
        "\n",
        "      del image, label, dictionary\n",
        "      torch.cuda.empty_cache()\n",
        "              "
      ],
      "metadata": {
        "id": "W7_5tDjI1aJc",
        "colab": {
          "base_uri": "https://localhost:8080/"
        },
        "outputId": "6299e96e-0e48-4f1a-9ea4-e8d47c20f4e4"
      },
      "execution_count": null,
      "outputs": [
        {
          "output_type": "stream",
          "name": "stdout",
          "text": [
            "0 125\n",
            "10 115\n",
            "20 105\n",
            "30 95\n",
            "40 85\n",
            "50 75\n",
            "60 65\n",
            "70 55\n",
            "80 45\n",
            "90 35\n",
            "100 25\n"
          ]
        }
      ]
    },
    {
      "cell_type": "code",
      "source": [
        "len(outputs), outputs[0].shape"
      ],
      "metadata": {
        "id": "KUrZfXWIjwOf",
        "colab": {
          "base_uri": "https://localhost:8080/"
        },
        "outputId": "08706c8a-786d-45c6-edbc-3bd6ba4fd1eb"
      },
      "execution_count": null,
      "outputs": [
        {
          "output_type": "execute_result",
          "data": {
            "text/plain": [
              "(877, torch.Size([1280, 8, 8]))"
            ]
          },
          "metadata": {},
          "execution_count": 49
        }
      ]
    },
    {
      "cell_type": "code",
      "source": [
        "for i in range(877):\n",
        "  outputs[i] = outputs[i].numpy()"
      ],
      "metadata": {
        "id": "pNsliWQJ2FOc"
      },
      "execution_count": null,
      "outputs": []
    },
    {
      "cell_type": "code",
      "source": [
        "outputs1 = np.asarray(outputs, dtype=np.float64)"
      ],
      "metadata": {
        "id": "VZecJQiL43KV"
      },
      "execution_count": null,
      "outputs": []
    },
    {
      "cell_type": "code",
      "source": [
        "type(outputs1)"
      ],
      "metadata": {
        "id": "V51rV2rvjNtR",
        "colab": {
          "base_uri": "https://localhost:8080/"
        },
        "outputId": "3dbddb9a-f138-43f1-8e81-db7e8e1c408b"
      },
      "execution_count": null,
      "outputs": [
        {
          "output_type": "execute_result",
          "data": {
            "text/plain": [
              "numpy.ndarray"
            ]
          },
          "metadata": {},
          "execution_count": 52
        }
      ]
    },
    {
      "cell_type": "code",
      "source": [
        "layer8 = torch.tensor(outputs1)"
      ],
      "metadata": {
        "id": "QtGvAZ8b2Mjh"
      },
      "execution_count": null,
      "outputs": []
    },
    {
      "cell_type": "code",
      "source": [
        "layer8 = layer8.reshape(len(outputs), 1280*8*8)\n",
        "layer8 = layer8.detach().cpu().numpy()"
      ],
      "metadata": {
        "id": "UtSwFrnR2bjJ"
      },
      "execution_count": null,
      "outputs": []
    },
    {
      "cell_type": "code",
      "source": [
        "from sklearn.manifold import TSNE\n",
        "X_embedded = TSNE(n_components=2, learning_rate='auto', init='random', n_iter=100000).fit_transform(layer8)"
      ],
      "metadata": {
        "id": "IqeYaz_M2fw3"
      },
      "execution_count": null,
      "outputs": []
    },
    {
      "cell_type": "code",
      "source": [
        "class1 = []\n",
        "class2 = []\n",
        "class3 = []\n",
        "\n",
        "for i in range(len(X_embedded)):\n",
        "  if(labels[i]==0):\n",
        "    class1.append(X_embedded[i])\n",
        "  elif(labels[i]==1):\n",
        "    class2.append(X_embedded[i])\n",
        "  elif(labels[i]==2):\n",
        "    class3.append(X_embedded[i])\n",
        "\n",
        "class1 = np.array(class1)\n",
        "class2 = np.array(class2)\n",
        "class3 = np.array(class3)"
      ],
      "metadata": {
        "id": "I0Wm_oRI2sD8"
      },
      "execution_count": null,
      "outputs": []
    },
    {
      "cell_type": "code",
      "source": [
        "path = '/content/drive/MyDrive/Final_Report/eval_metrics_efficient_net_b1_pneumonia_100_32_0.01_0.001_'\n",
        "pickle_in = open(path + '.pickle',\"rb\")\n",
        "val = pickle.load(pickle_in)"
      ],
      "metadata": {
        "id": "1WZa01yYxu4C"
      },
      "execution_count": null,
      "outputs": []
    },
    {
      "cell_type": "code",
      "source": [
        "fig, (ax1, ax2) = plt.subplots(1,2, figsize=(20,8))\n",
        "\n",
        "ax1.scatter(class1[:,0], class1[:,1], c=\"red\", label=\"NORMAL\")  \n",
        "ax1.scatter(class2[:,0], class2[:,1], c=\"green\", label=\"PNEUMONIA_BACTERIA\")\n",
        "ax1.scatter(class3[:,0], class3[:,1], c=\"blue\", label=\"PNEUMONIA_VIRAL\")\n",
        "ax1.legend()\n",
        "# ax1.show()\n",
        "ax1.set_xticks([]) \n",
        "ax1.set_yticks([]) \n",
        "\n",
        "df_cm = val['cm']\n",
        "vmin = np.min(df_cm)\n",
        "vmax = np.max(df_cm)\n",
        "labels = ['Normal', 'Pneumonia Bacteria', 'Pneumonia Viral']\n",
        "\n",
        "sns.heatmap(df_cm, annot=True, fmt=\"g\",vmin=vmin, vmax=vmax,cmap='Greens', xticklabels=labels, yticklabels=labels,  ax=ax2)\n",
        "#sns.heatmap(df_cm, annot=True, fmt=\"g\", mask=off_diag_mask, cmap='gray_r',vmin=vmin, vmax=vmax,xticklabels=labels, yticklabels=labels)\n",
        "ax2.set_title('Confusion Matrix for Pneumonia Dataset using EfficientNet');\n",
        "plt.subplots_adjust(wspace=0.04, hspace=0.02)"
      ],
      "metadata": {
        "id": "arnJwI2G2wSL",
        "colab": {
          "base_uri": "https://localhost:8080/",
          "height": 499
        },
        "outputId": "774d7f46-7a3c-419c-91d3-0be3195d46c4"
      },
      "execution_count": null,
      "outputs": [
        {
          "output_type": "display_data",
          "data": {
            "text/plain": [
              "<Figure size 1440x576 with 3 Axes>"
            ],
            "image/png": "[encoded data removed]"
          },
          "metadata": {
            "needs_background": "light"
          }
        }
      ]
    },
    {
      "cell_type": "code",
      "source": [
        "fig.tight_layout()\n",
        "fig.savefig(\"drive/MyDrive/tsne_pneumonia_efficientnet.eps\", format=\"eps\", dpi=1200, bbox_inches=\"tight\", transparent=True)"
      ],
      "metadata": {
        "colab": {
          "base_uri": "https://localhost:8080/"
        },
        "id": "EfB7uYxS8t_T",
        "outputId": "fe432da2-b4ea-4234-9414-4fa25cb0463e"
      },
      "execution_count": null,
      "outputs": [
        {
          "output_type": "stream",
          "name": "stderr",
          "text": [
            "WARNING:matplotlib.backends.backend_ps:The PostScript backend does not support transparency; partially transparent artists will be rendered opaque.\n",
            "WARNING:matplotlib.backends.backend_ps:The PostScript backend does not support transparency; partially transparent artists will be rendered opaque.\n"
          ]
        }
      ]
    },
    {
      "cell_type": "markdown",
      "source": [
        "# EfficientNet Transfer Learning"
      ],
      "metadata": {
        "id": "GDvAMxmbEQkk"
      }
    },
    {
      "cell_type": "code",
      "source": [
        "device = torch.device(\"cuda:0\" if torch.cuda.is_available() else \"cpu\")\n",
        "\n",
        "model_name = \"efficient_net_b1\"\n",
        "\n",
        "# Number of classes.\n",
        "num_classes = 3\n",
        "\n",
        "# Number of workers for data loader.\n",
        "num_workers = 0\n",
        "\n",
        "norm_arr=([0.4810, 0.4810, 0.4810], [0.2373, 0.2373, 0.2373])\n",
        "\n",
        "# Feature extract flag: False - Tune the whole model,\n",
        "#                       True - Update only the reshaped layer parameters.\n",
        "feature_extract = False\n",
        "\n",
        "# Use pretrained flag: None - Use random weights\n",
        "#                      String - Use pretrained weights given by String\n",
        "use_pretrained = True\n",
        "\n",
        "# Initialize the model for this run.\n",
        "efficientnet_tl, input_size = initialize_model(model_name, num_classes, feature_extract, use_pretrained=use_pretrained)"
      ],
      "metadata": {
        "id": "yZWPAs_YhsD7",
        "colab": {
          "base_uri": "https://localhost:8080/",
          "height": 123,
          "referenced_widgets": [
            "3fabb5e73b854769b9ae1fe3f326f41c",
            "3374d4d734cf4979b6db5093cf83dc66",
            "8a3b2d402cd8450a93ea10ff3cb818c0",
            "124e08583b8449c2bd21149a4c41bff6",
            "88d044ebeb0f4890bd08f54f1a0289a9",
            "307e2344062e4066b49f9654e43b2a84",
            "57ba80b4d3154eef9ffef8590e2d9228",
            "d4a86a1cbaac4b43ad457fa40ff0fe35",
            "7b6d95ab81694b9abf5ad956204463f8",
            "2a5de8ec8f6e4f95bcfd65ab991c5deb",
            "ba0ebd1eed8349acbe76f309ae6df3c1"
          ]
        },
        "outputId": "1fe271bb-cf6d-4ea0-9713-d87da20b7b34"
      },
      "execution_count": null,
      "outputs": [
        {
          "output_type": "stream",
          "name": "stderr",
          "text": [
            "/usr/local/lib/python3.8/dist-packages/torchvision/models/_utils.py:223: UserWarning: Arguments other than a weight enum or `None` for 'weights' are deprecated since 0.13 and will be removed in 0.15. The current behavior is equivalent to passing `weights=EfficientNet_B1_Weights.IMAGENET1K_V1`. You can also use `weights=EfficientNet_B1_Weights.DEFAULT` to get the most up-to-date weights.\n",
            "  warnings.warn(msg)\n",
            "Downloading: \"https://download.pytorch.org/models/efficientnet_b1_rwightman-533bc792.pth\" to /root/.cache/torch/hub/checkpoints/efficientnet_b1_rwightman-533bc792.pth\n"
          ]
        },
        {
          "output_type": "display_data",
          "data": {
            "text/plain": [
              "  0%|          | 0.00/30.1M [00:00<?, ?B/s]"
            ],
            "application/vnd.jupyter.widget-view+json": {
              "version_major": 2,
              "version_minor": 0,
              "model_id": "3fabb5e73b854769b9ae1fe3f326f41c"
            }
          },
          "metadata": {}
        }
      ]
    },
    {
      "cell_type": "code",
      "source": [
        "data_loaders = load_data(images_dir,\n",
        "                         batch_size = batch_size, \n",
        "                         input_size = (input_size, input_size), ############################\n",
        "                         norm_arr = norm_arr,\n",
        "                         num_workers=num_workers)"
      ],
      "metadata": {
        "id": "iirbuFsAlKfD"
      },
      "execution_count": null,
      "outputs": []
    },
    {
      "cell_type": "code",
      "source": [
        "efficientnet_tl.load_state_dict(torch.load('drive/MyDrive/efficient_net_b1_pneumonia_tl_100_32_0.01_0.001_model_weights.pth', map_location=device)) "
      ],
      "metadata": {
        "id": "2HoPYzgrFH4Q",
        "colab": {
          "base_uri": "https://localhost:8080/"
        },
        "outputId": "51e69446-1729-481e-a1d4-57baffd54eae"
      },
      "execution_count": null,
      "outputs": [
        {
          "output_type": "execute_result",
          "data": {
            "text/plain": [
              "<All keys matched successfully>"
            ]
          },
          "metadata": {},
          "execution_count": 62
        }
      ]
    },
    {
      "cell_type": "code",
      "source": [
        "efficientnetmodeltl = NewModelEfficientNet(efficientnet_tl)\n",
        "efficientnetmodeltl = efficientnetmodeltl.to(device)"
      ],
      "metadata": {
        "id": "Kzlaj7VLGKcI"
      },
      "execution_count": null,
      "outputs": []
    },
    {
      "cell_type": "code",
      "source": [],
      "metadata": {
        "id": "a3v-zs8dnGE_"
      },
      "execution_count": null,
      "outputs": []
    },
    {
      "cell_type": "code",
      "source": [
        "f = 125\n",
        "labels = []\n",
        "outputs = []\n",
        "\n",
        "with torch.no_grad():\n",
        "  for b, (image, label) in enumerate(data_loaders['test']):\n",
        "      if(b%25==0):\n",
        "        print(b,f)\n",
        "\n",
        "      # Apply the model\n",
        "      image, label = image.to(device), label.to(device)\n",
        "      _, dictionary = efficientnetmodeltl(image)\n",
        "      labels += label\n",
        "      dictionary['8'] = dictionary['8'].cpu()\n",
        "      outputs += dictionary['8']\n",
        "      f-=1\n",
        "      if(f==0):\n",
        "        break\n",
        "\n",
        "      del image, label, dictionary\n",
        "      torch.cuda.empty_cache()\n",
        "              "
      ],
      "metadata": {
        "id": "wlXQDU3kGVGY",
        "colab": {
          "base_uri": "https://localhost:8080/"
        },
        "outputId": "8413b6a9-8203-40a8-95fe-72e5cb05b1d7"
      },
      "execution_count": null,
      "outputs": [
        {
          "output_type": "stream",
          "name": "stdout",
          "text": [
            "0 125\n",
            "25 100\n",
            "50 75\n",
            "75 50\n",
            "100 25\n"
          ]
        }
      ]
    },
    {
      "cell_type": "code",
      "source": [
        "for i in range(877):\n",
        "  outputs[i] = outputs[i].numpy()"
      ],
      "metadata": {
        "id": "lZVvLKjvK88u"
      },
      "execution_count": null,
      "outputs": []
    },
    {
      "cell_type": "code",
      "source": [
        "layer8 = torch.tensor(outputs)"
      ],
      "metadata": {
        "id": "weVOO2zJLBQh",
        "colab": {
          "base_uri": "https://localhost:8080/"
        },
        "outputId": "213b1c15-0856-4bb7-faca-ac202e428b11"
      },
      "execution_count": null,
      "outputs": [
        {
          "output_type": "stream",
          "name": "stderr",
          "text": [
            "<ipython-input-66-e2fe3c25e560>:1: UserWarning: Creating a tensor from a list of numpy.ndarrays is extremely slow. Please consider converting the list to a single numpy.ndarray with numpy.array() before converting to a tensor. (Triggered internally at  ../torch/csrc/utils/tensor_new.cpp:201.)\n",
            "  layer8 = torch.tensor(outputs)\n"
          ]
        }
      ]
    },
    {
      "cell_type": "code",
      "source": [
        "layer8 = layer8.reshape(len(outputs), 1280*8*8)\n",
        "layer8 = layer8.detach().cpu().numpy()"
      ],
      "metadata": {
        "id": "ghgt037fLERO"
      },
      "execution_count": null,
      "outputs": []
    },
    {
      "cell_type": "code",
      "source": [
        "from sklearn.manifold import TSNE\n",
        "X_embedded = TSNE(n_components=2, learning_rate='auto', init='random', n_iter=1000).fit_transform(layer8)"
      ],
      "metadata": {
        "id": "SkcnNwEXLIay"
      },
      "execution_count": null,
      "outputs": []
    },
    {
      "cell_type": "code",
      "source": [
        "class1 = []\n",
        "class2 = []\n",
        "class3 = []\n",
        "\n",
        "for i in range(len(X_embedded)):\n",
        "  if(labels[i]==0):\n",
        "    class1.append(X_embedded[i])\n",
        "  elif(labels[i]==1):\n",
        "    class2.append(X_embedded[i])\n",
        "  elif(labels[i]==2):\n",
        "    class3.append(X_embedded[i])\n",
        "\n",
        "class1 = np.array(class1)\n",
        "class2 = np.array(class2)\n",
        "class3 = np.array(class3)"
      ],
      "metadata": {
        "id": "LKvESidmLNpN"
      },
      "execution_count": null,
      "outputs": []
    },
    {
      "cell_type": "code",
      "source": [
        "path = '/content/drive/MyDrive/Final_Report/eval_metrics_efficient_net_b1_pneumonia_tl_100_32_0.01_0.001_'\n",
        "pickle_in = open(path + '.pickle',\"rb\")\n",
        "val = pickle.load(pickle_in)"
      ],
      "metadata": {
        "id": "9h6iLkVAyike"
      },
      "execution_count": null,
      "outputs": []
    },
    {
      "cell_type": "code",
      "source": [
        "val['cm']"
      ],
      "metadata": {
        "colab": {
          "base_uri": "https://localhost:8080/"
        },
        "id": "mkDeOJFh24yV",
        "outputId": "75b344b6-0093-4177-96ed-9d377d2107b2"
      },
      "execution_count": null,
      "outputs": [
        {
          "output_type": "execute_result",
          "data": {
            "text/plain": [
              "array([[227,   0,   9],\n",
              "       [ 10, 346,  61],\n",
              "       [ 12,  87, 125]])"
            ]
          },
          "metadata": {},
          "execution_count": 71
        }
      ]
    },
    {
      "cell_type": "code",
      "source": [
        "fig, (ax1, ax2) = plt.subplots(1,2, figsize=(20,8))\n",
        "\n",
        "ax1.scatter(class1[:,0], class1[:,1], c=\"red\", label=\"NORMAL\")  \n",
        "ax1.scatter(class2[:,0], class2[:,1], c=\"green\", label=\"PNEUMONIA_BACTERIA\")\n",
        "ax1.scatter(class3[:,0], class3[:,1], c=\"blue\", label=\"PNEUMONIA_VIRAL\")\n",
        "ax1.legend()\n",
        "ax1.set_xticks([]) \n",
        "ax1.set_yticks([]) \n",
        "\n",
        "df_cm = val['cm']\n",
        "vmin = np.min(df_cm)\n",
        "vmax = np.max(df_cm)\n",
        "outputs_classes = ['Normal', 'Pneumonia Bacteria', 'Pneumonia Viral']\n",
        "\n",
        "sns.heatmap(df_cm, annot=True, fmt=\"g\",vmin=vmin, vmax=vmax,cmap='Greens', xticklabels=outputs_classes, yticklabels=outputs_classes,  ax=ax2)\n",
        "#sns.heatmap(df_cm, annot=True, fmt=\"g\", mask=off_diag_mask, cmap='gray_r',vmin=vmin, vmax=vmax,xticklabels=labels, yticklabels=labels)\n",
        "ax2.set_title('Confusion Matrix for Pneumonia Dataset using EfficientNet Transfer Learning')\n",
        "plt.subplots_adjust(wspace=0.04, hspace=0.02)"
      ],
      "metadata": {
        "colab": {
          "base_uri": "https://localhost:8080/",
          "height": 499
        },
        "id": "incTLceJLQcK",
        "outputId": "9d772a22-3c76-4ae4-d3a5-f768f9c50440"
      },
      "execution_count": null,
      "outputs": [
        {
          "output_type": "display_data",
          "data": {
            "text/plain": [
              "<Figure size 1440x576 with 3 Axes>"
            ],
            "image/png": "[encoded data removed]"
          },
          "metadata": {
            "needs_background": "light"
          }
        }
      ]
    },
    {
      "cell_type": "code",
      "source": [
        "fig.tight_layout()\n",
        "fig.savefig(\"drive/MyDrive/tsne_pneumonia_efficientnet_tl.eps\", format=\"eps\", dpi=1200, bbox_inches=\"tight\", transparent=True)"
      ],
      "metadata": {
        "id": "dHNkYBYaos1d",
        "colab": {
          "base_uri": "https://localhost:8080/"
        },
        "outputId": "a660b2c3-324f-40e5-df4b-4b7b0f90c4f1"
      },
      "execution_count": null,
      "outputs": [
        {
          "output_type": "stream",
          "name": "stderr",
          "text": [
            "WARNING:matplotlib.backends.backend_ps:The PostScript backend does not support transparency; partially transparent artists will be rendered opaque.\n",
            "WARNING:matplotlib.backends.backend_ps:The PostScript backend does not support transparency; partially transparent artists will be rendered opaque.\n"
          ]
        }
      ]
    },
    {
      "cell_type": "code",
      "source": [],
      "metadata": {
        "id": "HcKFtNz_pi-3"
      },
      "execution_count": null,
      "outputs": []
    }
  ]
}