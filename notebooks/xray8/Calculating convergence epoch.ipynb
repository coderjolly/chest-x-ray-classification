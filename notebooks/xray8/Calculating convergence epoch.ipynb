{
 "cells": [
  {
   "cell_type": "code",
   "execution_count": 1,
   "id": "f36312c2-594a-499c-949e-47169963a6a9",
   "metadata": {},
   "outputs": [],
   "source": [
    "import pickle"
   ]
  },
  {
   "cell_type": "code",
   "execution_count": 2,
   "id": "8b5745be-e90a-499a-a324-f9ee35749fe6",
   "metadata": {},
   "outputs": [],
   "source": [
    "with open(f'../../models/val_history_efficient_net_b1_covid_pneumonia_100_32_0.01_0.001_.pickle', 'rb') as handle:\n",
    "    val_history = pickle.load(handle)"
   ]
  },
  {
   "cell_type": "code",
   "execution_count": 5,
   "id": "65dbfb26-8215-4771-b97f-c0dcc14f8a91",
   "metadata": {},
   "outputs": [],
   "source": [
    "import numpy as np"
   ]
  },
  {
   "cell_type": "code",
   "execution_count": 7,
   "id": "9e81caba-7650-48e5-8082-06a0f4bfd82a",
   "metadata": {},
   "outputs": [
    {
     "data": {
      "text/plain": [
       "46"
      ]
     },
     "execution_count": 7,
     "metadata": {},
     "output_type": "execute_result"
    }
   ],
   "source": [
    "np.argmin(val_history['loss'])"
   ]
  },
  {
   "cell_type": "code",
   "execution_count": null,
   "id": "0df9ef3d-0954-4210-a92c-a85657e97fc9",
   "metadata": {},
   "outputs": [],
   "source": []
  },
  {
   "cell_type": "code",
   "execution_count": 9,
   "id": "299acddf-de03-4382-ac99-c6b8b8cf2810",
   "metadata": {},
   "outputs": [],
   "source": [
    "with open(f'../../models/val_history_efficient_net_b1_covid_pneumonia_tl_100_32_0.01_0.001_.pickle', 'rb') as handle:\n",
    "    val_history = pickle.load(handle)"
   ]
  },
  {
   "cell_type": "code",
   "execution_count": 10,
   "id": "acf8c10c-808f-4939-942f-3ae0954d1a27",
   "metadata": {},
   "outputs": [
    {
     "data": {
      "text/plain": [
       "43"
      ]
     },
     "execution_count": 10,
     "metadata": {},
     "output_type": "execute_result"
    }
   ],
   "source": [
    "np.argmin(val_history['loss'])"
   ]
  },
  {
   "cell_type": "code",
   "execution_count": null,
   "id": "346c4316-bdcd-4c86-a8af-ff625fa47fb5",
   "metadata": {},
   "outputs": [],
   "source": []
  },
  {
   "cell_type": "code",
   "execution_count": 11,
   "id": "e8cbd4e7-99f1-414e-868c-b01bdd0701be",
   "metadata": {},
   "outputs": [],
   "source": [
    "with open(f'../../models/val_history_mobile_net_v3_large_covid_pneumonia_100_32_0.01_0.001_.pickle', 'rb') as handle:\n",
    "    val_history = pickle.load(handle)"
   ]
  },
  {
   "cell_type": "code",
   "execution_count": 12,
   "id": "624e7e67-010e-4773-a2f7-a0498f3352b2",
   "metadata": {},
   "outputs": [
    {
     "data": {
      "text/plain": [
       "44"
      ]
     },
     "execution_count": 12,
     "metadata": {},
     "output_type": "execute_result"
    }
   ],
   "source": [
    "np.argmin(val_history['loss'])"
   ]
  },
  {
   "cell_type": "code",
   "execution_count": 13,
   "id": "7da3287b-9dbb-4101-a137-b2f5eed75cf7",
   "metadata": {},
   "outputs": [],
   "source": [
    "with open(f'../../models/val_history_resnet34_covid_pneumonia_100_32_0.01_0.001_.pickle', 'rb') as handle:\n",
    "    val_history = pickle.load(handle)"
   ]
  },
  {
   "cell_type": "code",
   "execution_count": 14,
   "id": "337c2cf7-94c0-41ce-aa1a-d558625e20ca",
   "metadata": {},
   "outputs": [
    {
     "data": {
      "text/plain": [
       "21"
      ]
     },
     "execution_count": 14,
     "metadata": {},
     "output_type": "execute_result"
    }
   ],
   "source": [
    "np.argmin(val_history['loss'])"
   ]
  },
  {
   "cell_type": "code",
   "execution_count": null,
   "id": "7c7184fd-abc7-486d-a8cd-d3354453f977",
   "metadata": {},
   "outputs": [],
   "source": []
  }
 ],
 "metadata": {
  "kernelspec": {
   "display_name": "Python 3 (ipykernel)",
   "language": "python",
   "name": "python3"
  },
  "language_info": {
   "codemirror_mode": {
    "name": "ipython",
    "version": 3
   },
   "file_extension": ".py",
   "mimetype": "text/x-python",
   "name": "python",
   "nbconvert_exporter": "python",
   "pygments_lexer": "ipython3",
   "version": "3.9.13"
  }
 },
 "nbformat": 4,
 "nbformat_minor": 5
}
