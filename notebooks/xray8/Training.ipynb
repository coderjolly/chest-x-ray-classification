{
 "cells": [
  {
   "cell_type": "code",
   "execution_count": null,
   "metadata": {
    "id": "0m4yHK_pkA1-"
   },
   "outputs": [],
   "source": [
    "# !pip install -q kaggle"
   ]
  },
  {
   "cell_type": "code",
   "execution_count": null,
   "metadata": {
    "colab": {
     "base_uri": "https://localhost:8080/",
     "height": 91
    },
    "id": "jFUXSni9kEzh",
    "outputId": "9259de40-2af5-4467-f265-6856171550d8"
   },
   "outputs": [
    {
     "data": {
      "text/html": [
       "\n",
       "     <input type=\"file\" id=\"files-876df993-62df-4a58-adef-b6c317cf3922\" name=\"files[]\" multiple disabled\n",
       "        style=\"border:none\" />\n",
       "     <output id=\"result-876df993-62df-4a58-adef-b6c317cf3922\">\n",
       "      Upload widget is only available when the cell has been executed in the\n",
       "      current browser session. Please rerun this cell to enable.\n",
       "      </output>\n",
       "      <script>// Copyright 2017 Google LLC\n",
       "//\n",
       "// Licensed under the Apache License, Version 2.0 (the \"License\");\n",
       "// you may not use this file except in compliance with the License.\n",
       "// You may obtain a copy of the License at\n",
       "//\n",
       "//      http://www.apache.org/licenses/LICENSE-2.0\n",
       "//\n",
       "// Unless required by applicable law or agreed to in writing, software\n",
       "// distributed under the License is distributed on an \"AS IS\" BASIS,\n",
       "// WITHOUT WARRANTIES OR CONDITIONS OF ANY KIND, either express or implied.\n",
       "// See the License for the specific language governing permissions and\n",
       "// limitations under the License.\n",
       "\n",
       "/**\n",
       " * @fileoverview Helpers for google.colab Python module.\n",
       " */\n",
       "(function(scope) {\n",
       "function span(text, styleAttributes = {}) {\n",
       "  const element = document.createElement('span');\n",
       "  element.textContent = text;\n",
       "  for (const key of Object.keys(styleAttributes)) {\n",
       "    element.style[key] = styleAttributes[key];\n",
       "  }\n",
       "  return element;\n",
       "}\n",
       "\n",
       "// Max number of bytes which will be uploaded at a time.\n",
       "const MAX_PAYLOAD_SIZE = 100 * 1024;\n",
       "\n",
       "function _uploadFiles(inputId, outputId) {\n",
       "  const steps = uploadFilesStep(inputId, outputId);\n",
       "  const outputElement = document.getElementById(outputId);\n",
       "  // Cache steps on the outputElement to make it available for the next call\n",
       "  // to uploadFilesContinue from Python.\n",
       "  outputElement.steps = steps;\n",
       "\n",
       "  return _uploadFilesContinue(outputId);\n",
       "}\n",
       "\n",
       "// This is roughly an async generator (not supported in the browser yet),\n",
       "// where there are multiple asynchronous steps and the Python side is going\n",
       "// to poll for completion of each step.\n",
       "// This uses a Promise to block the python side on completion of each step,\n",
       "// then passes the result of the previous step as the input to the next step.\n",
       "function _uploadFilesContinue(outputId) {\n",
       "  const outputElement = document.getElementById(outputId);\n",
       "  const steps = outputElement.steps;\n",
       "\n",
       "  const next = steps.next(outputElement.lastPromiseValue);\n",
       "  return Promise.resolve(next.value.promise).then((value) => {\n",
       "    // Cache the last promise value to make it available to the next\n",
       "    // step of the generator.\n",
       "    outputElement.lastPromiseValue = value;\n",
       "    return next.value.response;\n",
       "  });\n",
       "}\n",
       "\n",
       "/**\n",
       " * Generator function which is called between each async step of the upload\n",
       " * process.\n",
       " * @param {string} inputId Element ID of the input file picker element.\n",
       " * @param {string} outputId Element ID of the output display.\n",
       " * @return {!Iterable<!Object>} Iterable of next steps.\n",
       " */\n",
       "function* uploadFilesStep(inputId, outputId) {\n",
       "  const inputElement = document.getElementById(inputId);\n",
       "  inputElement.disabled = false;\n",
       "\n",
       "  const outputElement = document.getElementById(outputId);\n",
       "  outputElement.innerHTML = '';\n",
       "\n",
       "  const pickedPromise = new Promise((resolve) => {\n",
       "    inputElement.addEventListener('change', (e) => {\n",
       "      resolve(e.target.files);\n",
       "    });\n",
       "  });\n",
       "\n",
       "  const cancel = document.createElement('button');\n",
       "  inputElement.parentElement.appendChild(cancel);\n",
       "  cancel.textContent = 'Cancel upload';\n",
       "  const cancelPromise = new Promise((resolve) => {\n",
       "    cancel.onclick = () => {\n",
       "      resolve(null);\n",
       "    };\n",
       "  });\n",
       "\n",
       "  // Wait for the user to pick the files.\n",
       "  const files = yield {\n",
       "    promise: Promise.race([pickedPromise, cancelPromise]),\n",
       "    response: {\n",
       "      action: 'starting',\n",
       "    }\n",
       "  };\n",
       "\n",
       "  cancel.remove();\n",
       "\n",
       "  // Disable the input element since further picks are not allowed.\n",
       "  inputElement.disabled = true;\n",
       "\n",
       "  if (!files) {\n",
       "    return {\n",
       "      response: {\n",
       "        action: 'complete',\n",
       "      }\n",
       "    };\n",
       "  }\n",
       "\n",
       "  for (const file of files) {\n",
       "    const li = document.createElement('li');\n",
       "    li.append(span(file.name, {fontWeight: 'bold'}));\n",
       "    li.append(span(\n",
       "        `(${file.type || 'n/a'}) - ${file.size} bytes, ` +\n",
       "        `last modified: ${\n",
       "            file.lastModifiedDate ? file.lastModifiedDate.toLocaleDateString() :\n",
       "                                    'n/a'} - `));\n",
       "    const percent = span('0% done');\n",
       "    li.appendChild(percent);\n",
       "\n",
       "    outputElement.appendChild(li);\n",
       "\n",
       "    const fileDataPromise = new Promise((resolve) => {\n",
       "      const reader = new FileReader();\n",
       "      reader.onload = (e) => {\n",
       "        resolve(e.target.result);\n",
       "      };\n",
       "      reader.readAsArrayBuffer(file);\n",
       "    });\n",
       "    // Wait for the data to be ready.\n",
       "    let fileData = yield {\n",
       "      promise: fileDataPromise,\n",
       "      response: {\n",
       "        action: 'continue',\n",
       "      }\n",
       "    };\n",
       "\n",
       "    // Use a chunked sending to avoid message size limits. See b/62115660.\n",
       "    let position = 0;\n",
       "    do {\n",
       "      const length = Math.min(fileData.byteLength - position, MAX_PAYLOAD_SIZE);\n",
       "      const chunk = new Uint8Array(fileData, position, length);\n",
       "      position += length;\n",
       "\n",
       "      const base64 = btoa(String.fromCharCode.apply(null, chunk));\n",
       "      yield {\n",
       "        response: {\n",
       "          action: 'append',\n",
       "          file: file.name,\n",
       "          data: base64,\n",
       "        },\n",
       "      };\n",
       "\n",
       "      let percentDone = fileData.byteLength === 0 ?\n",
       "          100 :\n",
       "          Math.round((position / fileData.byteLength) * 100);\n",
       "      percent.textContent = `${percentDone}% done`;\n",
       "\n",
       "    } while (position < fileData.byteLength);\n",
       "  }\n",
       "\n",
       "  // All done.\n",
       "  yield {\n",
       "    response: {\n",
       "      action: 'complete',\n",
       "    }\n",
       "  };\n",
       "}\n",
       "\n",
       "scope.google = scope.google || {};\n",
       "scope.google.colab = scope.google.colab || {};\n",
       "scope.google.colab._files = {\n",
       "  _uploadFiles,\n",
       "  _uploadFilesContinue,\n",
       "};\n",
       "})(self);\n",
       "</script> "
      ],
      "text/plain": [
       "<IPython.core.display.HTML object>"
      ]
     },
     "metadata": {},
     "output_type": "display_data"
    },
    {
     "name": "stdout",
     "output_type": "stream",
     "text": [
      "Saving kaggle.json to kaggle.json\n"
     ]
    },
    {
     "data": {
      "text/plain": [
       "{'kaggle.json': b'{\"username\":\"rohanchopra\",\"key\":\"1e638ac489d4f79e45135d70278250f6\"}'}"
      ]
     },
     "execution_count": 2,
     "metadata": {},
     "output_type": "execute_result"
    }
   ],
   "source": [
    "#from google.colab import files\n",
    "#files.upload()"
   ]
  },
  {
   "cell_type": "code",
   "execution_count": null,
   "metadata": {
    "id": "5QwOzbd-kOxF"
   },
   "outputs": [],
   "source": [
    "#!rm -r ~/.kaggle\n",
    "#!mkdir ~/.kaggle\n",
    "#!cp /content/drive/MyDrive/Concordia/AAIProject/kaggle.json ~/.kaggle/\n",
    "#!chmod 600 ~/.kaggle/kaggle.json\n",
    "#!kaggle datasets list"
   ]
  },
  {
   "cell_type": "code",
   "execution_count": null,
   "metadata": {
    "colab": {
     "base_uri": "https://localhost:8080/"
    },
    "id": "tED3FK02k3sI",
    "outputId": "767347f7-b384-445c-b5e8-26f3eb25f1f0"
   },
   "outputs": [
    {
     "name": "stdout",
     "output_type": "stream",
     "text": [
      "mkdir: cannot create directory ‘/content/kaggle_data/’: File exists\n",
      "Downloading data.zip to /content/kaggle_data\n",
      "100% 42.0G/42.0G [05:18<00:00, 183MB/s]\n",
      "100% 42.0G/42.0G [05:19<00:00, 141MB/s]\n",
      "Traceback (most recent call last):\n",
      "  File \"/usr/lib/python3.7/zipfile.py\", line 1691, in _extract_member\n",
      "    shutil.copyfileobj(source, target)\n",
      "  File \"/usr/lib/python3.7/shutil.py\", line 82, in copyfileobj\n",
      "    fdst.write(buf)\n",
      "OSError: [Errno 28] No space left on device\n",
      "\n",
      "During handling of the above exception, another exception occurred:\n",
      "\n",
      "Traceback (most recent call last):\n",
      "  File \"/usr/local/bin/kaggle\", line 8, in <module>\n",
      "    sys.exit(main())\n",
      "  File \"/usr/local/lib/python3.7/dist-packages/kaggle/cli.py\", line 67, in main\n",
      "    out = args.func(**command_args)\n",
      "  File \"/usr/local/lib/python3.7/dist-packages/kaggle/api/kaggle_api_extended.py\", line 1287, in dataset_download_cli\n",
      "    quiet=quiet)\n",
      "  File \"/usr/local/lib/python3.7/dist-packages/kaggle/api/kaggle_api_extended.py\", line 1246, in dataset_download_files\n",
      "    z.extractall(effective_path)\n",
      "  File \"/usr/lib/python3.7/zipfile.py\", line 1636, in extractall\n",
      "    self._extract_member(zipinfo, path, pwd)\n",
      "  File \"/usr/lib/python3.7/zipfile.py\", line 1691, in _extract_member\n",
      "    shutil.copyfileobj(source, target)\n",
      "OSError: [Errno 28] No space left on device\n"
     ]
    }
   ],
   "source": [
    "#!mkdir /content/kaggle_data/\n",
    "#!kaggle datasets download nih-chest-xrays/data -p /content/kaggle_data/ --unzip"
   ]
  },
  {
   "cell_type": "code",
   "execution_count": null,
   "metadata": {
    "colab": {
     "base_uri": "https://localhost:8080/"
    },
    "id": "D4E_RiZ0k3EB",
    "outputId": "5d37592d-b0d0-478c-bf0b-0c27a0afdf98"
   },
   "outputs": [
    {
     "name": "stdout",
     "output_type": "stream",
     "text": [
      "Downloading chestxray8-dataframe.zip to /content/kaggle_data\n",
      "  0% 0.00/51.3M [00:00<?, ?B/s]\n",
      "Traceback (most recent call last):\n",
      "  File \"/usr/local/bin/kaggle\", line 8, in <module>\n",
      "    sys.exit(main())\n",
      "  File \"/usr/local/lib/python3.7/dist-packages/kaggle/cli.py\", line 67, in main\n",
      "    out = args.func(**command_args)\n",
      "  File \"/usr/local/lib/python3.7/dist-packages/kaggle/api/kaggle_api_extended.py\", line 1287, in dataset_download_cli\n",
      "    quiet=quiet)\n",
      "  File \"/usr/local/lib/python3.7/dist-packages/kaggle/api/kaggle_api_extended.py\", line 1236, in dataset_download_files\n",
      "    self.download_file(response, outfile, quiet)\n",
      "  File \"/usr/local/lib/python3.7/dist-packages/kaggle/api/kaggle_api_extended.py\", line 1599, in download_file\n",
      "    out.write(data)\n",
      "OSError: [Errno 28] No space left on device\n"
     ]
    }
   ],
   "source": [
    "#!kaggle datasets download redwankarimsony/chestxray8-dataframe -p /content/kaggle_data/ --unzip"
   ]
  },
  {
   "cell_type": "code",
   "execution_count": null,
   "metadata": {
    "colab": {
     "base_uri": "https://localhost:8080/"
    },
    "id": "CIhg5jSlk9ah",
    "outputId": "3c14fc4c-48b6-4049-f127-16ca1140bacc"
   },
   "outputs": [
    {
     "name": "stdout",
     "output_type": "stream",
     "text": [
      "Mounted at /content/drive\n"
     ]
    }
   ],
   "source": [
    "from google.colab import drive\n",
    "drive.mount('/content/drive')"
   ]
  },
  {
   "cell_type": "code",
   "execution_count": null,
   "metadata": {
    "colab": {
     "base_uri": "https://localhost:8080/"
    },
    "id": "u2PyEi2VkSmE",
    "outputId": "d96cc802-457d-4769-ee93-3fe022c57f4d"
   },
   "outputs": [
    {
     "name": "stdout",
     "output_type": "stream",
     "text": [
      "Sat Nov  5 17:19:29 2022       \n",
      "+-----------------------------------------------------------------------------+\n",
      "| NVIDIA-SMI 460.32.03    Driver Version: 460.32.03    CUDA Version: 11.2     |\n",
      "|-------------------------------+----------------------+----------------------+\n",
      "| GPU  Name        Persistence-M| Bus-Id        Disp.A | Volatile Uncorr. ECC |\n",
      "| Fan  Temp  Perf  Pwr:Usage/Cap|         Memory-Usage | GPU-Util  Compute M. |\n",
      "|                               |                      |               MIG M. |\n",
      "|===============================+======================+======================|\n",
      "|   0  Tesla T4            Off  | 00000000:00:04.0 Off |                    0 |\n",
      "| N/A   50C    P8    10W /  70W |      0MiB / 15109MiB |      0%      Default |\n",
      "|                               |                      |                  N/A |\n",
      "+-------------------------------+----------------------+----------------------+\n",
      "                                                                               \n",
      "+-----------------------------------------------------------------------------+\n",
      "| Processes:                                                                  |\n",
      "|  GPU   GI   CI        PID   Type   Process name                  GPU Memory |\n",
      "|        ID   ID                                                   Usage      |\n",
      "|=============================================================================|\n",
      "|  No running processes found                                                 |\n",
      "+-----------------------------------------------------------------------------+\n"
     ]
    }
   ],
   "source": [
    "!nvidia-smi"
   ]
  },
  {
   "cell_type": "code",
   "execution_count": 1,
   "metadata": {},
   "outputs": [],
   "source": [
    "import sys\n",
    "sys.path.append('../../src/')"
   ]
  },
  {
   "cell_type": "code",
   "execution_count": 10,
   "metadata": {},
   "outputs": [
    {
     "name": "stdout",
     "output_type": "stream",
     "text": [
      "The autoreload extension is already loaded. To reload it, use:\n",
      "  %reload_ext autoreload\n"
     ]
    }
   ],
   "source": [
    "%load_ext autoreload\n",
    "%autoreload 2\n",
    "\n",
    "from train import train_model\n",
    "from model import initialize_model\n",
    "from utils import set_requires_grad, save_model\n",
    "from data import load_data"
   ]
  },
  {
   "cell_type": "code",
   "execution_count": null,
   "metadata": {},
   "outputs": [],
   "source": []
  },
  {
   "cell_type": "code",
   "execution_count": 2,
   "metadata": {
    "id": "0w24yf-Tj47H"
   },
   "outputs": [],
   "source": [
    "import matplotlib.pyplot as plt # plotting\n",
    "import numpy as np # linear algebra\n",
    "import os # accessing directory structure\n",
    "import pandas as pd # data processing, CSV file I/O (e.g. pd.read_csv)\n",
    "from numpy.random import shuffle\n",
    "\n",
    "\n",
    "import torch\n",
    "import torchvision\n",
    "from torchvision.io import read_image\n",
    "import torchvision.transforms as T\n",
    "import torch.nn as nn\n",
    "import torch.optim as optim\n",
    "from torchvision import datasets, models, transforms\n",
    "import torch.autograd.profiler as tprofiler\n",
    "\n",
    "import torch.utils.data as td\n",
    "\n",
    "import copy\n",
    "import time\n",
    "import random\n",
    "\n",
    "from PIL import Image\n",
    "from pathlib import Path\n",
    "\n",
    "plt.rcParams[\"savefig.bbox\"] = 'tight'"
   ]
  },
  {
   "cell_type": "code",
   "execution_count": null,
   "metadata": {
    "id": "O7W8BTtF3BN1"
   },
   "outputs": [],
   "source": [
    "seed = 42\n",
    "\n",
    "random.seed(seed)\n",
    "\n",
    "# pytorch RNGs\n",
    "torch.manual_seed(seed)\n",
    "torch.backends.cudnn.deterministic = True\n",
    "if torch.cuda.is_available(): torch.cuda.manual_seed_all(seed)\n",
    "\n",
    "# numpy RNG\n",
    "np.random.seed(seed)"
   ]
  },
  {
   "cell_type": "code",
   "execution_count": null,
   "metadata": {
    "id": "kPi7YPraU3IU"
   },
   "outputs": [],
   "source": [
    "!unzip /content/drive/MyDrive/AAI/data/resized_processed.zip -d /content/data/"
   ]
  },
  {
   "cell_type": "code",
   "execution_count": null,
   "metadata": {
    "execution": {
     "iopub.execute_input": "2022-10-30T20:10:17.417026Z",
     "iopub.status.busy": "2022-10-30T20:10:17.416539Z",
     "iopub.status.idle": "2022-10-30T20:10:17.422142Z",
     "shell.execute_reply": "2022-10-30T20:10:17.421213Z",
     "shell.execute_reply.started": "2022-10-30T20:10:17.416964Z"
    },
    "id": "21_bts2Wj47M"
   },
   "outputs": [],
   "source": [
    "base_dir = \"/content/drive/MyDrive/AAI\"\n",
    "data_dir = '/content/drive/MyDrive/AAI/data'\n",
    "images_dir = \"/content/data/resized_processed\""
   ]
  },
  {
   "cell_type": "code",
   "execution_count": null,
   "metadata": {
    "execution": {
     "iopub.execute_input": "2022-10-30T20:10:17.423828Z",
     "iopub.status.busy": "2022-10-30T20:10:17.423294Z",
     "iopub.status.idle": "2022-10-30T20:10:17.899109Z",
     "shell.execute_reply": "2022-10-30T20:10:17.898120Z",
     "shell.execute_reply.started": "2022-10-30T20:10:17.423795Z"
    },
    "id": "Tw4oZtz0j47N"
   },
   "outputs": [],
   "source": [
    "train = pd.read_csv(os.path.join(data_dir,\"train.csv\"))\n",
    "val = pd.read_csv(os.path.join(data_dir,\"val.csv\"))\n",
    "test = pd.read_csv(os.path.join(data_dir,\"test.csv\"))"
   ]
  },
  {
   "cell_type": "code",
   "execution_count": null,
   "metadata": {
    "colab": {
     "base_uri": "https://localhost:8080/",
     "height": 112
    },
    "execution": {
     "iopub.execute_input": "2022-10-30T20:10:17.900856Z",
     "iopub.status.busy": "2022-10-30T20:10:17.900371Z",
     "iopub.status.idle": "2022-10-30T20:10:17.916897Z",
     "shell.execute_reply": "2022-10-30T20:10:17.915733Z",
     "shell.execute_reply.started": "2022-10-30T20:10:17.900825Z"
    },
    "id": "GrhqYNEPj47N",
    "outputId": "ae41146c-5e99-4e5f-dcae-8166dd2c2bbc"
   },
   "outputs": [
    {
     "data": {
      "text/html": [
       "\n",
       "  <div id=\"df-7ded60bc-a8df-47cf-a8e4-204a350f024b\">\n",
       "    <div class=\"colab-df-container\">\n",
       "      <div>\n",
       "<style scoped>\n",
       "    .dataframe tbody tr th:only-of-type {\n",
       "        vertical-align: middle;\n",
       "    }\n",
       "\n",
       "    .dataframe tbody tr th {\n",
       "        vertical-align: top;\n",
       "    }\n",
       "\n",
       "    .dataframe thead th {\n",
       "        text-align: right;\n",
       "    }\n",
       "</style>\n",
       "<table border=\"1\" class=\"dataframe\">\n",
       "  <thead>\n",
       "    <tr style=\"text-align: right;\">\n",
       "      <th></th>\n",
       "      <th>Patient ID</th>\n",
       "      <th>label</th>\n",
       "      <th>FilePath</th>\n",
       "    </tr>\n",
       "  </thead>\n",
       "  <tbody>\n",
       "    <tr>\n",
       "      <th>0</th>\n",
       "      <td>2</td>\n",
       "      <td>No Finding</td>\n",
       "      <td>images_001/images/00000002_000.png</td>\n",
       "    </tr>\n",
       "    <tr>\n",
       "      <th>1</th>\n",
       "      <td>5</td>\n",
       "      <td>No Finding</td>\n",
       "      <td>images_001/images/00000005_003.png</td>\n",
       "    </tr>\n",
       "  </tbody>\n",
       "</table>\n",
       "</div>\n",
       "      <button class=\"colab-df-convert\" onclick=\"convertToInteractive('df-7ded60bc-a8df-47cf-a8e4-204a350f024b')\"\n",
       "              title=\"Convert this dataframe to an interactive table.\"\n",
       "              style=\"display:none;\">\n",
       "        \n",
       "  <svg xmlns=\"http://www.w3.org/2000/svg\" height=\"24px\"viewBox=\"0 0 24 24\"\n",
       "       width=\"24px\">\n",
       "    <path d=\"M0 0h24v24H0V0z\" fill=\"none\"/>\n",
       "    <path d=\"M18.56 5.44l.94 2.06.94-2.06 2.06-.94-2.06-.94-.94-2.06-.94 2.06-2.06.94zm-11 1L8.5 8.5l.94-2.06 2.06-.94-2.06-.94L8.5 2.5l-.94 2.06-2.06.94zm10 10l.94 2.06.94-2.06 2.06-.94-2.06-.94-.94-2.06-.94 2.06-2.06.94z\"/><path d=\"M17.41 7.96l-1.37-1.37c-.4-.4-.92-.59-1.43-.59-.52 0-1.04.2-1.43.59L10.3 9.45l-7.72 7.72c-.78.78-.78 2.05 0 2.83L4 21.41c.39.39.9.59 1.41.59.51 0 1.02-.2 1.41-.59l7.78-7.78 2.81-2.81c.8-.78.8-2.07 0-2.86zM5.41 20L4 18.59l7.72-7.72 1.47 1.35L5.41 20z\"/>\n",
       "  </svg>\n",
       "      </button>\n",
       "      \n",
       "  <style>\n",
       "    .colab-df-container {\n",
       "      display:flex;\n",
       "      flex-wrap:wrap;\n",
       "      gap: 12px;\n",
       "    }\n",
       "\n",
       "    .colab-df-convert {\n",
       "      background-color: #E8F0FE;\n",
       "      border: none;\n",
       "      border-radius: 50%;\n",
       "      cursor: pointer;\n",
       "      display: none;\n",
       "      fill: #1967D2;\n",
       "      height: 32px;\n",
       "      padding: 0 0 0 0;\n",
       "      width: 32px;\n",
       "    }\n",
       "\n",
       "    .colab-df-convert:hover {\n",
       "      background-color: #E2EBFA;\n",
       "      box-shadow: 0px 1px 2px rgba(60, 64, 67, 0.3), 0px 1px 3px 1px rgba(60, 64, 67, 0.15);\n",
       "      fill: #174EA6;\n",
       "    }\n",
       "\n",
       "    [theme=dark] .colab-df-convert {\n",
       "      background-color: #3B4455;\n",
       "      fill: #D2E3FC;\n",
       "    }\n",
       "\n",
       "    [theme=dark] .colab-df-convert:hover {\n",
       "      background-color: #434B5C;\n",
       "      box-shadow: 0px 1px 3px 1px rgba(0, 0, 0, 0.15);\n",
       "      filter: drop-shadow(0px 1px 2px rgba(0, 0, 0, 0.3));\n",
       "      fill: #FFFFFF;\n",
       "    }\n",
       "  </style>\n",
       "\n",
       "      <script>\n",
       "        const buttonEl =\n",
       "          document.querySelector('#df-7ded60bc-a8df-47cf-a8e4-204a350f024b button.colab-df-convert');\n",
       "        buttonEl.style.display =\n",
       "          google.colab.kernel.accessAllowed ? 'block' : 'none';\n",
       "\n",
       "        async function convertToInteractive(key) {\n",
       "          const element = document.querySelector('#df-7ded60bc-a8df-47cf-a8e4-204a350f024b');\n",
       "          const dataTable =\n",
       "            await google.colab.kernel.invokeFunction('convertToInteractive',\n",
       "                                                     [key], {});\n",
       "          if (!dataTable) return;\n",
       "\n",
       "          const docLinkHtml = 'Like what you see? Visit the ' +\n",
       "            '<a target=\"_blank\" href=https://colab.research.google.com/notebooks/data_table.ipynb>data table notebook</a>'\n",
       "            + ' to learn more about interactive tables.';\n",
       "          element.innerHTML = '';\n",
       "          dataTable['output_type'] = 'display_data';\n",
       "          await google.colab.output.renderOutput(dataTable, element);\n",
       "          const docLink = document.createElement('div');\n",
       "          docLink.innerHTML = docLinkHtml;\n",
       "          element.appendChild(docLink);\n",
       "        }\n",
       "      </script>\n",
       "    </div>\n",
       "  </div>\n",
       "  "
      ],
      "text/plain": [
       "   Patient ID       label                            FilePath\n",
       "0           2  No Finding  images_001/images/00000002_000.png\n",
       "1           5  No Finding  images_001/images/00000005_003.png"
      ]
     },
     "execution_count": 11,
     "metadata": {},
     "output_type": "execute_result"
    }
   ],
   "source": [
    "train.head(2)"
   ]
  },
  {
   "cell_type": "code",
   "execution_count": null,
   "metadata": {
    "id": "70u4lmmMM2h-"
   },
   "outputs": [],
   "source": []
  },
  {
   "cell_type": "code",
   "execution_count": null,
   "metadata": {
    "execution": {
     "iopub.execute_input": "2022-10-30T20:34:09.429993Z",
     "iopub.status.busy": "2022-10-30T20:34:09.429526Z",
     "iopub.status.idle": "2022-10-30T20:34:09.437440Z",
     "shell.execute_reply": "2022-10-30T20:34:09.436140Z",
     "shell.execute_reply.started": "2022-10-30T20:34:09.429953Z"
    },
    "id": "aWOUtLCIj47t"
   },
   "outputs": [],
   "source": []
  },
  {
   "cell_type": "code",
   "execution_count": null,
   "metadata": {
    "id": "nr7fQfkuj47u"
   },
   "outputs": [],
   "source": [
    "# Get best num_workers\n",
    "# for i in range(97):\n",
    "#   start = time.time()\n",
    "#   data_loader_train, data_loader_val, data_loader_test = load_data(images_dir,\n",
    "#                                                                   batch_size = 96, \n",
    "#                                                                   input_size = 299, \n",
    "#                                                                   norm_arr = ([0.485, 0.456, 0.406], [0.229, 0.224, 0.225]),\n",
    "#                                                                   num_workers = i)\n",
    "\n",
    "#   iter(data_loader_train).next()[0].shape\n",
    "#   print(f\"{i}: {time.time()-start}\")"
   ]
  },
  {
   "cell_type": "code",
   "execution_count": null,
   "metadata": {
    "id": "96wB0P9Gj47u"
   },
   "outputs": [],
   "source": []
  },
  {
   "cell_type": "code",
   "execution_count": null,
   "metadata": {
    "colab": {
     "base_uri": "https://localhost:8080/"
    },
    "id": "k-vpcOXE1pmg",
    "outputId": "25752964-a425-490c-d154-0cc8baab3b61"
   },
   "outputs": [
    {
     "name": "stderr",
     "output_type": "stream",
     "text": [
      "/usr/local/lib/python3.7/dist-packages/torchvision/models/_utils.py:209: UserWarning: The parameter 'pretrained' is deprecated since 0.13 and will be removed in 0.15, please use 'weights' instead.\n",
      "  f\"The parameter '{pretrained_param}' is deprecated since 0.13 and will be removed in 0.15, \"\n",
      "/usr/local/lib/python3.7/dist-packages/torchvision/models/_utils.py:223: UserWarning: Arguments other than a weight enum or `None` for 'weights' are deprecated since 0.13 and will be removed in 0.15. The current behavior is equivalent to passing `weights=None`.\n",
      "  warnings.warn(msg)\n"
     ]
    }
   ],
   "source": [
    "# Models options: resnet50, inceptionv3 vgg16, mobile_net_v3_large, efficient_net_b1, efficient_net_b0.\n",
    "model_name = \"efficient_net_b0\"\n",
    "\n",
    "# Number of classes.\n",
    "num_classes = 7\n",
    "\n",
    "# Batch Size.\n",
    "batch_size = 96\n",
    "\n",
    "# Epochs to train for.\n",
    "num_epochs = 50\n",
    "\n",
    "# Number of workers for data loader.\n",
    "num_workers = 2\n",
    "\n",
    "# Imagenet norm array passed as default value.\n",
    "norm_arr=([0.485, 0.456, 0.406], [0.229, 0.224, 0.225])\n",
    "\n",
    "# Feature extract flag: False - Tune the whole model,\n",
    "#                       True - Update only the reshaped layer parameters.\n",
    "feature_extract = False\n",
    "\n",
    "# Use pretrained flag: False - Use random weights\n",
    "#                      True - Use pretrained weights \n",
    "use_pretrained = False\n",
    "\n",
    "# Initialize the model for this run.\n",
    "model_pyt, input_size = initialize_model(model_name, num_classes, feature_extract, use_pretrained=use_pretrained)\n",
    "\n",
    "# lr start and end points for training.\n",
    "lr_start = 0.01\n",
    "lr_end = 0.001\n",
    "\n",
    "# How many epochs to restart.\n",
    "iter_restart = 10\n",
    "\n",
    "# Multiplication factor after restart.\n",
    "mul_restart = 1\n",
    "\n",
    "# Print the model we just instantiated\n",
    "#print(model_ft)"
   ]
  },
  {
   "cell_type": "code",
   "execution_count": null,
   "metadata": {
    "id": "e9FOwaso3LAc"
   },
   "outputs": [],
   "source": [
    "data_loaders = load_data(images_dir,\n",
    "                         batch_size = batch_size, \n",
    "                         input_size = input_size, \n",
    "                         norm_arr = norm_arr,\n",
    "                         num_workers = num_workers)"
   ]
  },
  {
   "cell_type": "code",
   "execution_count": null,
   "metadata": {
    "colab": {
     "base_uri": "https://localhost:8080/",
     "height": 392
    },
    "id": "vacZgHSCj47u",
    "outputId": "35a65cef-1d6d-4657-ff01-be15854ca24b"
   },
   "outputs": [
    {
     "name": "stderr",
     "output_type": "stream",
     "text": [
      "WARNING:matplotlib.image:Clipping input data to the valid range for imshow with RGB data ([0..1] for floats or [0..255] for integers).\n",
      "WARNING:matplotlib.image:Clipping input data to the valid range for imshow with RGB data ([0..1] for floats or [0..255] for integers).\n",
      "WARNING:matplotlib.image:Clipping input data to the valid range for imshow with RGB data ([0..1] for floats or [0..255] for integers).\n",
      "WARNING:matplotlib.image:Clipping input data to the valid range for imshow with RGB data ([0..1] for floats or [0..255] for integers).\n"
     ]
    },
    {
     "data": {
      "image/png": "[encoded data removed]",
      "text/plain": [
       "<Figure size 360x360 with 4 Axes>"
      ]
     },
     "metadata": {
      "needs_background": "light"
     },
     "output_type": "display_data"
    }
   ],
   "source": [
    "plot_data_loader(data_loader_train, (2,2))"
   ]
  },
  {
   "cell_type": "code",
   "execution_count": null,
   "metadata": {
    "id": "zRIOYWbV1cnS"
   },
   "outputs": [],
   "source": [
    "plot_data_loader(data_loader_val, (2,2))"
   ]
  },
  {
   "cell_type": "code",
   "execution_count": null,
   "metadata": {
    "id": "znBg5tkd1dXF"
   },
   "outputs": [],
   "source": [
    "plot_data_loader(data_loader_test, (2,2))"
   ]
  },
  {
   "cell_type": "code",
   "execution_count": null,
   "metadata": {
    "id": "0rj7Qeg41wLm"
   },
   "outputs": [],
   "source": [
    "# Check if GPU is available.\n",
    "device = torch.device(\"cuda:0\" if torch.cuda.is_available() else \"cpu\")\n",
    "print(device)\n",
    "\n",
    "# Send model to GPU\n",
    "model_pyt = model_pyt.to(device)\n",
    "\n",
    "# Find parameters to be updated in this run.\n",
    "# parameters with requires_grad = True.\n",
    "params_to_update = model_pyt.parameters()\n",
    "print(\"Params to learn:\")\n",
    "if feature_extract:\n",
    "    params_to_update = []\n",
    "    for name,param in model_pyt.named_parameters():\n",
    "        if param.requires_grad == True:\n",
    "            params_to_update.append(param)\n",
    "            print(\"\\t\",name)\n",
    "else:\n",
    "    for name,param in model_pyt.named_parameters():\n",
    "        if param.requires_grad == True:\n",
    "            print(\"\\t\",name)"
   ]
  },
  {
   "cell_type": "code",
   "execution_count": null,
   "metadata": {
    "id": "A4B1-pfYm0Ea"
   },
   "outputs": [],
   "source": [
    "# 17 min 1 epoch - 128 batch size - inception\n",
    "# Efficientnet b0 - batch 96 - epoch 50 - num_workers 2 - flip, auto cont, sharp - "
   ]
  },
  {
   "cell_type": "code",
   "execution_count": null,
   "metadata": {
    "colab": {
     "base_uri": "https://localhost:8080/"
    },
    "id": "8wBR8vcG2jcd",
    "outputId": "7d01aa07-d235-4cb6-dfaf-53ce0c5a577d",
    "scrolled": true
   },
   "outputs": [
    {
     "name": "stdout",
     "output_type": "stream",
     "text": [
      "Epoch 1/50\n",
      "----------\n",
      "Epoch [1/50], Step [100/407], Loss: 1.5854, Accuracy: 41.00%\n",
      "Epoch [1/50], Step [200/407], Loss: 1.4839, Accuracy: 43.00%\n",
      "Epoch [1/50], Step [300/407], Loss: 1.4890, Accuracy: 45.00%\n",
      "Epoch [1/50], Step [400/407], Loss: 1.6317, Accuracy: 39.00%\n",
      "train Loss: 1.5009 Acc: 0.4746\n",
      "val Loss: 1.5204 Acc: 0.4737\n",
      "\n",
      "Epoch 2/50\n",
      "----------\n",
      "Epoch [2/50], Step [100/407], Loss: 1.3535, Accuracy: 52.00%\n",
      "Epoch [2/50], Step [200/407], Loss: 1.3981, Accuracy: 52.00%\n",
      "Epoch [2/50], Step [300/407], Loss: 1.4253, Accuracy: 47.00%\n",
      "Epoch [2/50], Step [400/407], Loss: 1.3685, Accuracy: 48.00%\n",
      "train Loss: 1.4348 Acc: 0.4979\n",
      "val Loss: 1.5071 Acc: 0.4739\n",
      "\n",
      "Epoch 3/50\n",
      "----------\n",
      "Epoch [3/50], Step [100/407], Loss: 1.4114, Accuracy: 45.00%\n",
      "Epoch [3/50], Step [200/407], Loss: 1.4723, Accuracy: 43.00%\n",
      "Epoch [3/50], Step [300/407], Loss: 1.3951, Accuracy: 48.00%\n",
      "Epoch [3/50], Step [400/407], Loss: 1.4112, Accuracy: 44.00%\n",
      "train Loss: 1.4038 Acc: 0.5094\n",
      "val Loss: 1.4415 Acc: 0.4974\n",
      "\n",
      "Epoch 4/50\n",
      "----------\n",
      "Epoch [4/50], Step [100/407], Loss: 1.5309, Accuracy: 44.00%\n",
      "Epoch [4/50], Step [200/407], Loss: 1.4339, Accuracy: 50.00%\n",
      "Epoch [4/50], Step [300/407], Loss: 1.4731, Accuracy: 43.00%\n",
      "Epoch [4/50], Step [400/407], Loss: 1.3501, Accuracy: 49.00%\n",
      "train Loss: 1.3717 Acc: 0.5189\n",
      "val Loss: 1.4758 Acc: 0.4858\n",
      "\n",
      "Epoch 5/50\n",
      "----------\n",
      "Epoch [5/50], Step [100/407], Loss: 1.4697, Accuracy: 47.00%\n",
      "Epoch [5/50], Step [200/407], Loss: 1.4738, Accuracy: 45.00%\n",
      "Epoch [5/50], Step [300/407], Loss: 1.3360, Accuracy: 51.00%\n",
      "Epoch [5/50], Step [400/407], Loss: 1.4296, Accuracy: 46.00%\n",
      "train Loss: 1.3480 Acc: 0.5265\n",
      "val Loss: 1.5009 Acc: 0.4872\n",
      "\n",
      "Epoch 6/50\n",
      "----------\n",
      "Epoch [6/50], Step [100/407], Loss: 1.1446, Accuracy: 57.00%\n",
      "Epoch [6/50], Step [200/407], Loss: 1.4199, Accuracy: 43.00%\n",
      "Epoch [6/50], Step [300/407], Loss: 1.6497, Accuracy: 41.00%\n",
      "Epoch [6/50], Step [400/407], Loss: 1.3327, Accuracy: 53.00%\n",
      "train Loss: 1.3311 Acc: 0.5305\n",
      "val Loss: 1.3988 Acc: 0.5012\n",
      "\n",
      "Epoch 7/50\n",
      "----------\n",
      "Epoch [7/50], Step [100/407], Loss: 1.3063, Accuracy: 49.00%\n",
      "Epoch [7/50], Step [200/407], Loss: 1.2580, Accuracy: 58.00%\n",
      "Epoch [7/50], Step [300/407], Loss: 1.2727, Accuracy: 51.00%\n",
      "Epoch [7/50], Step [400/407], Loss: 1.3284, Accuracy: 45.00%\n",
      "train Loss: 1.3115 Acc: 0.5388\n",
      "val Loss: 1.3530 Acc: 0.5151\n",
      "\n",
      "Epoch 8/50\n",
      "----------\n",
      "Epoch [8/50], Step [100/407], Loss: 1.2535, Accuracy: 52.00%\n",
      "Epoch [8/50], Step [200/407], Loss: 1.1313, Accuracy: 52.00%\n",
      "Epoch [8/50], Step [300/407], Loss: 1.2642, Accuracy: 52.00%\n",
      "Epoch [8/50], Step [400/407], Loss: 1.3650, Accuracy: 54.00%\n",
      "train Loss: 1.2957 Acc: 0.5431\n",
      "val Loss: 1.3696 Acc: 0.5121\n",
      "\n",
      "Epoch 9/50\n",
      "----------\n",
      "Epoch [9/50], Step [100/407], Loss: 1.0897, Accuracy: 57.00%\n",
      "Epoch [9/50], Step [200/407], Loss: 1.2474, Accuracy: 61.00%\n",
      "Epoch [9/50], Step [300/407], Loss: 1.1982, Accuracy: 51.00%\n",
      "Epoch [9/50], Step [400/407], Loss: 1.1323, Accuracy: 56.00%\n",
      "train Loss: 1.2807 Acc: 0.5468\n",
      "val Loss: 1.3586 Acc: 0.5166\n",
      "\n",
      "Epoch 10/50\n",
      "----------\n",
      "Epoch [10/50], Step [100/407], Loss: 1.2034, Accuracy: 59.00%\n",
      "Epoch [10/50], Step [200/407], Loss: 1.2866, Accuracy: 52.00%\n",
      "Epoch [10/50], Step [300/407], Loss: 1.1551, Accuracy: 63.00%\n",
      "Epoch [10/50], Step [400/407], Loss: 1.2451, Accuracy: 48.00%\n",
      "train Loss: 1.2625 Acc: 0.5529\n",
      "val Loss: 1.3574 Acc: 0.5104\n",
      "\n",
      "Epoch 11/50\n",
      "----------\n",
      "Epoch [11/50], Step [100/407], Loss: 1.2216, Accuracy: 56.00%\n",
      "Epoch [11/50], Step [200/407], Loss: 1.1731, Accuracy: 62.00%\n",
      "Epoch [11/50], Step [300/407], Loss: 1.2104, Accuracy: 58.00%\n",
      "Epoch [11/50], Step [400/407], Loss: 1.3175, Accuracy: 50.00%\n",
      "train Loss: 1.2462 Acc: 0.5594\n",
      "val Loss: 1.3334 Acc: 0.5254\n",
      "\n",
      "Epoch 12/50\n",
      "----------\n",
      "Epoch [12/50], Step [100/407], Loss: 1.0481, Accuracy: 65.00%\n",
      "Epoch [12/50], Step [200/407], Loss: 1.3317, Accuracy: 51.00%\n",
      "Epoch [12/50], Step [300/407], Loss: 1.1713, Accuracy: 55.00%\n",
      "Epoch [12/50], Step [400/407], Loss: 1.2539, Accuracy: 53.00%\n",
      "train Loss: 1.2297 Acc: 0.5640\n",
      "val Loss: 1.3801 Acc: 0.5057\n",
      "\n",
      "Epoch 13/50\n",
      "----------\n",
      "Epoch [13/50], Step [100/407], Loss: 1.0849, Accuracy: 54.00%\n",
      "Epoch [13/50], Step [200/407], Loss: 1.2259, Accuracy: 51.00%\n",
      "Epoch [13/50], Step [300/407], Loss: 1.0163, Accuracy: 64.00%\n",
      "Epoch [13/50], Step [400/407], Loss: 1.2149, Accuracy: 56.00%\n",
      "train Loss: 1.2110 Acc: 0.5705\n",
      "val Loss: 1.3322 Acc: 0.5222\n",
      "\n",
      "Epoch 14/50\n",
      "----------\n",
      "Epoch [14/50], Step [100/407], Loss: 1.1396, Accuracy: 57.00%\n",
      "Epoch [14/50], Step [200/407], Loss: 1.1572, Accuracy: 56.00%\n",
      "Epoch [14/50], Step [300/407], Loss: 1.2654, Accuracy: 55.00%\n",
      "Epoch [14/50], Step [400/407], Loss: 1.2842, Accuracy: 52.00%\n",
      "train Loss: 1.1977 Acc: 0.5730\n",
      "val Loss: 1.3641 Acc: 0.5211\n",
      "\n",
      "Epoch 15/50\n",
      "----------\n",
      "Epoch [15/50], Step [100/407], Loss: 1.2452, Accuracy: 49.00%\n",
      "Epoch [15/50], Step [200/407], Loss: 1.0783, Accuracy: 59.00%\n",
      "Epoch [15/50], Step [300/407], Loss: 1.2286, Accuracy: 51.00%\n",
      "Epoch [15/50], Step [400/407], Loss: 1.2281, Accuracy: 52.00%\n",
      "train Loss: 1.1739 Acc: 0.5837\n",
      "val Loss: 1.3965 Acc: 0.5215\n",
      "\n",
      "Epoch 16/50\n",
      "----------\n",
      "Epoch [16/50], Step [100/407], Loss: 1.0194, Accuracy: 60.00%\n",
      "Epoch [16/50], Step [200/407], Loss: 1.1511, Accuracy: 55.00%\n",
      "Epoch [16/50], Step [300/407], Loss: 1.2078, Accuracy: 54.00%\n",
      "Epoch [16/50], Step [400/407], Loss: 1.2049, Accuracy: 52.00%\n",
      "train Loss: 1.1581 Acc: 0.5857\n",
      "val Loss: 1.3611 Acc: 0.5239\n",
      "\n",
      "Epoch 17/50\n",
      "----------\n",
      "Epoch [17/50], Step [100/407], Loss: 1.0910, Accuracy: 57.00%\n",
      "Epoch [17/50], Step [200/407], Loss: 1.0499, Accuracy: 53.00%\n",
      "Epoch [17/50], Step [300/407], Loss: 0.9296, Accuracy: 69.00%\n",
      "Epoch [17/50], Step [400/407], Loss: 1.1540, Accuracy: 57.00%\n",
      "train Loss: 1.1371 Acc: 0.5908\n",
      "val Loss: 1.3609 Acc: 0.5262\n",
      "\n",
      "Epoch 18/50\n",
      "----------\n",
      "Epoch [18/50], Step [100/407], Loss: 1.0422, Accuracy: 63.00%\n",
      "Epoch [18/50], Step [200/407], Loss: 1.2076, Accuracy: 58.00%\n",
      "Epoch [18/50], Step [300/407], Loss: 1.2119, Accuracy: 52.00%\n",
      "Epoch [18/50], Step [400/407], Loss: 1.1500, Accuracy: 54.00%\n",
      "train Loss: 1.1175 Acc: 0.5988\n",
      "val Loss: 1.4818 Acc: 0.5083\n",
      "\n",
      "Epoch 19/50\n",
      "----------\n",
      "Epoch [19/50], Step [100/407], Loss: 1.0813, Accuracy: 62.00%\n",
      "Epoch [19/50], Step [200/407], Loss: 0.8583, Accuracy: 68.00%\n",
      "Epoch [19/50], Step [300/407], Loss: 1.1023, Accuracy: 64.00%\n",
      "Epoch [19/50], Step [400/407], Loss: 1.0442, Accuracy: 58.00%\n",
      "train Loss: 1.0960 Acc: 0.6040\n",
      "val Loss: 1.3926 Acc: 0.5198\n",
      "\n",
      "Epoch 20/50\n",
      "----------\n",
      "Epoch [20/50], Step [100/407], Loss: 0.9342, Accuracy: 64.00%\n",
      "Epoch [20/50], Step [200/407], Loss: 0.8957, Accuracy: 67.00%\n",
      "Epoch [20/50], Step [300/407], Loss: 0.8906, Accuracy: 69.00%\n",
      "Epoch [20/50], Step [400/407], Loss: 1.1495, Accuracy: 56.00%\n",
      "train Loss: 1.0658 Acc: 0.6147\n",
      "val Loss: 1.4401 Acc: 0.5058\n",
      "\n",
      "Epoch 21/50\n",
      "----------\n",
      "Epoch [21/50], Step [100/407], Loss: 1.0358, Accuracy: 60.00%\n",
      "Epoch [21/50], Step [200/407], Loss: 0.9746, Accuracy: 55.00%\n",
      "Epoch [21/50], Step [300/407], Loss: 1.2087, Accuracy: 52.00%\n",
      "Epoch [21/50], Step [400/407], Loss: 0.8943, Accuracy: 62.00%\n",
      "train Loss: 1.0415 Acc: 0.6226\n",
      "val Loss: 1.4416 Acc: 0.5108\n",
      "\n",
      "Epoch 22/50\n",
      "----------\n",
      "Epoch [22/50], Step [100/407], Loss: 0.9714, Accuracy: 63.00%\n",
      "Epoch [22/50], Step [200/407], Loss: 1.0732, Accuracy: 58.00%\n",
      "Epoch [22/50], Step [300/407], Loss: 0.9721, Accuracy: 57.00%\n",
      "Epoch [22/50], Step [400/407], Loss: 1.1677, Accuracy: 57.00%\n",
      "train Loss: 1.0127 Acc: 0.6359\n",
      "val Loss: 1.5175 Acc: 0.4825\n",
      "\n",
      "Epoch 23/50\n",
      "----------\n",
      "Epoch [23/50], Step [100/407], Loss: 0.9291, Accuracy: 65.00%\n",
      "Epoch [23/50], Step [200/407], Loss: 0.9794, Accuracy: 63.00%\n",
      "Epoch [23/50], Step [300/407], Loss: 1.0730, Accuracy: 57.00%\n",
      "Epoch [23/50], Step [400/407], Loss: 0.9345, Accuracy: 65.00%\n",
      "train Loss: 0.9792 Acc: 0.6444\n",
      "val Loss: 1.5276 Acc: 0.5150\n",
      "\n",
      "Epoch 24/50\n",
      "----------\n",
      "Epoch [24/50], Step [100/407], Loss: 0.8648, Accuracy: 62.00%\n",
      "Epoch [24/50], Step [200/407], Loss: 0.9818, Accuracy: 62.00%\n",
      "Epoch [24/50], Step [300/407], Loss: 0.9121, Accuracy: 59.00%\n",
      "Epoch [24/50], Step [400/407], Loss: 1.0012, Accuracy: 63.00%\n",
      "train Loss: 0.9547 Acc: 0.6533\n",
      "val Loss: 1.5178 Acc: 0.4990\n",
      "\n",
      "Epoch 25/50\n",
      "----------\n",
      "Epoch [25/50], Step [100/407], Loss: 1.0168, Accuracy: 58.00%\n",
      "Epoch [25/50], Step [200/407], Loss: 0.9428, Accuracy: 65.00%\n",
      "Epoch [25/50], Step [300/407], Loss: 0.9695, Accuracy: 60.00%\n",
      "Epoch [25/50], Step [400/407], Loss: 0.8338, Accuracy: 63.00%\n",
      "train Loss: 0.9229 Acc: 0.6660\n",
      "val Loss: 1.5764 Acc: 0.4845\n",
      "\n",
      "Epoch 26/50\n",
      "----------\n",
      "Epoch [26/50], Step [100/407], Loss: 0.7521, Accuracy: 73.00%\n"
     ]
    }
   ],
   "source": [
    "# Observe that all parameters are being optimized\n",
    "optimizer = optim.Adam(params_to_update, lr=lr_start)\n",
    "\n",
    "# Learning rate scheduler.\n",
    "scheduler = optim.lr_scheduler.CosineAnnealingWarmRestarts(optimizer, T_0=iter_restart, T_mult=mul_restart, \n",
    "                                                           eta_min=lr_end, last_epoch=-1)\n",
    "# Setup the loss fxn\n",
    "criterion = nn.CrossEntropyLoss()\n",
    "\n",
    "# Train and evaluate\n",
    "model_pyt, prof, val_history, train_history = train_model(model_pyt, data_loaders, \n",
    "                                                                                                        optimizer, scheduler,\n",
    "                                                                                                        criterion, \n",
    "                                                                                                        num_epochs=num_epochs,\n",
    "                                                                                                        num_classes=num_classes,\n",
    "                                                                                                        is_inception=(model_name==\"inceptionv3\"),\n",
    "                                                                                                        profiler=False)"
   ]
  },
  {
   "cell_type": "code",
   "execution_count": null,
   "metadata": {
    "id": "WvFygat_aiDN"
   },
   "outputs": [],
   "source": [
    "print(prof.key_averages(group_by_stack_n=5).table(sort_by='self_cpu_time_total', row_limit=50))"
   ]
  },
  {
   "cell_type": "code",
   "execution_count": null,
   "metadata": {
    "id": "uCpVT_hwTfUI"
   },
   "outputs": [],
   "source": [
    "val_acc_history"
   ]
  },
  {
   "cell_type": "code",
   "execution_count": null,
   "metadata": {
    "id": "zxF66W9XTj6V"
   },
   "outputs": [],
   "source": [
    "val_loss_history"
   ]
  },
  {
   "cell_type": "code",
   "execution_count": null,
   "metadata": {
    "id": "h_FJCS9HTjmK"
   },
   "outputs": [],
   "source": [
    "train_acc_history"
   ]
  },
  {
   "cell_type": "code",
   "execution_count": null,
   "metadata": {
    "id": "hxvgvyZmTi76"
   },
   "outputs": [],
   "source": [
    "train_loss_history"
   ]
  },
  {
   "cell_type": "code",
   "execution_count": null,
   "metadata": {
    "id": "EQ6hb3iO2mXv"
   },
   "outputs": [],
   "source": [
    "# Plot the training curves of validation accuracy vs. number\n",
    "#  of training epochs for the transfer learning method and\n",
    "#  the model trained from scratch\n",
    "vhist = []\n",
    "vhist = [h.cpu().numpy() for h in val_acc_history]\n",
    "thist = []\n",
    "thist = [h.cpu().numpy() for h in train_acc_history]\n",
    "\n",
    "plt.title(\"Accuracy vs. Number of Training Epochs\")\n",
    "plt.xlabel(\"Training Epochs\")\n",
    "plt.ylabel(\"Accuracy\")\n",
    "#plt.plot(range(1,num_epochs+1),ohist,label=\"Pretrained\")\n",
    "plt.plot(range(1,num_epochs+1),vhist,label=\"Validation\")\n",
    "plt.plot(range(1,num_epochs+1),thist,label=\"Training\")\n",
    "plt.ylim((0,1.))\n",
    "plt.xticks(np.arange(1, num_epochs+1, 1.0))\n",
    "plt.legend()\n",
    "plt.show()"
   ]
  },
  {
   "cell_type": "code",
   "execution_count": null,
   "metadata": {
    "id": "62Ct0T9ZQ0VB"
   },
   "outputs": [],
   "source": [
    "vhist"
   ]
  },
  {
   "cell_type": "code",
   "execution_count": null,
   "metadata": {
    "id": "yaGfq1DrUERa"
   },
   "outputs": [],
   "source": [
    "thist"
   ]
  },
  {
   "cell_type": "code",
   "execution_count": null,
   "metadata": {
    "id": "aXpHASjTUE_Q"
   },
   "outputs": [],
   "source": [
    "# Plot the training curves of validation accuracy vs. number\n",
    "#  of training epochs for the transfer learning method and\n",
    "#  the model trained from scratch\n",
    "vhist = []\n",
    "vhist = [h.cpu().numpy() for h in val_loss_history]\n",
    "thist = []\n",
    "thist = [h.cpu().numpy() for h in train_loss_history]\n",
    "\n",
    "plt.title(\"Loss vs. Number of Training Epochs\")\n",
    "plt.xlabel(\"Training Epochs\")\n",
    "plt.ylabel(\"Loss\")\n",
    "#plt.plot(range(1,num_epochs+1),ohist,label=\"Pretrained\")\n",
    "plt.plot(range(1,num_epochs+1),vhist,label=\"Validation\")\n",
    "plt.plot(range(1,num_epochs+1),thist,label=\"Training\")\n",
    "plt.ylim((0,1.))\n",
    "plt.xticks(np.arange(1, num_epochs+1, 1.0))\n",
    "plt.legend()\n",
    "plt.show()"
   ]
  },
  {
   "cell_type": "code",
   "execution_count": null,
   "metadata": {
    "id": "-V0VzG-wULSw"
   },
   "outputs": [],
   "source": [
    "vhist"
   ]
  },
  {
   "cell_type": "code",
   "execution_count": null,
   "metadata": {
    "id": "wqhIDAxLUMTc"
   },
   "outputs": [],
   "source": [
    "thist"
   ]
  },
  {
   "cell_type": "code",
   "execution_count": null,
   "metadata": {
    "id": "zM-dorQBJAZb"
   },
   "outputs": [],
   "source": [
    "save_model(model_ft.state_dict(), '/content/drive/MyDrive/AAI/', \n",
    "           'Efficientnet_b0_batch_96_epoch_50_num_workers_2_flip_auto_cont_sharp_model_weights.pth')"
   ]
  },
  {
   "cell_type": "code",
   "execution_count": null,
   "metadata": {
    "id": "d1n-g5EYJu4O"
   },
   "outputs": [],
   "source": []
  }
 ],
 "metadata": {
  "colab": {
   "collapsed_sections": [],
   "provenance": []
  },
  "gpuClass": "standard",
  "kernelspec": {
   "display_name": "Python 3 (ipykernel)",
   "language": "python",
   "name": "python3"
  },
  "language_info": {
   "codemirror_mode": {
    "name": "ipython",
    "version": 3
   },
   "file_extension": ".py",
   "mimetype": "text/x-python",
   "name": "python",
   "nbconvert_exporter": "python",
   "pygments_lexer": "ipython3",
   "version": "3.8.3"
  }
 },
 "nbformat": 4,
 "nbformat_minor": 4
}
