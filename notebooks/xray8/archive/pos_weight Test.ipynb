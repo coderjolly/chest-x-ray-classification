{
 "cells": [
  {
   "cell_type": "code",
   "execution_count": 1,
   "id": "99e57658-7a45-4e71-965c-ca5f9f1ef776",
   "metadata": {},
   "outputs": [],
   "source": [
    "import torch\n",
    "import torch.nn as nn\n"
   ]
  },
  {
   "cell_type": "code",
   "execution_count": 2,
   "id": "e5563136-d155-4dcb-a43d-e1c127143841",
   "metadata": {},
   "outputs": [
    {
     "name": "stdout",
     "output_type": "stream",
     "text": [
      "y: 0s: 1056, 1s: 96.0, nelement: 1152\n",
      "tensor(0.7911, grad_fn=<BinaryCrossEntropyWithLogitsBackward0>)\n",
      "tensor(1.4229, grad_fn=<BinaryCrossEntropyWithLogitsBackward0>)\n"
     ]
    }
   ],
   "source": [
    "x = torch.randn(2, 1, 24, 24, requires_grad=True)\n",
    "y = torch.zeros(2 * 1 * 24 * 24)\n",
    "y[torch.randint(0, y.nelement(), (100,))] = 1.\n",
    "y = y.view_as(x)\n",
    "print('y: 0s: {}, 1s: {}, nelement: {}'.format(\n",
    "    (y==0.).sum(), y.sum(), y.nelement()))\n",
    "\n",
    "\n",
    "criterion = nn.BCEWithLogitsLoss()\n",
    "loss = criterion(x, y)\n",
    "print(loss)\n",
    "\n",
    "criterion_weighted = nn.BCEWithLogitsLoss(pos_weight=(y==0.).sum()/y.sum())\n",
    "loss_weighted = criterion_weighted(x, y)\n",
    "print(loss_weighted)"
   ]
  },
  {
   "cell_type": "code",
   "execution_count": 3,
   "id": "3f350bd7-6e33-4759-901b-32f3cb1cc1dd",
   "metadata": {},
   "outputs": [
    {
     "data": {
      "text/plain": [
       "tensor(11.)"
      ]
     },
     "execution_count": 3,
     "metadata": {},
     "output_type": "execute_result"
    }
   ],
   "source": [
    "(y==0.).sum()/y.sum()"
   ]
  },
  {
   "cell_type": "code",
   "execution_count": 4,
   "id": "bf54a73e-bb3c-46dd-9979-0564c434b32e",
   "metadata": {},
   "outputs": [
    {
     "data": {
      "text/plain": [
       "tensor(1056)"
      ]
     },
     "execution_count": 4,
     "metadata": {},
     "output_type": "execute_result"
    }
   ],
   "source": [
    "(y==0.).sum()"
   ]
  },
  {
   "cell_type": "code",
   "execution_count": 5,
   "id": "814d5754-9ebb-4a2b-a9d4-f94ed9fb7b09",
   "metadata": {},
   "outputs": [
    {
     "data": {
      "text/plain": [
       "tensor(96.)"
      ]
     },
     "execution_count": 5,
     "metadata": {},
     "output_type": "execute_result"
    }
   ],
   "source": [
    "y.sum()"
   ]
  },
  {
   "cell_type": "code",
   "execution_count": null,
   "id": "91120428-b323-4ce7-9425-ebcc92c7028a",
   "metadata": {},
   "outputs": [],
   "source": []
  }
 ],
 "metadata": {
  "kernelspec": {
   "display_name": "Python 3 (ipykernel)",
   "language": "python",
   "name": "python3"
  },
  "language_info": {
   "codemirror_mode": {
    "name": "ipython",
    "version": 3
   },
   "file_extension": ".py",
   "mimetype": "text/x-python",
   "name": "python",
   "nbconvert_exporter": "python",
   "pygments_lexer": "ipython3",
   "version": "3.9.13"
  }
 },
 "nbformat": 4,
 "nbformat_minor": 5
}
